{
 "cells": [
  {
   "cell_type": "code",
   "execution_count": 1,
   "id": "19d1c6bb-2f6e-4da8-a1d2-5da2ee4acb0f",
   "metadata": {
    "tags": []
   },
   "outputs": [],
   "source": [
    "# hide\n",
    "# all_slow"
   ]
  },
  {
   "cell_type": "code",
   "execution_count": 2,
   "id": "35785d4a-5357-4390-9b2b-22e58d6df2de",
   "metadata": {},
   "outputs": [],
   "source": [
    "# hide\n",
    "# no_test\n",
    "![ -e /content ] && pip install -Uqq geowrangler"
   ]
  },
  {
   "cell_type": "markdown",
   "id": "47a7c01c-8e9a-4743-9143-bfa2bb606272",
   "metadata": {},
   "source": [
    "# DHS Wealth Index\n",
    "> Basic Introduction to in processing dhs data"
   ]
  },
  {
   "cell_type": "code",
   "execution_count": 3,
   "id": "c199e202-6633-4536-a4f4-b408f9cd7519",
   "metadata": {},
   "outputs": [],
   "source": [
    "%reload_ext autoreload\n",
    "%autoreload 2"
   ]
  },
  {
   "cell_type": "markdown",
   "id": "0cab4fe6-360c-4ca6-8c02-00cc25360dc9",
   "metadata": {},
   "source": [
    "## Loading DHS Data\n",
    "Note: This data is mocked data"
   ]
  },
  {
   "cell_type": "code",
   "execution_count": 4,
   "id": "edac19e8-6cd2-4def-9e7e-f9c45a48d003",
   "metadata": {},
   "outputs": [],
   "source": [
    "import geopandas as gpd\n",
    "import pandas as pd\n",
    "\n",
    "from geowrangler import dhs"
   ]
  },
  {
   "cell_type": "code",
   "execution_count": 24,
   "id": "e9fd8f77-f10d-425c-90df-ae28a9feadc9",
   "metadata": {},
   "outputs": [],
   "source": [
    "dhs_household_data_path = \"../data/ph.DTA\"\n",
    "dhs_gps_coordinates = \"../data/ph_gps.shp\""
   ]
  },
  {
   "cell_type": "code",
   "execution_count": 6,
   "id": "d252ff00-0f96-4071-aaba-f597c2d3a6ca",
   "metadata": {},
   "outputs": [
    {
     "name": "stdout",
     "output_type": "stream",
     "text": [
      "CPU times: user 23.6 ms, sys: 3.92 ms, total: 27.5 ms\n",
      "Wall time: 26.8 ms\n"
     ]
    }
   ],
   "source": [
    "%%time\n",
    "dhs_df = dhs.load_dhs_file(dhs_household_data_path)"
   ]
  },
  {
   "cell_type": "code",
   "execution_count": 7,
   "id": "b5efe942-bad0-405e-8b71-ac5f864748db",
   "metadata": {},
   "outputs": [
    {
     "data": {
      "text/html": [
       "<div>\n",
       "<style scoped>\n",
       "    .dataframe tbody tr th:only-of-type {\n",
       "        vertical-align: middle;\n",
       "    }\n",
       "\n",
       "    .dataframe tbody tr th {\n",
       "        vertical-align: top;\n",
       "    }\n",
       "\n",
       "    .dataframe thead th {\n",
       "        text-align: right;\n",
       "    }\n",
       "</style>\n",
       "<table border=\"1\" class=\"dataframe\">\n",
       "  <thead>\n",
       "    <tr style=\"text-align: right;\">\n",
       "      <th></th>\n",
       "      <th></th>\n",
       "      <th>country code and phase</th>\n",
       "      <th>cluster number</th>\n",
       "      <th>source of drinking water</th>\n",
       "      <th>type of toilet facility</th>\n",
       "      <th>has electricity</th>\n",
       "      <th>has radio</th>\n",
       "      <th>has television</th>\n",
       "      <th>has refrigerator</th>\n",
       "      <th>has motorcycle/scooter</th>\n",
       "      <th>has car/truck</th>\n",
       "      <th>main floor material</th>\n",
       "      <th>number of rooms used for sleeping</th>\n",
       "      <th>has mobile telephone</th>\n",
       "      <th>wealth index factor score combined (5 decimals)</th>\n",
       "    </tr>\n",
       "  </thead>\n",
       "  <tbody>\n",
       "    <tr>\n",
       "      <th>0</th>\n",
       "      <td>0</td>\n",
       "      <td>PH7</td>\n",
       "      <td>725</td>\n",
       "      <td>80</td>\n",
       "      <td>61</td>\n",
       "      <td>0</td>\n",
       "      <td>1</td>\n",
       "      <td>0</td>\n",
       "      <td>1</td>\n",
       "      <td>1</td>\n",
       "      <td>1</td>\n",
       "      <td>74</td>\n",
       "      <td>20</td>\n",
       "      <td>0</td>\n",
       "      <td>-168581</td>\n",
       "    </tr>\n",
       "    <tr>\n",
       "      <th>1</th>\n",
       "      <td>1</td>\n",
       "      <td>PH7</td>\n",
       "      <td>1009</td>\n",
       "      <td>19</td>\n",
       "      <td>92</td>\n",
       "      <td>1</td>\n",
       "      <td>1</td>\n",
       "      <td>1</td>\n",
       "      <td>1</td>\n",
       "      <td>1</td>\n",
       "      <td>0</td>\n",
       "      <td>51</td>\n",
       "      <td>15</td>\n",
       "      <td>1</td>\n",
       "      <td>127550</td>\n",
       "    </tr>\n",
       "    <tr>\n",
       "      <th>2</th>\n",
       "      <td>2</td>\n",
       "      <td>PH7</td>\n",
       "      <td>1072</td>\n",
       "      <td>91</td>\n",
       "      <td>58</td>\n",
       "      <td>1</td>\n",
       "      <td>1</td>\n",
       "      <td>0</td>\n",
       "      <td>1</td>\n",
       "      <td>1</td>\n",
       "      <td>1</td>\n",
       "      <td>26</td>\n",
       "      <td>5</td>\n",
       "      <td>0</td>\n",
       "      <td>32616</td>\n",
       "    </tr>\n",
       "    <tr>\n",
       "      <th>3</th>\n",
       "      <td>3</td>\n",
       "      <td>PH7</td>\n",
       "      <td>242</td>\n",
       "      <td>39</td>\n",
       "      <td>93</td>\n",
       "      <td>0</td>\n",
       "      <td>1</td>\n",
       "      <td>0</td>\n",
       "      <td>0</td>\n",
       "      <td>0</td>\n",
       "      <td>1</td>\n",
       "      <td>76</td>\n",
       "      <td>11</td>\n",
       "      <td>0</td>\n",
       "      <td>80338</td>\n",
       "    </tr>\n",
       "    <tr>\n",
       "      <th>4</th>\n",
       "      <td>4</td>\n",
       "      <td>PH7</td>\n",
       "      <td>102</td>\n",
       "      <td>11</td>\n",
       "      <td>27</td>\n",
       "      <td>0</td>\n",
       "      <td>0</td>\n",
       "      <td>1</td>\n",
       "      <td>1</td>\n",
       "      <td>1</td>\n",
       "      <td>0</td>\n",
       "      <td>56</td>\n",
       "      <td>15</td>\n",
       "      <td>0</td>\n",
       "      <td>-178758</td>\n",
       "    </tr>\n",
       "  </tbody>\n",
       "</table>\n",
       "</div>"
      ],
      "text/plain": [
       "     country code and phase  cluster number  source of drinking water  \\\n",
       "0  0                    PH7             725                        80   \n",
       "1  1                    PH7            1009                        19   \n",
       "2  2                    PH7            1072                        91   \n",
       "3  3                    PH7             242                        39   \n",
       "4  4                    PH7             102                        11   \n",
       "\n",
       "   type of toilet facility  has electricity  has radio  has television  \\\n",
       "0                       61                0          1               0   \n",
       "1                       92                1          1               1   \n",
       "2                       58                1          1               0   \n",
       "3                       93                0          1               0   \n",
       "4                       27                0          0               1   \n",
       "\n",
       "   has refrigerator  has motorcycle/scooter  has car/truck  \\\n",
       "0                 1                       1              1   \n",
       "1                 1                       1              0   \n",
       "2                 1                       1              1   \n",
       "3                 0                       0              1   \n",
       "4                 1                       1              0   \n",
       "\n",
       "   main floor material  number of rooms used for sleeping  \\\n",
       "0                   74                                 20   \n",
       "1                   51                                 15   \n",
       "2                   26                                  5   \n",
       "3                   76                                 11   \n",
       "4                   56                                 15   \n",
       "\n",
       "   has mobile telephone  wealth index factor score combined (5 decimals)  \n",
       "0                     0                                          -168581  \n",
       "1                     1                                           127550  \n",
       "2                     0                                            32616  \n",
       "3                     0                                            80338  \n",
       "4                     0                                          -178758  "
      ]
     },
     "execution_count": 7,
     "metadata": {},
     "output_type": "execute_result"
    }
   ],
   "source": [
    "dhs_df.head()"
   ]
  },
  {
   "cell_type": "markdown",
   "id": "3f082e10-f85e-4d0b-9ff2-70758ca020cb",
   "metadata": {},
   "source": [
    "## Renaming columns to match\n",
    "DHS files do not have uniform column names. To make analysis easier, we rename commonnly ones. Feel free to extend the config to your usecase."
   ]
  },
  {
   "cell_type": "code",
   "execution_count": 8,
   "id": "5912dee5-e816-46b3-8307-e0728ee952f5",
   "metadata": {},
   "outputs": [
    {
     "data": {
      "text/plain": [
       "{'cluster number': 'DHSCLUST',\n",
       " 'wealth index factor score combined (5 decimals)': 'Wealth Index',\n",
       " 'country code and phase': 'country code and phase',\n",
       " 'number of rooms used for sleeping': 'rooms',\n",
       " 'has electricity': 'electric',\n",
       " 'has mobile telephone': 'mobile telephone',\n",
       " 'has radio': 'radio',\n",
       " 'has television': 'television',\n",
       " 'has car/truck': 'car/truck',\n",
       " 'has refrigerator': 'refrigerator',\n",
       " 'has motorcycle/scooter': 'motorcycle',\n",
       " 'main floor material': 'floor',\n",
       " 'type of toilet facility': 'toilet',\n",
       " 'source of drinking water': 'drinking water'}"
      ]
     },
     "execution_count": 8,
     "metadata": {},
     "output_type": "execute_result"
    }
   ],
   "source": [
    "ph_config = dhs.load_column_config(\"ph\")\n",
    "ph_config"
   ]
  },
  {
   "cell_type": "code",
   "execution_count": 11,
   "id": "421c30fc-046c-431b-8a3b-e5e0352b5d18",
   "metadata": {},
   "outputs": [],
   "source": [
    "renamed_dhs_df = dhs_df.rename(columns=ph_config)"
   ]
  },
  {
   "cell_type": "code",
   "execution_count": 12,
   "id": "e880f321-501c-477e-919a-c4cc4737828e",
   "metadata": {},
   "outputs": [
    {
     "data": {
      "text/html": [
       "<div>\n",
       "<style scoped>\n",
       "    .dataframe tbody tr th:only-of-type {\n",
       "        vertical-align: middle;\n",
       "    }\n",
       "\n",
       "    .dataframe tbody tr th {\n",
       "        vertical-align: top;\n",
       "    }\n",
       "\n",
       "    .dataframe thead th {\n",
       "        text-align: right;\n",
       "    }\n",
       "</style>\n",
       "<table border=\"1\" class=\"dataframe\">\n",
       "  <thead>\n",
       "    <tr style=\"text-align: right;\">\n",
       "      <th></th>\n",
       "      <th></th>\n",
       "      <th>country code and phase</th>\n",
       "      <th>DHSCLUST</th>\n",
       "      <th>drinking water</th>\n",
       "      <th>toilet</th>\n",
       "      <th>electric</th>\n",
       "      <th>radio</th>\n",
       "      <th>television</th>\n",
       "      <th>refrigerator</th>\n",
       "      <th>motorcycle</th>\n",
       "      <th>car/truck</th>\n",
       "      <th>floor</th>\n",
       "      <th>rooms</th>\n",
       "      <th>mobile telephone</th>\n",
       "      <th>Wealth Index</th>\n",
       "    </tr>\n",
       "  </thead>\n",
       "  <tbody>\n",
       "    <tr>\n",
       "      <th>0</th>\n",
       "      <td>0</td>\n",
       "      <td>PH7</td>\n",
       "      <td>725</td>\n",
       "      <td>80</td>\n",
       "      <td>61</td>\n",
       "      <td>0</td>\n",
       "      <td>1</td>\n",
       "      <td>0</td>\n",
       "      <td>1</td>\n",
       "      <td>1</td>\n",
       "      <td>1</td>\n",
       "      <td>74</td>\n",
       "      <td>20</td>\n",
       "      <td>0</td>\n",
       "      <td>-168581</td>\n",
       "    </tr>\n",
       "    <tr>\n",
       "      <th>1</th>\n",
       "      <td>1</td>\n",
       "      <td>PH7</td>\n",
       "      <td>1009</td>\n",
       "      <td>19</td>\n",
       "      <td>92</td>\n",
       "      <td>1</td>\n",
       "      <td>1</td>\n",
       "      <td>1</td>\n",
       "      <td>1</td>\n",
       "      <td>1</td>\n",
       "      <td>0</td>\n",
       "      <td>51</td>\n",
       "      <td>15</td>\n",
       "      <td>1</td>\n",
       "      <td>127550</td>\n",
       "    </tr>\n",
       "    <tr>\n",
       "      <th>2</th>\n",
       "      <td>2</td>\n",
       "      <td>PH7</td>\n",
       "      <td>1072</td>\n",
       "      <td>91</td>\n",
       "      <td>58</td>\n",
       "      <td>1</td>\n",
       "      <td>1</td>\n",
       "      <td>0</td>\n",
       "      <td>1</td>\n",
       "      <td>1</td>\n",
       "      <td>1</td>\n",
       "      <td>26</td>\n",
       "      <td>5</td>\n",
       "      <td>0</td>\n",
       "      <td>32616</td>\n",
       "    </tr>\n",
       "    <tr>\n",
       "      <th>3</th>\n",
       "      <td>3</td>\n",
       "      <td>PH7</td>\n",
       "      <td>242</td>\n",
       "      <td>39</td>\n",
       "      <td>93</td>\n",
       "      <td>0</td>\n",
       "      <td>1</td>\n",
       "      <td>0</td>\n",
       "      <td>0</td>\n",
       "      <td>0</td>\n",
       "      <td>1</td>\n",
       "      <td>76</td>\n",
       "      <td>11</td>\n",
       "      <td>0</td>\n",
       "      <td>80338</td>\n",
       "    </tr>\n",
       "    <tr>\n",
       "      <th>4</th>\n",
       "      <td>4</td>\n",
       "      <td>PH7</td>\n",
       "      <td>102</td>\n",
       "      <td>11</td>\n",
       "      <td>27</td>\n",
       "      <td>0</td>\n",
       "      <td>0</td>\n",
       "      <td>1</td>\n",
       "      <td>1</td>\n",
       "      <td>1</td>\n",
       "      <td>0</td>\n",
       "      <td>56</td>\n",
       "      <td>15</td>\n",
       "      <td>0</td>\n",
       "      <td>-178758</td>\n",
       "    </tr>\n",
       "  </tbody>\n",
       "</table>\n",
       "</div>"
      ],
      "text/plain": [
       "     country code and phase  DHSCLUST  drinking water  toilet  electric  \\\n",
       "0  0                    PH7       725              80      61         0   \n",
       "1  1                    PH7      1009              19      92         1   \n",
       "2  2                    PH7      1072              91      58         1   \n",
       "3  3                    PH7       242              39      93         0   \n",
       "4  4                    PH7       102              11      27         0   \n",
       "\n",
       "   radio  television  refrigerator  motorcycle  car/truck  floor  rooms  \\\n",
       "0      1           0             1           1          1     74     20   \n",
       "1      1           1             1           1          0     51     15   \n",
       "2      1           0             1           1          1     26      5   \n",
       "3      1           0             0           0          1     76     11   \n",
       "4      0           1             1           1          0     56     15   \n",
       "\n",
       "   mobile telephone  Wealth Index  \n",
       "0                 0       -168581  \n",
       "1                 1        127550  \n",
       "2                 0         32616  \n",
       "3                 0         80338  \n",
       "4                 0       -178758  "
      ]
     },
     "execution_count": 12,
     "metadata": {},
     "output_type": "execute_result"
    }
   ],
   "source": [
    "renamed_dhs_df.head()"
   ]
  },
  {
   "cell_type": "markdown",
   "id": "8d0b0163-31b2-4c64-9919-f72535f82614",
   "metadata": {
    "tags": []
   },
   "source": [
    "## Cluster Summaries"
   ]
  },
  {
   "cell_type": "code",
   "execution_count": 13,
   "id": "85967a79-8ff0-4ff6-9ddc-b0ba7a53b0f9",
   "metadata": {},
   "outputs": [],
   "source": [
    "wealth_col_name = \"Wealth Index\"\n",
    "cluster_col_name = \"DHSCLUST\""
   ]
  },
  {
   "cell_type": "code",
   "execution_count": 14,
   "id": "fe813a03-7b9a-447c-8140-f3abb3e5b34e",
   "metadata": {
    "tags": []
   },
   "outputs": [],
   "source": [
    "summarized = (\n",
    "    renamed_dhs_df[[wealth_col_name, cluster_col_name]].groupby(cluster_col_name).mean()\n",
    ")\n",
    "summarized.reset_index(inplace=True)"
   ]
  },
  {
   "cell_type": "code",
   "execution_count": 15,
   "id": "22e2572e-3c55-4639-bfc5-5e5d002f2c5d",
   "metadata": {},
   "outputs": [
    {
     "data": {
      "text/html": [
       "<div>\n",
       "<style scoped>\n",
       "    .dataframe tbody tr th:only-of-type {\n",
       "        vertical-align: middle;\n",
       "    }\n",
       "\n",
       "    .dataframe tbody tr th {\n",
       "        vertical-align: top;\n",
       "    }\n",
       "\n",
       "    .dataframe thead th {\n",
       "        text-align: right;\n",
       "    }\n",
       "</style>\n",
       "<table border=\"1\" class=\"dataframe\">\n",
       "  <thead>\n",
       "    <tr style=\"text-align: right;\">\n",
       "      <th></th>\n",
       "      <th>DHSCLUST</th>\n",
       "      <th>Wealth Index</th>\n",
       "    </tr>\n",
       "  </thead>\n",
       "  <tbody>\n",
       "    <tr>\n",
       "      <th>0</th>\n",
       "      <td>3</td>\n",
       "      <td>-232188.0</td>\n",
       "    </tr>\n",
       "    <tr>\n",
       "      <th>1</th>\n",
       "      <td>4</td>\n",
       "      <td>228860.0</td>\n",
       "    </tr>\n",
       "    <tr>\n",
       "      <th>2</th>\n",
       "      <td>5</td>\n",
       "      <td>157620.0</td>\n",
       "    </tr>\n",
       "    <tr>\n",
       "      <th>3</th>\n",
       "      <td>6</td>\n",
       "      <td>40308.5</td>\n",
       "    </tr>\n",
       "    <tr>\n",
       "      <th>4</th>\n",
       "      <td>7</td>\n",
       "      <td>-37595.5</td>\n",
       "    </tr>\n",
       "  </tbody>\n",
       "</table>\n",
       "</div>"
      ],
      "text/plain": [
       "   DHSCLUST  Wealth Index\n",
       "0         3     -232188.0\n",
       "1         4      228860.0\n",
       "2         5      157620.0\n",
       "3         6       40308.5\n",
       "4         7      -37595.5"
      ]
     },
     "execution_count": 15,
     "metadata": {},
     "output_type": "execute_result"
    }
   ],
   "source": [
    "summarized.head()"
   ]
  },
  {
   "cell_type": "code",
   "execution_count": 16,
   "id": "94b979ed-4a44-46a0-9604-3ff9032cedb8",
   "metadata": {
    "tags": []
   },
   "outputs": [
    {
     "data": {
      "text/plain": [
       "679"
      ]
     },
     "execution_count": 16,
     "metadata": {},
     "output_type": "execute_result"
    }
   ],
   "source": [
    "len(summarized)"
   ]
  },
  {
   "cell_type": "code",
   "execution_count": 17,
   "id": "c82b9dd2-0710-4ba6-bdde-d892cd2003d0",
   "metadata": {},
   "outputs": [
    {
     "data": {
      "text/plain": [
       "0"
      ]
     },
     "execution_count": 17,
     "metadata": {},
     "output_type": "execute_result"
    }
   ],
   "source": [
    "summarized.DHSCLUST.isna().sum()"
   ]
  },
  {
   "cell_type": "code",
   "execution_count": 18,
   "id": "dd6f77e9-872f-4fe2-b6e5-d2c192ecd31f",
   "metadata": {},
   "outputs": [
    {
     "data": {
      "text/plain": [
       "0"
      ]
     },
     "execution_count": 18,
     "metadata": {},
     "output_type": "execute_result"
    }
   ],
   "source": [
    "summarized.DHSCLUST.isna().sum()"
   ]
  },
  {
   "cell_type": "code",
   "execution_count": 25,
   "id": "f1d3a545-9b18-4279-885d-e5347f75c8e5",
   "metadata": {},
   "outputs": [],
   "source": [
    "dhs_shp = gpd.read_file(dhs_gps_coordinates)"
   ]
  },
  {
   "cell_type": "code",
   "execution_count": 26,
   "id": "6e560d67-296b-42a5-ab71-f6924046cc8d",
   "metadata": {},
   "outputs": [
    {
     "data": {
      "text/html": [
       "<div>\n",
       "<style scoped>\n",
       "    .dataframe tbody tr th:only-of-type {\n",
       "        vertical-align: middle;\n",
       "    }\n",
       "\n",
       "    .dataframe tbody tr th {\n",
       "        vertical-align: top;\n",
       "    }\n",
       "\n",
       "    .dataframe thead th {\n",
       "        text-align: right;\n",
       "    }\n",
       "</style>\n",
       "<table border=\"1\" class=\"dataframe\">\n",
       "  <thead>\n",
       "    <tr style=\"text-align: right;\">\n",
       "      <th></th>\n",
       "      <th>DHSID</th>\n",
       "      <th>DHSCC</th>\n",
       "      <th>DHSYEAR</th>\n",
       "      <th>DHSCLUST</th>\n",
       "      <th>LATNUM</th>\n",
       "      <th>LONGNUM</th>\n",
       "      <th>geometry</th>\n",
       "    </tr>\n",
       "  </thead>\n",
       "  <tbody>\n",
       "    <tr>\n",
       "      <th>0</th>\n",
       "      <td>PH20XX725</td>\n",
       "      <td>PH</td>\n",
       "      <td>0</td>\n",
       "      <td>725</td>\n",
       "      <td>0.409441</td>\n",
       "      <td>0.220510</td>\n",
       "      <td>POINT (0.22051 0.40944)</td>\n",
       "    </tr>\n",
       "    <tr>\n",
       "      <th>1</th>\n",
       "      <td>PH20XX1009</td>\n",
       "      <td>PH</td>\n",
       "      <td>0</td>\n",
       "      <td>1009</td>\n",
       "      <td>0.333693</td>\n",
       "      <td>0.332499</td>\n",
       "      <td>POINT (0.33250 0.33369)</td>\n",
       "    </tr>\n",
       "    <tr>\n",
       "      <th>2</th>\n",
       "      <td>PH20XX1072</td>\n",
       "      <td>PH</td>\n",
       "      <td>0</td>\n",
       "      <td>1072</td>\n",
       "      <td>0.378053</td>\n",
       "      <td>0.089852</td>\n",
       "      <td>POINT (0.08985 0.37805)</td>\n",
       "    </tr>\n",
       "    <tr>\n",
       "      <th>3</th>\n",
       "      <td>PH20XX242</td>\n",
       "      <td>PH</td>\n",
       "      <td>0</td>\n",
       "      <td>242</td>\n",
       "      <td>0.306277</td>\n",
       "      <td>0.431677</td>\n",
       "      <td>POINT (0.43168 0.30628)</td>\n",
       "    </tr>\n",
       "    <tr>\n",
       "      <th>4</th>\n",
       "      <td>PH20XX102</td>\n",
       "      <td>PH</td>\n",
       "      <td>0</td>\n",
       "      <td>102</td>\n",
       "      <td>0.535456</td>\n",
       "      <td>0.716025</td>\n",
       "      <td>POINT (0.71602 0.53546)</td>\n",
       "    </tr>\n",
       "  </tbody>\n",
       "</table>\n",
       "</div>"
      ],
      "text/plain": [
       "        DHSID DHSCC  DHSYEAR  DHSCLUST    LATNUM   LONGNUM  \\\n",
       "0   PH20XX725    PH        0       725  0.409441  0.220510   \n",
       "1  PH20XX1009    PH        0      1009  0.333693  0.332499   \n",
       "2  PH20XX1072    PH        0      1072  0.378053  0.089852   \n",
       "3   PH20XX242    PH        0       242  0.306277  0.431677   \n",
       "4   PH20XX102    PH        0       102  0.535456  0.716025   \n",
       "\n",
       "                  geometry  \n",
       "0  POINT (0.22051 0.40944)  \n",
       "1  POINT (0.33250 0.33369)  \n",
       "2  POINT (0.08985 0.37805)  \n",
       "3  POINT (0.43168 0.30628)  \n",
       "4  POINT (0.71602 0.53546)  "
      ]
     },
     "execution_count": 26,
     "metadata": {},
     "output_type": "execute_result"
    }
   ],
   "source": [
    "dhs_shp.head()"
   ]
  },
  {
   "cell_type": "code",
   "execution_count": 27,
   "id": "e023089e-d5d8-4fa7-8954-457a509ffe61",
   "metadata": {},
   "outputs": [
    {
     "data": {
      "text/html": [
       "<div>\n",
       "<style scoped>\n",
       "    .dataframe tbody tr th:only-of-type {\n",
       "        vertical-align: middle;\n",
       "    }\n",
       "\n",
       "    .dataframe tbody tr th {\n",
       "        vertical-align: top;\n",
       "    }\n",
       "\n",
       "    .dataframe thead th {\n",
       "        text-align: right;\n",
       "    }\n",
       "</style>\n",
       "<table border=\"1\" class=\"dataframe\">\n",
       "  <thead>\n",
       "    <tr style=\"text-align: right;\">\n",
       "      <th></th>\n",
       "      <th>DHSCLUST</th>\n",
       "      <th>Wealth Index</th>\n",
       "      <th>DHSID</th>\n",
       "      <th>DHSCC</th>\n",
       "      <th>DHSYEAR</th>\n",
       "      <th>LATNUM</th>\n",
       "      <th>LONGNUM</th>\n",
       "      <th>geometry</th>\n",
       "    </tr>\n",
       "  </thead>\n",
       "  <tbody>\n",
       "    <tr>\n",
       "      <th>0</th>\n",
       "      <td>3</td>\n",
       "      <td>-232188.000000</td>\n",
       "      <td>PH20XX003</td>\n",
       "      <td>PH</td>\n",
       "      <td>0</td>\n",
       "      <td>0.609945</td>\n",
       "      <td>0.350830</td>\n",
       "      <td>POINT (0.35083 0.60995)</td>\n",
       "    </tr>\n",
       "    <tr>\n",
       "      <th>1</th>\n",
       "      <td>4</td>\n",
       "      <td>228860.000000</td>\n",
       "      <td>PH20XX004</td>\n",
       "      <td>PH</td>\n",
       "      <td>0</td>\n",
       "      <td>0.363843</td>\n",
       "      <td>0.281563</td>\n",
       "      <td>POINT (0.28156 0.36384)</td>\n",
       "    </tr>\n",
       "    <tr>\n",
       "      <th>2</th>\n",
       "      <td>5</td>\n",
       "      <td>157620.000000</td>\n",
       "      <td>PH20XX005</td>\n",
       "      <td>PH</td>\n",
       "      <td>0</td>\n",
       "      <td>0.715438</td>\n",
       "      <td>0.145014</td>\n",
       "      <td>POINT (0.14501 0.71544)</td>\n",
       "    </tr>\n",
       "    <tr>\n",
       "      <th>3</th>\n",
       "      <td>6</td>\n",
       "      <td>40308.500000</td>\n",
       "      <td>PH20XX006</td>\n",
       "      <td>PH</td>\n",
       "      <td>0</td>\n",
       "      <td>0.758501</td>\n",
       "      <td>0.628373</td>\n",
       "      <td>POINT (0.62837 0.75850)</td>\n",
       "    </tr>\n",
       "    <tr>\n",
       "      <th>4</th>\n",
       "      <td>6</td>\n",
       "      <td>40308.500000</td>\n",
       "      <td>PH20XX006</td>\n",
       "      <td>PH</td>\n",
       "      <td>0</td>\n",
       "      <td>0.669415</td>\n",
       "      <td>0.479379</td>\n",
       "      <td>POINT (0.47938 0.66942)</td>\n",
       "    </tr>\n",
       "    <tr>\n",
       "      <th>...</th>\n",
       "      <td>...</td>\n",
       "      <td>...</td>\n",
       "      <td>...</td>\n",
       "      <td>...</td>\n",
       "      <td>...</td>\n",
       "      <td>...</td>\n",
       "      <td>...</td>\n",
       "      <td>...</td>\n",
       "    </tr>\n",
       "    <tr>\n",
       "      <th>995</th>\n",
       "      <td>1247</td>\n",
       "      <td>90273.333333</td>\n",
       "      <td>PH20XX1247</td>\n",
       "      <td>PH</td>\n",
       "      <td>0</td>\n",
       "      <td>0.214682</td>\n",
       "      <td>0.419448</td>\n",
       "      <td>POINT (0.41945 0.21468)</td>\n",
       "    </tr>\n",
       "    <tr>\n",
       "      <th>996</th>\n",
       "      <td>1248</td>\n",
       "      <td>212729.500000</td>\n",
       "      <td>PH20XX1248</td>\n",
       "      <td>PH</td>\n",
       "      <td>0</td>\n",
       "      <td>0.189401</td>\n",
       "      <td>0.152806</td>\n",
       "      <td>POINT (0.15281 0.18940)</td>\n",
       "    </tr>\n",
       "    <tr>\n",
       "      <th>997</th>\n",
       "      <td>1248</td>\n",
       "      <td>212729.500000</td>\n",
       "      <td>PH20XX1248</td>\n",
       "      <td>PH</td>\n",
       "      <td>0</td>\n",
       "      <td>0.563460</td>\n",
       "      <td>0.023900</td>\n",
       "      <td>POINT (0.02390 0.56346)</td>\n",
       "    </tr>\n",
       "    <tr>\n",
       "      <th>998</th>\n",
       "      <td>1250</td>\n",
       "      <td>101508.500000</td>\n",
       "      <td>PH20XX1250</td>\n",
       "      <td>PH</td>\n",
       "      <td>0</td>\n",
       "      <td>0.166465</td>\n",
       "      <td>0.617584</td>\n",
       "      <td>POINT (0.61758 0.16646)</td>\n",
       "    </tr>\n",
       "    <tr>\n",
       "      <th>999</th>\n",
       "      <td>1250</td>\n",
       "      <td>101508.500000</td>\n",
       "      <td>PH20XX1250</td>\n",
       "      <td>PH</td>\n",
       "      <td>0</td>\n",
       "      <td>0.252438</td>\n",
       "      <td>0.668243</td>\n",
       "      <td>POINT (0.66824 0.25244)</td>\n",
       "    </tr>\n",
       "  </tbody>\n",
       "</table>\n",
       "<p>1000 rows × 8 columns</p>\n",
       "</div>"
      ],
      "text/plain": [
       "     DHSCLUST   Wealth Index       DHSID DHSCC  DHSYEAR    LATNUM   LONGNUM  \\\n",
       "0           3 -232188.000000   PH20XX003    PH        0  0.609945  0.350830   \n",
       "1           4  228860.000000   PH20XX004    PH        0  0.363843  0.281563   \n",
       "2           5  157620.000000   PH20XX005    PH        0  0.715438  0.145014   \n",
       "3           6   40308.500000   PH20XX006    PH        0  0.758501  0.628373   \n",
       "4           6   40308.500000   PH20XX006    PH        0  0.669415  0.479379   \n",
       "..        ...            ...         ...   ...      ...       ...       ...   \n",
       "995      1247   90273.333333  PH20XX1247    PH        0  0.214682  0.419448   \n",
       "996      1248  212729.500000  PH20XX1248    PH        0  0.189401  0.152806   \n",
       "997      1248  212729.500000  PH20XX1248    PH        0  0.563460  0.023900   \n",
       "998      1250  101508.500000  PH20XX1250    PH        0  0.166465  0.617584   \n",
       "999      1250  101508.500000  PH20XX1250    PH        0  0.252438  0.668243   \n",
       "\n",
       "                    geometry  \n",
       "0    POINT (0.35083 0.60995)  \n",
       "1    POINT (0.28156 0.36384)  \n",
       "2    POINT (0.14501 0.71544)  \n",
       "3    POINT (0.62837 0.75850)  \n",
       "4    POINT (0.47938 0.66942)  \n",
       "..                       ...  \n",
       "995  POINT (0.41945 0.21468)  \n",
       "996  POINT (0.15281 0.18940)  \n",
       "997  POINT (0.02390 0.56346)  \n",
       "998  POINT (0.61758 0.16646)  \n",
       "999  POINT (0.66824 0.25244)  \n",
       "\n",
       "[1000 rows x 8 columns]"
      ]
     },
     "execution_count": 27,
     "metadata": {},
     "output_type": "execute_result"
    }
   ],
   "source": [
    "survey_geo = pd.merge(summarized, dhs_shp, on=\"DHSCLUST\")\n",
    "survey_geo"
   ]
  },
  {
   "cell_type": "markdown",
   "id": "aba79166-cc63-4a97-a1ec-7aca23099573",
   "metadata": {},
   "source": [
    "## Recalculating wealth index for a single country"
   ]
  },
  {
   "cell_type": "code",
   "execution_count": null,
   "id": "44a1b11a-c1d4-43b3-b000-b7900c5b0c69",
   "metadata": {},
   "outputs": [],
   "source": [
    "features = [\n",
    "    \"rooms\",\n",
    "    \"electric\",\n",
    "    \"mobile telephone\",\n",
    "    \"radio\",\n",
    "    \"television\",\n",
    "    \"car/truck\",\n",
    "    \"refrigerator\",\n",
    "    \"motorcycle\",\n",
    "    \"floor\",\n",
    "    \"toilet\",\n",
    "    \"drinking water\",\n",
    "]"
   ]
  },
  {
   "cell_type": "code",
   "execution_count": null,
   "id": "cd99e58e-26c1-4be7-ba08-e4ada53dd8a8",
   "metadata": {},
   "outputs": [],
   "source": [
    "# apply a threshold\n",
    "dhs.apply_threshold(renamed_dhs_df, columns=features, config={\"rooms\": [0, 25]})"
   ]
  },
  {
   "cell_type": "code",
   "execution_count": null,
   "id": "f4b1774a-6a4a-4ff0-9326-f5d5c3819aca",
   "metadata": {},
   "outputs": [],
   "source": [
    "renamed_dhs_df[\"Recomputed Wealth Index\"] = dhs.assign_wealth_index(\n",
    "    renamed_dhs_df[features], features\n",
    ")\n",
    "renamed_dhs_df.head()"
   ]
  },
  {
   "cell_type": "markdown",
   "id": "56f9592f-1286-45bf-92b9-afd86b99e397",
   "metadata": {},
   "source": [
    "## Recalculating wealth index for multiple countries"
   ]
  },
  {
   "cell_type": "code",
   "execution_count": null,
   "id": "51ce81aa-ef8c-4aaf-89f8-d51df6831c0c",
   "metadata": {},
   "outputs": [],
   "source": [
    "dhs_ph_path = \"../data/ph.DTA\"\n",
    "dhs_kh_path = \"../data/kh.DTA\"\n",
    "dhs_mm_path = \"../data/mm.DTA\"\n",
    "dhs_tl_path = \"../data/tl.DTA\"\n",
    "ph_config = dhs.load_column_config(\"ph\")\n",
    "kh_config = dhs.load_column_config(\"kh\")\n",
    "mm_config = dhs.load_column_config(\"mm\")\n",
    "tl_config = dhs.load_column_config(\"tl\")\n",
    "dhs_ph_df = dhs.load_dhs_file(dhs_ph_path).rename(columns=ph_config)\n",
    "dhs_kh_df = dhs.load_dhs_file(dhs_kh_path).rename(columns=kh_config)\n",
    "dhs_mm_df = dhs.load_dhs_file(dhs_mm_path).rename(columns=mm_config)\n",
    "dhs_tl_df = dhs.load_dhs_file(dhs_tl_path).rename(columns=tl_config)"
   ]
  },
  {
   "cell_type": "code",
   "execution_count": null,
   "id": "afe5f3df-4ee4-468d-98b1-29e5bb13b5ab",
   "metadata": {},
   "outputs": [],
   "source": [
    "cols = list(ph_config.values()) + [\"country code and phase\"]\n",
    "merged_df = pd.concat(\n",
    "    [\n",
    "        dhs_ph_df[cols],\n",
    "        dhs_kh_df[cols],\n",
    "        dhs_mm_df[cols],\n",
    "        dhs_tl_df[cols],\n",
    "    ]\n",
    ")\n",
    "merged_df = merged_df.fillna(0)"
   ]
  },
  {
   "cell_type": "code",
   "execution_count": null,
   "id": "3d383e19-4856-48cd-8510-ce5140280c6b",
   "metadata": {},
   "outputs": [],
   "source": [
    "merged_df[\"Recomputed Wealth Index\"] = dhs.assign_wealth_index(merged_df[features])\n",
    "merged_df.head()"
   ]
  },
  {
   "cell_type": "code",
   "execution_count": null,
   "id": "f063ab86-2f69-4425-a52d-804647602b70",
   "metadata": {},
   "outputs": [],
   "source": [
    "import matplotlib.pyplot as plt  # noqa\n",
    "\n",
    "merged_df.hist(\"Recomputed Wealth Index\")"
   ]
  },
  {
   "cell_type": "code",
   "execution_count": null,
   "id": "5f8afc0e-c237-4a50-affa-e4c2a685ac6a",
   "metadata": {},
   "outputs": [],
   "source": [
    "merged_df[\"Recomputed Wealth Index Not PCA\"] = dhs.assign_wealth_index(\n",
    "    merged_df[features], use_pca=False\n",
    ")\n",
    "merged_df.head()"
   ]
  },
  {
   "cell_type": "code",
   "execution_count": null,
   "id": "b9ce3634-a66b-41cf-9360-9e80416a4cae",
   "metadata": {},
   "outputs": [],
   "source": [
    "merged_df.hist(\"Recomputed Wealth Index Not PCA\")"
   ]
  }
 ],
 "metadata": {
  "kernelspec": {
   "display_name": "Python 3",
   "language": "python",
   "name": "python3"
  },
  "language_info": {
   "codemirror_mode": {
    "name": "ipython",
    "version": 3
   },
   "file_extension": ".py",
   "mimetype": "text/x-python",
   "name": "python",
   "nbconvert_exporter": "python",
   "pygments_lexer": "ipython3",
   "version": "3.9.13"
  }
 },
 "nbformat": 4,
 "nbformat_minor": 5
}
