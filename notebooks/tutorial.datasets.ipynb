{
 "cells": [
  {
   "cell_type": "code",
   "execution_count": 1,
   "id": "19d1c6bb-2f6e-4da8-a1d2-5da2ee4acb0f",
   "metadata": {
    "tags": []
   },
   "outputs": [],
   "source": [
    "# hide\n",
    "# all_slow"
   ]
  },
  {
   "cell_type": "code",
   "execution_count": 2,
   "id": "d3dbcf94-f89d-4ad0-b34a-8b33347e5c01",
   "metadata": {},
   "outputs": [],
   "source": [
    "# hide\n",
    "# no_test\n",
    "![ -e /content ] && pip install -Uqq pyarrow fastparquet\n",
    "![ -e /content ] && pip install -Uqq geowrangler"
   ]
  },
  {
   "cell_type": "markdown",
   "id": "99624303-5fa5-44b9-bf08-2f9f3c054614",
   "metadata": {},
   "source": [
    "# Datasets Download\n",
    "> Basic introduction to downloading open geospatial data using geowrangler"
   ]
  },
  {
   "cell_type": "code",
   "execution_count": 3,
   "id": "2a80a52a-e47d-4b33-921c-b3ea241da823",
   "metadata": {},
   "outputs": [],
   "source": [
    "%reload_ext autoreload\n",
    "%autoreload 2"
   ]
  },
  {
   "cell_type": "markdown",
   "id": "0fc7fd97-7063-4205-9b23-0920cb26b4b5",
   "metadata": {},
   "source": [
    "## Downloading Geofabrik Data"
   ]
  },
  {
   "cell_type": "code",
   "execution_count": 4,
   "id": "98a64b09-7f4d-4d47-8ae6-25498a280c62",
   "metadata": {},
   "outputs": [],
   "source": [
    "import geopandas as gpd\n",
    "\n",
    "from geowrangler.datasets import geofabrik"
   ]
  },
  {
   "cell_type": "markdown",
   "id": "c2e93ffa-4b66-4e2d-8965-0f4c95250df4",
   "metadata": {},
   "source": [
    "### Listing down available regions"
   ]
  },
  {
   "cell_type": "code",
   "execution_count": 5,
   "id": "bf6d7a73-2ace-4d10-9e30-f119410240c9",
   "metadata": {},
   "outputs": [
    {
     "data": {
      "text/plain": [
       "{'afghanistan': 'https://download.geofabrik.de/asia/afghanistan-latest-free.shp.zip',\n",
       " 'armenia': 'https://download.geofabrik.de/asia/armenia-latest-free.shp.zip',\n",
       " 'azerbaijan': 'https://download.geofabrik.de/asia/azerbaijan-latest-free.shp.zip',\n",
       " 'bangladesh': 'https://download.geofabrik.de/asia/bangladesh-latest-free.shp.zip',\n",
       " 'bhutan': 'https://download.geofabrik.de/asia/bhutan-latest-free.shp.zip',\n",
       " 'cambodia': 'https://download.geofabrik.de/asia/cambodia-latest-free.shp.zip',\n",
       " 'central-zone': 'https://download.geofabrik.de/asia/india/central-zone-latest-free.shp.zip',\n",
       " 'china': 'https://download.geofabrik.de/asia/china-latest-free.shp.zip',\n",
       " 'chubu': 'https://download.geofabrik.de/asia/japan/chubu-latest-free.shp.zip',\n",
       " 'chugoku': 'https://download.geofabrik.de/asia/japan/chugoku-latest-free.shp.zip',\n",
       " 'east-timor': 'https://download.geofabrik.de/asia/east-timor-latest-free.shp.zip',\n",
       " 'eastern-zone': 'https://download.geofabrik.de/asia/india/eastern-zone-latest-free.shp.zip',\n",
       " 'gcc-states': 'https://download.geofabrik.de/asia/gcc-states-latest-free.shp.zip',\n",
       " 'hokkaido': 'https://download.geofabrik.de/asia/japan/hokkaido-latest-free.shp.zip',\n",
       " 'iran': 'https://download.geofabrik.de/asia/iran-latest-free.shp.zip',\n",
       " 'iraq': 'https://download.geofabrik.de/asia/iraq-latest-free.shp.zip',\n",
       " 'israel-and-palestine': 'https://download.geofabrik.de/asia/israel-and-palestine-latest-free.shp.zip',\n",
       " 'java': 'https://download.geofabrik.de/asia/indonesia/java-latest-free.shp.zip',\n",
       " 'jordan': 'https://download.geofabrik.de/asia/jordan-latest-free.shp.zip',\n",
       " 'kalimantan': 'https://download.geofabrik.de/asia/indonesia/kalimantan-latest-free.shp.zip',\n",
       " 'kansai': 'https://download.geofabrik.de/asia/japan/kansai-latest-free.shp.zip',\n",
       " 'kanto': 'https://download.geofabrik.de/asia/japan/kanto-latest-free.shp.zip',\n",
       " 'kazakhstan': 'https://download.geofabrik.de/asia/kazakhstan-latest-free.shp.zip',\n",
       " 'kyrgyzstan': 'https://download.geofabrik.de/asia/kyrgyzstan-latest-free.shp.zip',\n",
       " 'kyushu': 'https://download.geofabrik.de/asia/japan/kyushu-latest-free.shp.zip',\n",
       " 'laos': 'https://download.geofabrik.de/asia/laos-latest-free.shp.zip',\n",
       " 'lebanon': 'https://download.geofabrik.de/asia/lebanon-latest-free.shp.zip',\n",
       " 'malaysia-singapore-brunei': 'https://download.geofabrik.de/asia/malaysia-singapore-brunei-latest-free.shp.zip',\n",
       " 'maldives': 'https://download.geofabrik.de/asia/maldives-latest-free.shp.zip',\n",
       " 'maluku': 'https://download.geofabrik.de/asia/indonesia/maluku-latest-free.shp.zip',\n",
       " 'mongolia': 'https://download.geofabrik.de/asia/mongolia-latest-free.shp.zip',\n",
       " 'myanmar': 'https://download.geofabrik.de/asia/myanmar-latest-free.shp.zip',\n",
       " 'nepal': 'https://download.geofabrik.de/asia/nepal-latest-free.shp.zip',\n",
       " 'north-eastern-zone': 'https://download.geofabrik.de/asia/india/north-eastern-zone-latest-free.shp.zip',\n",
       " 'north-korea': 'https://download.geofabrik.de/asia/north-korea-latest-free.shp.zip',\n",
       " 'northern-zone': 'https://download.geofabrik.de/asia/india/northern-zone-latest-free.shp.zip',\n",
       " 'nusa-tenggara': 'https://download.geofabrik.de/asia/indonesia/nusa-tenggara-latest-free.shp.zip',\n",
       " 'pakistan': 'https://download.geofabrik.de/asia/pakistan-latest-free.shp.zip',\n",
       " 'papua': 'https://download.geofabrik.de/asia/indonesia/papua-latest-free.shp.zip',\n",
       " 'philippines': 'https://download.geofabrik.de/asia/philippines-latest-free.shp.zip',\n",
       " 'shikoku': 'https://download.geofabrik.de/asia/japan/shikoku-latest-free.shp.zip',\n",
       " 'south-korea': 'https://download.geofabrik.de/asia/south-korea-latest-free.shp.zip',\n",
       " 'southern-zone': 'https://download.geofabrik.de/asia/india/southern-zone-latest-free.shp.zip',\n",
       " 'sri-lanka': 'https://download.geofabrik.de/asia/sri-lanka-latest-free.shp.zip',\n",
       " 'sulawesi': 'https://download.geofabrik.de/asia/indonesia/sulawesi-latest-free.shp.zip',\n",
       " 'sumatra': 'https://download.geofabrik.de/asia/indonesia/sumatra-latest-free.shp.zip',\n",
       " 'syria': 'https://download.geofabrik.de/asia/syria-latest-free.shp.zip',\n",
       " 'taiwan': 'https://download.geofabrik.de/asia/taiwan-latest-free.shp.zip',\n",
       " 'tajikistan': 'https://download.geofabrik.de/asia/tajikistan-latest-free.shp.zip',\n",
       " 'thailand': 'https://download.geofabrik.de/asia/thailand-latest-free.shp.zip',\n",
       " 'tohoku': 'https://download.geofabrik.de/asia/japan/tohoku-latest-free.shp.zip',\n",
       " 'turkmenistan': 'https://download.geofabrik.de/asia/turkmenistan-latest-free.shp.zip',\n",
       " 'uzbekistan': 'https://download.geofabrik.de/asia/uzbekistan-latest-free.shp.zip',\n",
       " 'vietnam': 'https://download.geofabrik.de/asia/vietnam-latest-free.shp.zip',\n",
       " 'western-zone': 'https://download.geofabrik.de/asia/india/western-zone-latest-free.shp.zip',\n",
       " 'yemen': 'https://download.geofabrik.de/asia/yemen-latest-free.shp.zip'}"
      ]
     },
     "execution_count": 5,
     "metadata": {},
     "output_type": "execute_result"
    }
   ],
   "source": [
    "regions = geofabrik.list_geofabrik_regions()\n",
    "# list down regions in asia\n",
    "{k: v for k, v in regions.items() if \"asia\" in v}"
   ]
  },
  {
   "cell_type": "markdown",
   "id": "97dda8b8-2c21-4767-8241-c70d3502fae7",
   "metadata": {},
   "source": [
    "### Downloading a region file to a directory\n"
   ]
  },
  {
   "cell_type": "code",
   "execution_count": 6,
   "id": "3150a13f-cab3-49b2-bfd7-9741858b970d",
   "metadata": {},
   "outputs": [],
   "source": [
    "# hide\n",
    "# no_test\n",
    "!rm -r ../test_dir\n",
    "!mkdir -p ../test_dir"
   ]
  },
  {
   "cell_type": "code",
   "execution_count": 7,
   "id": "17ae0871-236d-4006-bf8b-e25ebdd27b31",
   "metadata": {},
   "outputs": [
    {
     "name": "stderr",
     "output_type": "stream",
     "text": [
      "2023-02-01 17:00:04.495 | INFO     | geowrangler.datasets.utils:urlretrieve:27 - Retrieving https://download.geofabrik.de/asia/laos-latest-free.shp.zip into ../test_dir/laos-latest-free.shp.zip\n"
     ]
    },
    {
     "data": {
      "text/html": [
       "\n",
       "<style>\n",
       "    /* Turns off some styling */\n",
       "    progress {\n",
       "        /* gets rid of default border in Firefox and Opera. */\n",
       "        border: none;\n",
       "        /* Needs to be in here for Safari polyfill so background images work as expected. */\n",
       "        background-size: auto;\n",
       "    }\n",
       "    progress:not([value]), progress:not([value])::-webkit-progress-bar {\n",
       "        background: repeating-linear-gradient(45deg, #7e7e7e, #7e7e7e 10px, #5c5c5c 10px, #5c5c5c 20px);\n",
       "    }\n",
       "    .progress-bar-interrupted, .progress-bar-interrupted::-webkit-progress-bar {\n",
       "        background: #F44336;\n",
       "    }\n",
       "</style>\n"
      ],
      "text/plain": [
       "<IPython.core.display.HTML object>"
      ]
     },
     "metadata": {},
     "output_type": "display_data"
    },
    {
     "data": {
      "text/html": [
       "\n",
       "    <div>\n",
       "      <progress value='97345536' class='' max='97341916' style='width:300px; height:20px; vertical-align: middle;'></progress>\n",
       "      100.00% [97345536/97341916 00:17&lt;00:00]\n",
       "    </div>\n",
       "    "
      ],
      "text/plain": [
       "<IPython.core.display.HTML object>"
      ]
     },
     "metadata": {},
     "output_type": "display_data"
    },
    {
     "name": "stdout",
     "output_type": "stream",
     "text": [
      "CPU times: user 1.58 s, sys: 980 ms, total: 2.56 s\n",
      "Wall time: 18 s\n"
     ]
    },
    {
     "data": {
      "text/plain": [
       "Path('../test_dir/laos-latest-free.shp.zip')"
      ]
     },
     "execution_count": 7,
     "metadata": {},
     "output_type": "execute_result"
    }
   ],
   "source": [
    "%%time\n",
    "# no_test\n",
    "downloaded_file = geofabrik.download_geofabrik_region(\"laos\", \"../test_dir\")\n",
    "downloaded_file"
   ]
  },
  {
   "cell_type": "markdown",
   "id": "98c6a10a-24c6-4762-925a-1a276f072bdb",
   "metadata": {},
   "source": [
    "### Loading geofabrik files"
   ]
  },
  {
   "cell_type": "code",
   "execution_count": 8,
   "id": "27c87df0-faf4-47ed-8a15-656cfcd9d0c2",
   "metadata": {},
   "outputs": [
    {
     "name": "stdout",
     "output_type": "stream",
     "text": [
      "CPU times: user 19.4 s, sys: 528 ms, total: 19.9 s\n",
      "Wall time: 19.9 s\n"
     ]
    },
    {
     "data": {
      "text/html": [
       "<div>\n",
       "<style scoped>\n",
       "    .dataframe tbody tr th:only-of-type {\n",
       "        vertical-align: middle;\n",
       "    }\n",
       "\n",
       "    .dataframe tbody tr th {\n",
       "        vertical-align: top;\n",
       "    }\n",
       "\n",
       "    .dataframe thead th {\n",
       "        text-align: right;\n",
       "    }\n",
       "</style>\n",
       "<table border=\"1\" class=\"dataframe\">\n",
       "  <thead>\n",
       "    <tr style=\"text-align: right;\">\n",
       "      <th></th>\n",
       "      <th>osm_id</th>\n",
       "      <th>code</th>\n",
       "      <th>fclass</th>\n",
       "      <th>name</th>\n",
       "      <th>type</th>\n",
       "      <th>geometry</th>\n",
       "    </tr>\n",
       "  </thead>\n",
       "  <tbody>\n",
       "    <tr>\n",
       "      <th>0</th>\n",
       "      <td>36192811</td>\n",
       "      <td>1500</td>\n",
       "      <td>building</td>\n",
       "      <td>Don Chan Palace</td>\n",
       "      <td>None</td>\n",
       "      <td>POLYGON ((102.61392 17.95514, 102.61419 17.955...</td>\n",
       "    </tr>\n",
       "    <tr>\n",
       "      <th>1</th>\n",
       "      <td>36195671</td>\n",
       "      <td>1500</td>\n",
       "      <td>building</td>\n",
       "      <td>ຕະຫລາດເຊົ້າ. 早市塲</td>\n",
       "      <td>None</td>\n",
       "      <td>POLYGON ((102.61382 17.96520, 102.61393 17.965...</td>\n",
       "    </tr>\n",
       "    <tr>\n",
       "      <th>2</th>\n",
       "      <td>36195973</td>\n",
       "      <td>1500</td>\n",
       "      <td>building</td>\n",
       "      <td>Mercure Hotel Laotel</td>\n",
       "      <td>None</td>\n",
       "      <td>POLYGON ((102.59386 17.96890, 102.59432 17.968...</td>\n",
       "    </tr>\n",
       "    <tr>\n",
       "      <th>3</th>\n",
       "      <td>36784437</td>\n",
       "      <td>1500</td>\n",
       "      <td>building</td>\n",
       "      <td>None</td>\n",
       "      <td>None</td>\n",
       "      <td>POLYGON ((105.79786 15.11905, 105.79838 15.119...</td>\n",
       "    </tr>\n",
       "    <tr>\n",
       "      <th>4</th>\n",
       "      <td>37886432</td>\n",
       "      <td>1500</td>\n",
       "      <td>building</td>\n",
       "      <td>Presidential Palace</td>\n",
       "      <td>None</td>\n",
       "      <td>POLYGON ((102.60940 17.96246, 102.60951 17.962...</td>\n",
       "    </tr>\n",
       "  </tbody>\n",
       "</table>\n",
       "</div>"
      ],
      "text/plain": [
       "     osm_id  code    fclass                  name  type  \\\n",
       "0  36192811  1500  building       Don Chan Palace  None   \n",
       "1  36195671  1500  building      ຕະຫລາດເຊົ້າ. 早市塲  None   \n",
       "2  36195973  1500  building  Mercure Hotel Laotel  None   \n",
       "3  36784437  1500  building                  None  None   \n",
       "4  37886432  1500  building   Presidential Palace  None   \n",
       "\n",
       "                                            geometry  \n",
       "0  POLYGON ((102.61392 17.95514, 102.61419 17.955...  \n",
       "1  POLYGON ((102.61382 17.96520, 102.61393 17.965...  \n",
       "2  POLYGON ((102.59386 17.96890, 102.59432 17.968...  \n",
       "3  POLYGON ((105.79786 15.11905, 105.79838 15.119...  \n",
       "4  POLYGON ((102.60940 17.96246, 102.60951 17.962...  "
      ]
     },
     "execution_count": 8,
     "metadata": {},
     "output_type": "execute_result"
    }
   ],
   "source": [
    "%%time\n",
    "gdf = gpd.read_file(downloaded_file)\n",
    "gdf.head()"
   ]
  },
  {
   "cell_type": "markdown",
   "id": "5598490b-20fb-494b-b909-352ae340ed26",
   "metadata": {},
   "source": [
    "You can also list the contents of the zipped shape file as well as load the shape file within it"
   ]
  },
  {
   "cell_type": "code",
   "execution_count": 9,
   "id": "7d1f0210-7d28-486e-8b0e-93714d342c5d",
   "metadata": {},
   "outputs": [
    {
     "name": "stdout",
     "output_type": "stream",
     "text": [
      "Archive:  ../test_dir/laos-latest-free.shp.zip\n",
      "  Length      Date    Time    Name\n",
      "---------  ---------- -----   ----\n",
      "      647  2023-02-01 09:00   README\n",
      "        6  2023-02-01 09:00   gis_osm_buildings_a_free_1.cpg\n",
      " 68322734  2023-02-01 09:00   gis_osm_buildings_a_free_1.dbf\n",
      "      144  2023-02-01 09:00   gis_osm_buildings_a_free_1.prj\n",
      " 60089724  2023-02-01 09:00   gis_osm_buildings_a_free_1.shp\n",
      "  3312708  2023-02-01 09:00   gis_osm_buildings_a_free_1.shx\n",
      "        6  2023-02-01 09:00   gis_osm_landuse_a_free_1.cpg\n",
      "  2845642  2023-02-01 09:00   gis_osm_landuse_a_free_1.dbf\n",
      "      144  2023-02-01 09:00   gis_osm_landuse_a_free_1.prj\n",
      " 14407732  2023-02-01 09:00   gis_osm_landuse_a_free_1.shp\n",
      "   157092  2023-02-01 09:00   gis_osm_landuse_a_free_1.shx\n",
      "        6  2023-02-01 09:00   gis_osm_natural_a_free_1.cpg\n",
      "     7702  2023-02-01 09:00   gis_osm_natural_a_free_1.dbf\n",
      "      144  2023-02-01 09:00   gis_osm_natural_a_free_1.prj\n",
      "    15556  2023-02-01 09:00   gis_osm_natural_a_free_1.shp\n",
      "      516  2023-02-01 09:00   gis_osm_natural_a_free_1.shx\n",
      "        6  2023-02-01 09:00   gis_osm_natural_free_1.cpg\n",
      "   753872  2023-02-01 09:00   gis_osm_natural_free_1.dbf\n",
      "      144  2023-02-01 09:00   gis_osm_natural_free_1.prj\n",
      "   145644  2023-02-01 09:00   gis_osm_natural_free_1.shp\n",
      "    41684  2023-02-01 09:00   gis_osm_natural_free_1.shx\n",
      "        6  2023-02-01 09:00   gis_osm_places_a_free_1.cpg\n",
      "    26854  2023-02-01 09:00   gis_osm_places_a_free_1.dbf\n",
      "      144  2023-02-01 09:00   gis_osm_places_a_free_1.prj\n",
      "   441004  2023-02-01 09:00   gis_osm_places_a_free_1.shp\n",
      "     1476  2023-02-01 09:00   gis_osm_places_a_free_1.shx\n",
      "        6  2023-02-01 09:00   gis_osm_places_free_1.cpg\n",
      "  1142544  2023-02-01 09:00   gis_osm_places_free_1.dbf\n",
      "      144  2023-02-01 09:00   gis_osm_places_free_1.prj\n",
      "   206460  2023-02-01 09:00   gis_osm_places_free_1.shp\n",
      "    59060  2023-02-01 09:00   gis_osm_places_free_1.shx\n",
      "        6  2023-02-01 09:00   gis_osm_pofw_a_free_1.cpg\n",
      "    39602  2023-02-01 09:00   gis_osm_pofw_a_free_1.dbf\n",
      "      144  2023-02-01 09:00   gis_osm_pofw_a_free_1.prj\n",
      "    49992  2023-02-01 09:00   gis_osm_pofw_a_free_1.shp\n",
      "     2276  2023-02-01 09:00   gis_osm_pofw_a_free_1.shx\n",
      "        6  2023-02-01 09:00   gis_osm_pofw_free_1.cpg\n",
      "    66427  2023-02-01 09:00   gis_osm_pofw_free_1.dbf\n",
      "      144  2023-02-01 09:00   gis_osm_pofw_free_1.prj\n",
      "    12896  2023-02-01 09:00   gis_osm_pofw_free_1.shp\n",
      "     3756  2023-02-01 09:00   gis_osm_pofw_free_1.shx\n",
      "        6  2023-02-01 09:00   gis_osm_pois_a_free_1.cpg\n",
      "   274067  2023-02-01 09:00   gis_osm_pois_a_free_1.dbf\n",
      "      144  2023-02-01 09:00   gis_osm_pois_a_free_1.prj\n",
      "   351936  2023-02-01 09:00   gis_osm_pois_a_free_1.shp\n",
      "    15212  2023-02-01 09:00   gis_osm_pois_a_free_1.shx\n",
      "        6  2023-02-01 09:00   gis_osm_pois_free_1.cpg\n",
      "  1884292  2023-02-01 09:00   gis_osm_pois_free_1.dbf\n",
      "      144  2023-02-01 09:00   gis_osm_pois_free_1.prj\n",
      "   363932  2023-02-01 09:00   gis_osm_pois_free_1.shp\n",
      "   104052  2023-02-01 09:00   gis_osm_pois_free_1.shx\n",
      "        6  2023-02-01 09:00   gis_osm_railways_free_1.cpg\n",
      "   100110  2023-02-01 09:00   gis_osm_railways_free_1.dbf\n",
      "      144  2023-02-01 09:00   gis_osm_railways_free_1.prj\n",
      "   101636  2023-02-01 09:00   gis_osm_railways_free_1.shp\n",
      "     5124  2023-02-01 09:00   gis_osm_railways_free_1.shx\n",
      "        6  2023-02-01 09:00   gis_osm_roads_free_1.cpg\n",
      " 20909019  2023-02-01 09:00   gis_osm_roads_free_1.dbf\n",
      "      144  2023-02-01 09:00   gis_osm_roads_free_1.prj\n",
      " 50224636  2023-02-01 09:00   gis_osm_roads_free_1.shp\n",
      "   914140  2023-02-01 09:00   gis_osm_roads_free_1.shx\n",
      "        6  2023-02-01 09:00   gis_osm_traffic_a_free_1.cpg\n",
      "   102532  2023-02-01 09:00   gis_osm_traffic_a_free_1.dbf\n",
      "      144  2023-02-01 09:00   gis_osm_traffic_a_free_1.prj\n",
      "   131304  2023-02-01 09:00   gis_osm_traffic_a_free_1.shp\n",
      "     5748  2023-02-01 09:00   gis_osm_traffic_a_free_1.shx\n",
      "        6  2023-02-01 09:00   gis_osm_traffic_free_1.cpg\n",
      "   275807  2023-02-01 09:00   gis_osm_traffic_free_1.dbf\n",
      "      144  2023-02-01 09:00   gis_osm_traffic_free_1.prj\n",
      "    53328  2023-02-01 09:00   gis_osm_traffic_free_1.shp\n",
      "    15308  2023-02-01 09:00   gis_osm_traffic_free_1.shx\n",
      "        6  2023-02-01 09:00   gis_osm_transport_a_free_1.cpg\n",
      "    10892  2023-02-01 09:00   gis_osm_transport_a_free_1.dbf\n",
      "      144  2023-02-01 09:00   gis_osm_transport_a_free_1.prj\n",
      "    28840  2023-02-01 09:00   gis_osm_transport_a_free_1.shp\n",
      "      692  2023-02-01 09:00   gis_osm_transport_a_free_1.shx\n",
      "        6  2023-02-01 09:00   gis_osm_transport_free_1.cpg\n",
      "    82522  2023-02-01 09:00   gis_osm_transport_free_1.dbf\n",
      "      144  2023-02-01 09:00   gis_osm_transport_free_1.prj\n",
      "    16004  2023-02-01 09:00   gis_osm_transport_free_1.shp\n",
      "     4644  2023-02-01 09:00   gis_osm_transport_free_1.shx\n",
      "        6  2023-02-01 09:00   gis_osm_water_a_free_1.cpg\n",
      "   979927  2023-02-01 09:00   gis_osm_water_a_free_1.dbf\n",
      "      144  2023-02-01 09:00   gis_osm_water_a_free_1.prj\n",
      " 14026044  2023-02-01 09:00   gis_osm_water_a_free_1.shp\n",
      "    54156  2023-02-01 09:00   gis_osm_water_a_free_1.shx\n",
      "        6  2023-02-01 09:00   gis_osm_waterways_free_1.cpg\n",
      "  1662494  2023-02-01 09:00   gis_osm_waterways_free_1.dbf\n",
      "      144  2023-02-01 09:00   gis_osm_waterways_free_1.prj\n",
      " 14396164  2023-02-01 09:00   gis_osm_waterways_free_1.shp\n",
      "    88756  2023-02-01 09:00   gis_osm_waterways_free_1.shx\n",
      "---------                     -------\n",
      "259339618                     91 files\n"
     ]
    }
   ],
   "source": [
    "!unzip -l {downloaded_file.as_posix()}"
   ]
  },
  {
   "cell_type": "code",
   "execution_count": 10,
   "id": "8d20c11d-4dba-4fec-9f40-5cb21441a9e6",
   "metadata": {},
   "outputs": [
    {
     "name": "stdout",
     "output_type": "stream",
     "text": [
      "CPU times: user 745 ms, sys: 19.4 ms, total: 764 ms\n",
      "Wall time: 773 ms\n"
     ]
    }
   ],
   "source": [
    "%%time\n",
    "gdf2 = gpd.read_file(f\"{downloaded_file.as_posix()}!gis_osm_pois_free_1.shp\")"
   ]
  },
  {
   "cell_type": "markdown",
   "id": "b70a7083-1fb6-414e-9ac6-a2fec97ef949",
   "metadata": {},
   "source": [
    "### Unzipping and Caching OSM \n",
    "\n",
    "In addition downloading, the geofabrik module provides an unzipping and caching facility (default cache directory: `~/.cache/geowrangler/osm` ) to make it easier to access OSM data."
   ]
  },
  {
   "cell_type": "code",
   "execution_count": 11,
   "id": "804a52c0-9f58-40d1-a666-2d193f425c2d",
   "metadata": {},
   "outputs": [
    {
     "name": "stderr",
     "output_type": "stream",
     "text": [
      "2023-02-01 17:00:42.767 | INFO     | geowrangler.datasets.geofabrik:download_osm_region_data:127 - OSM Data: Cached data available for afghanistan at /home/butchtm/.cache/geowrangler/osm/afghanistan-latest-free.shp.zip? False\n",
      "2023-02-01 17:00:43.526 | INFO     | geowrangler.datasets.geofabrik:download_osm_region_data:141 - OSM Data: Re-initializing OSM region zip file at /home/butchtm/.cache/geowrangler/osm/afghanistan-latest-free.shp.zip...\n",
      "2023-02-01 17:00:43.529 | INFO     | geowrangler.datasets.geofabrik:download_osm_region_data:148 - OSM Data: Downloading Geofabrik in /home/butchtm/.cache/geowrangler/osm/afghanistan-latest-free.shp.zip...\n",
      "2023-02-01 17:00:44.247 | INFO     | geowrangler.datasets.utils:urlretrieve:27 - Retrieving https://download.geofabrik.de/asia/afghanistan-latest-free.shp.zip into /home/butchtm/.cache/geowrangler/osm/afghanistan-latest-free.shp.zip\n"
     ]
    },
    {
     "data": {
      "text/html": [
       "\n",
       "<style>\n",
       "    /* Turns off some styling */\n",
       "    progress {\n",
       "        /* gets rid of default border in Firefox and Opera. */\n",
       "        border: none;\n",
       "        /* Needs to be in here for Safari polyfill so background images work as expected. */\n",
       "        background-size: auto;\n",
       "    }\n",
       "    progress:not([value]), progress:not([value])::-webkit-progress-bar {\n",
       "        background: repeating-linear-gradient(45deg, #7e7e7e, #7e7e7e 10px, #5c5c5c 10px, #5c5c5c 20px);\n",
       "    }\n",
       "    .progress-bar-interrupted, .progress-bar-interrupted::-webkit-progress-bar {\n",
       "        background: #F44336;\n",
       "    }\n",
       "</style>\n"
      ],
      "text/plain": [
       "<IPython.core.display.HTML object>"
      ]
     },
     "metadata": {},
     "output_type": "display_data"
    },
    {
     "data": {
      "text/html": [
       "\n",
       "    <div>\n",
       "      <progress value='241524736' class='' max='241516716' style='width:300px; height:20px; vertical-align: middle;'></progress>\n",
       "      100.00% [241524736/241516716 00:39&lt;00:00]\n",
       "    </div>\n",
       "    "
      ],
      "text/plain": [
       "<IPython.core.display.HTML object>"
      ]
     },
     "metadata": {},
     "output_type": "display_data"
    },
    {
     "name": "stderr",
     "output_type": "stream",
     "text": [
      "2023-02-01 17:01:23.951 | INFO     | geowrangler.datasets.geofabrik:download_osm_region_data:159 - OSM Data: Successfully downloaded and cached OSM data for afghanistan at /home/butchtm/.cache/geowrangler/osm/afghanistan-latest-free.shp.zip!\n"
     ]
    },
    {
     "name": "stdout",
     "output_type": "stream",
     "text": [
      "CPU times: user 3.22 s, sys: 1.76 s, total: 4.98 s\n",
      "Wall time: 41.2 s\n"
     ]
    },
    {
     "data": {
      "text/plain": [
       "Path('/home/butchtm/.cache/geowrangler/osm/afghanistan-latest-free.shp.zip')"
      ]
     },
     "execution_count": 11,
     "metadata": {},
     "output_type": "execute_result"
    }
   ],
   "source": [
    "%%time\n",
    "download_path = geofabrik.download_osm_region_data(\"afghanistan\")\n",
    "download_path"
   ]
  },
  {
   "cell_type": "markdown",
   "id": "2e854d46-2981-41f2-94c0-0ae3e3566018",
   "metadata": {},
   "source": [
    "Downloading it the second time around should be much faster as it\n",
    "only checks if its in the cache and returns the path"
   ]
  },
  {
   "cell_type": "code",
   "execution_count": 12,
   "id": "7f2b2e55-6d64-4ade-b8c1-24baa9d7f39b",
   "metadata": {},
   "outputs": [
    {
     "name": "stderr",
     "output_type": "stream",
     "text": [
      "2023-02-01 17:01:23.973 | INFO     | geowrangler.datasets.geofabrik:download_osm_region_data:127 - OSM Data: Cached data available for afghanistan at /home/butchtm/.cache/geowrangler/osm/afghanistan-latest-free.shp.zip? True\n"
     ]
    },
    {
     "name": "stdout",
     "output_type": "stream",
     "text": [
      "CPU times: user 2.22 ms, sys: 349 µs, total: 2.57 ms\n",
      "Wall time: 2.08 ms\n"
     ]
    },
    {
     "data": {
      "text/plain": [
       "Path('/home/butchtm/.cache/geowrangler/osm/afghanistan-latest-free.shp.zip')"
      ]
     },
     "execution_count": 12,
     "metadata": {},
     "output_type": "execute_result"
    }
   ],
   "source": [
    "%%time\n",
    "download_path2 = geofabrik.download_osm_region_data(\"afghanistan\")\n",
    "download_path2"
   ]
  },
  {
   "cell_type": "code",
   "execution_count": 25,
   "id": "d816c677-01db-4167-aaea-9d7cb7a31b47",
   "metadata": {},
   "outputs": [
    {
     "name": "stdout",
     "output_type": "stream",
     "text": [
      "-rw-r--r-- 1 butchtm butchtm 231M Feb  1 17:01 /home/butchtm/.cache/geowrangler/osm/afghanistan-latest-free.shp.zip\n"
     ]
    }
   ],
   "source": [
    "!ls -aldh  {download_path2}"
   ]
  },
  {
   "cell_type": "markdown",
   "id": "8269f519-6ef7-48e9-a996-3faffdec4194",
   "metadata": {},
   "source": [
    "### Using the OSM Data Manager\n",
    "\n",
    "We also provide an OSM Data Manager which, in addition to using the default cache (`~/.cache/geowrangler/osm`),\n",
    "also caches the geodataframe for either the pois or the roads datasets from OSM in memory to avoid having\n",
    "to reload the OSM data from disk."
   ]
  },
  {
   "cell_type": "code",
   "execution_count": 14,
   "id": "43318ba1-a38a-4535-8403-1bc831734bdd",
   "metadata": {},
   "outputs": [],
   "source": [
    "# Create the osm data manager\n",
    "odm = geofabrik.OsmDataManager()"
   ]
  },
  {
   "cell_type": "code",
   "execution_count": 15,
   "id": "7d4945dd-5825-48c4-b6ac-86009477f13c",
   "metadata": {},
   "outputs": [
    {
     "name": "stderr",
     "output_type": "stream",
     "text": [
      "2023-02-01 17:01:24.214 | INFO     | geowrangler.datasets.geofabrik:download_osm_region_data:127 - OSM Data: Cached data available for philippines at /home/butchtm/.cache/geowrangler/osm/philippines-latest-free.shp.zip? False\n",
      "2023-02-01 17:01:25.631 | INFO     | geowrangler.datasets.geofabrik:download_osm_region_data:141 - OSM Data: Re-initializing OSM region zip file at /home/butchtm/.cache/geowrangler/osm/philippines-latest-free.shp.zip...\n",
      "2023-02-01 17:01:25.634 | INFO     | geowrangler.datasets.geofabrik:download_osm_region_data:148 - OSM Data: Downloading Geofabrik in /home/butchtm/.cache/geowrangler/osm/philippines-latest-free.shp.zip...\n",
      "2023-02-01 17:01:26.355 | INFO     | geowrangler.datasets.utils:urlretrieve:27 - Retrieving https://download.geofabrik.de/asia/philippines-latest-free.shp.zip into /home/butchtm/.cache/geowrangler/osm/philippines-latest-free.shp.zip\n"
     ]
    },
    {
     "data": {
      "text/html": [
       "\n",
       "<style>\n",
       "    /* Turns off some styling */\n",
       "    progress {\n",
       "        /* gets rid of default border in Firefox and Opera. */\n",
       "        border: none;\n",
       "        /* Needs to be in here for Safari polyfill so background images work as expected. */\n",
       "        background-size: auto;\n",
       "    }\n",
       "    progress:not([value]), progress:not([value])::-webkit-progress-bar {\n",
       "        background: repeating-linear-gradient(45deg, #7e7e7e, #7e7e7e 10px, #5c5c5c 10px, #5c5c5c 20px);\n",
       "    }\n",
       "    .progress-bar-interrupted, .progress-bar-interrupted::-webkit-progress-bar {\n",
       "        background: #F44336;\n",
       "    }\n",
       "</style>\n"
      ],
      "text/plain": [
       "<IPython.core.display.HTML object>"
      ]
     },
     "metadata": {},
     "output_type": "display_data"
    },
    {
     "data": {
      "text/html": [
       "\n",
       "    <div>\n",
       "      <progress value='1185939456' class='' max='1185011560' style='width:300px; height:20px; vertical-align: middle;'></progress>\n",
       "      100.08% [1185939456/1185011560 07:39&lt;00:00]\n",
       "    </div>\n",
       "    "
      ],
      "text/plain": [
       "<IPython.core.display.HTML object>"
      ]
     },
     "metadata": {},
     "output_type": "display_data"
    },
    {
     "name": "stderr",
     "output_type": "stream",
     "text": [
      "2023-02-01 17:09:06.368 | INFO     | geowrangler.datasets.geofabrik:download_osm_region_data:159 - OSM Data: Successfully downloaded and cached OSM data for philippines at /home/butchtm/.cache/geowrangler/osm/philippines-latest-free.shp.zip!\n",
      "2023-02-01 17:09:06.370 | DEBUG    | geowrangler.datasets.geofabrik:load_pois:218 - OSM POIs for philippines being loaded from /home/butchtm/.cache/geowrangler/osm/philippines-latest-free.shp.zip\n"
     ]
    }
   ],
   "source": [
    "pois_ph = odm.load_pois(\"philippines\")"
   ]
  },
  {
   "cell_type": "code",
   "execution_count": 16,
   "id": "858615fd-3781-4e98-a615-9c8ba0897436",
   "metadata": {},
   "outputs": [
    {
     "data": {
      "text/html": [
       "<div>\n",
       "<style scoped>\n",
       "    .dataframe tbody tr th:only-of-type {\n",
       "        vertical-align: middle;\n",
       "    }\n",
       "\n",
       "    .dataframe tbody tr th {\n",
       "        vertical-align: top;\n",
       "    }\n",
       "\n",
       "    .dataframe thead th {\n",
       "        text-align: right;\n",
       "    }\n",
       "</style>\n",
       "<table border=\"1\" class=\"dataframe\">\n",
       "  <thead>\n",
       "    <tr style=\"text-align: right;\">\n",
       "      <th></th>\n",
       "      <th>osm_id</th>\n",
       "      <th>code</th>\n",
       "      <th>fclass</th>\n",
       "      <th>name</th>\n",
       "      <th>geometry</th>\n",
       "    </tr>\n",
       "  </thead>\n",
       "  <tbody>\n",
       "    <tr>\n",
       "      <th>0</th>\n",
       "      <td>21717820</td>\n",
       "      <td>2907</td>\n",
       "      <td>camera_surveillance</td>\n",
       "      <td>None</td>\n",
       "      <td>POINT (121.02120 14.57608)</td>\n",
       "    </tr>\n",
       "    <tr>\n",
       "      <th>1</th>\n",
       "      <td>21717872</td>\n",
       "      <td>2722</td>\n",
       "      <td>museum</td>\n",
       "      <td>Ayala Museum</td>\n",
       "      <td>POINT (121.02324 14.55358)</td>\n",
       "    </tr>\n",
       "    <tr>\n",
       "      <th>2</th>\n",
       "      <td>24078301</td>\n",
       "      <td>2402</td>\n",
       "      <td>motel</td>\n",
       "      <td>Sogo Grand Hotel</td>\n",
       "      <td>POINT (121.04515 14.56449)</td>\n",
       "    </tr>\n",
       "    <tr>\n",
       "      <th>3</th>\n",
       "      <td>24078959</td>\n",
       "      <td>2907</td>\n",
       "      <td>camera_surveillance</td>\n",
       "      <td>None</td>\n",
       "      <td>POINT (121.05945 14.60098)</td>\n",
       "    </tr>\n",
       "    <tr>\n",
       "      <th>4</th>\n",
       "      <td>24797511</td>\n",
       "      <td>2542</td>\n",
       "      <td>bicycle_shop</td>\n",
       "      <td>Christine Sports Cycle Marketing</td>\n",
       "      <td>POINT (120.99506 14.55224)</td>\n",
       "    </tr>\n",
       "  </tbody>\n",
       "</table>\n",
       "</div>"
      ],
      "text/plain": [
       "     osm_id  code               fclass                              name  \\\n",
       "0  21717820  2907  camera_surveillance                              None   \n",
       "1  21717872  2722               museum                      Ayala Museum   \n",
       "2  24078301  2402                motel                  Sogo Grand Hotel   \n",
       "3  24078959  2907  camera_surveillance                              None   \n",
       "4  24797511  2542         bicycle_shop  Christine Sports Cycle Marketing   \n",
       "\n",
       "                     geometry  \n",
       "0  POINT (121.02120 14.57608)  \n",
       "1  POINT (121.02324 14.55358)  \n",
       "2  POINT (121.04515 14.56449)  \n",
       "3  POINT (121.05945 14.60098)  \n",
       "4  POINT (120.99506 14.55224)  "
      ]
     },
     "execution_count": 16,
     "metadata": {},
     "output_type": "execute_result"
    }
   ],
   "source": [
    "pois_ph.head()"
   ]
  },
  {
   "cell_type": "code",
   "execution_count": 17,
   "id": "36ff36b9-dc11-4bc0-b011-70f076429086",
   "metadata": {},
   "outputs": [
    {
     "name": "stderr",
     "output_type": "stream",
     "text": [
      "2023-02-01 17:09:10.649 | INFO     | geowrangler.datasets.geofabrik:download_osm_region_data:127 - OSM Data: Cached data available for philippines at /home/butchtm/.cache/geowrangler/osm/philippines-latest-free.shp.zip? True\n",
      "2023-02-01 17:09:10.653 | DEBUG    | geowrangler.datasets.geofabrik:load_roads:274 - OSM Roads for philippines being loaded from /home/butchtm/.cache/geowrangler/osm/philippines-latest-free.shp.zip\n"
     ]
    }
   ],
   "source": [
    "roads_ph = odm.load_roads(\"philippines\")"
   ]
  },
  {
   "cell_type": "code",
   "execution_count": 18,
   "id": "b33a3963-71d5-43a1-a47f-513257daae30",
   "metadata": {},
   "outputs": [
    {
     "data": {
      "text/html": [
       "<div>\n",
       "<style scoped>\n",
       "    .dataframe tbody tr th:only-of-type {\n",
       "        vertical-align: middle;\n",
       "    }\n",
       "\n",
       "    .dataframe tbody tr th {\n",
       "        vertical-align: top;\n",
       "    }\n",
       "\n",
       "    .dataframe thead th {\n",
       "        text-align: right;\n",
       "    }\n",
       "</style>\n",
       "<table border=\"1\" class=\"dataframe\">\n",
       "  <thead>\n",
       "    <tr style=\"text-align: right;\">\n",
       "      <th></th>\n",
       "      <th>osm_id</th>\n",
       "      <th>code</th>\n",
       "      <th>fclass</th>\n",
       "      <th>name</th>\n",
       "      <th>ref</th>\n",
       "      <th>oneway</th>\n",
       "      <th>maxspeed</th>\n",
       "      <th>layer</th>\n",
       "      <th>bridge</th>\n",
       "      <th>tunnel</th>\n",
       "      <th>geometry</th>\n",
       "    </tr>\n",
       "  </thead>\n",
       "  <tbody>\n",
       "    <tr>\n",
       "      <th>0</th>\n",
       "      <td>267</td>\n",
       "      <td>5115</td>\n",
       "      <td>tertiary</td>\n",
       "      <td>Maharlika Street</td>\n",
       "      <td>None</td>\n",
       "      <td>F</td>\n",
       "      <td>30</td>\n",
       "      <td>0</td>\n",
       "      <td>F</td>\n",
       "      <td>F</td>\n",
       "      <td>LINESTRING (121.05195 14.65011, 121.05209 14.6...</td>\n",
       "    </tr>\n",
       "    <tr>\n",
       "      <th>1</th>\n",
       "      <td>2508359</td>\n",
       "      <td>5153</td>\n",
       "      <td>footway</td>\n",
       "      <td>Sagada Mission Compound</td>\n",
       "      <td>None</td>\n",
       "      <td>B</td>\n",
       "      <td>0</td>\n",
       "      <td>0</td>\n",
       "      <td>F</td>\n",
       "      <td>F</td>\n",
       "      <td>LINESTRING (120.90199 17.08090, 120.90197 17.0...</td>\n",
       "    </tr>\n",
       "    <tr>\n",
       "      <th>2</th>\n",
       "      <td>2667097</td>\n",
       "      <td>5113</td>\n",
       "      <td>primary</td>\n",
       "      <td>Taft Avenue</td>\n",
       "      <td>170</td>\n",
       "      <td>F</td>\n",
       "      <td>60</td>\n",
       "      <td>0</td>\n",
       "      <td>F</td>\n",
       "      <td>F</td>\n",
       "      <td>LINESTRING (120.99682 14.55577, 120.99671 14.5...</td>\n",
       "    </tr>\n",
       "    <tr>\n",
       "      <th>3</th>\n",
       "      <td>2667099</td>\n",
       "      <td>5113</td>\n",
       "      <td>primary</td>\n",
       "      <td>Lerma Street</td>\n",
       "      <td>170</td>\n",
       "      <td>F</td>\n",
       "      <td>60</td>\n",
       "      <td>0</td>\n",
       "      <td>F</td>\n",
       "      <td>F</td>\n",
       "      <td>LINESTRING (120.98539 14.60460, 120.98545 14.6...</td>\n",
       "    </tr>\n",
       "    <tr>\n",
       "      <th>4</th>\n",
       "      <td>2667105</td>\n",
       "      <td>5122</td>\n",
       "      <td>residential</td>\n",
       "      <td>Manalito Street</td>\n",
       "      <td>None</td>\n",
       "      <td>B</td>\n",
       "      <td>0</td>\n",
       "      <td>0</td>\n",
       "      <td>F</td>\n",
       "      <td>F</td>\n",
       "      <td>LINESTRING (120.99380 14.54125, 120.99497 14.5...</td>\n",
       "    </tr>\n",
       "  </tbody>\n",
       "</table>\n",
       "</div>"
      ],
      "text/plain": [
       "    osm_id  code       fclass                     name   ref oneway  maxspeed  \\\n",
       "0      267  5115     tertiary         Maharlika Street  None      F        30   \n",
       "1  2508359  5153      footway  Sagada Mission Compound  None      B         0   \n",
       "2  2667097  5113      primary              Taft Avenue   170      F        60   \n",
       "3  2667099  5113      primary             Lerma Street   170      F        60   \n",
       "4  2667105  5122  residential          Manalito Street  None      B         0   \n",
       "\n",
       "   layer bridge tunnel                                           geometry  \n",
       "0      0      F      F  LINESTRING (121.05195 14.65011, 121.05209 14.6...  \n",
       "1      0      F      F  LINESTRING (120.90199 17.08090, 120.90197 17.0...  \n",
       "2      0      F      F  LINESTRING (120.99682 14.55577, 120.99671 14.5...  \n",
       "3      0      F      F  LINESTRING (120.98539 14.60460, 120.98545 14.6...  \n",
       "4      0      F      F  LINESTRING (120.99380 14.54125, 120.99497 14.5...  "
      ]
     },
     "execution_count": 18,
     "metadata": {},
     "output_type": "execute_result"
    }
   ],
   "source": [
    "roads_ph.head()"
   ]
  },
  {
   "cell_type": "markdown",
   "id": "0c901e2e-bc3e-4d7c-a378-41ce80f20c9f",
   "metadata": {},
   "source": [
    "## Loading OSM data from other years\n",
    "\n",
    "In addition to providing access to the latest OSM shape files, we also provide an optional `year` parameter, which allows you to download OSM data from previous years. \n",
    "\n",
    "> Note: The availability of data from previous years is dependent on what geofabrik has made available. Please check the [Geofabrik download site](https://download.geofabrik.de/) for the list of available data "
   ]
  },
  {
   "cell_type": "code",
   "execution_count": 19,
   "id": "b2d7e4cb-c380-43bd-a65c-fa75fad3622a",
   "metadata": {},
   "outputs": [
    {
     "name": "stderr",
     "output_type": "stream",
     "text": [
      "2023-02-01 17:10:30.351 | INFO     | geowrangler.datasets.geofabrik:download_osm_region_data:127 - OSM Data: Cached data available for philippines at /home/butchtm/.cache/geowrangler/osm/philippines-170101-free.shp.zip? False\n",
      "2023-02-01 17:10:33.834 | INFO     | geowrangler.datasets.geofabrik:download_osm_region_data:141 - OSM Data: Re-initializing OSM region zip file at /home/butchtm/.cache/geowrangler/osm/philippines-170101-free.shp.zip...\n",
      "2023-02-01 17:10:33.838 | INFO     | geowrangler.datasets.geofabrik:download_osm_region_data:148 - OSM Data: Downloading Geofabrik in /home/butchtm/.cache/geowrangler/osm/philippines-170101-free.shp.zip...\n",
      "2023-02-01 17:10:35.780 | INFO     | geowrangler.datasets.utils:urlretrieve:27 - Retrieving https://download.geofabrik.de/asia/philippines-170101-free.shp.zip into /home/butchtm/.cache/geowrangler/osm/philippines-170101-free.shp.zip\n"
     ]
    },
    {
     "data": {
      "text/html": [
       "\n",
       "<style>\n",
       "    /* Turns off some styling */\n",
       "    progress {\n",
       "        /* gets rid of default border in Firefox and Opera. */\n",
       "        border: none;\n",
       "        /* Needs to be in here for Safari polyfill so background images work as expected. */\n",
       "        background-size: auto;\n",
       "    }\n",
       "    progress:not([value]), progress:not([value])::-webkit-progress-bar {\n",
       "        background: repeating-linear-gradient(45deg, #7e7e7e, #7e7e7e 10px, #5c5c5c 10px, #5c5c5c 20px);\n",
       "    }\n",
       "    .progress-bar-interrupted, .progress-bar-interrupted::-webkit-progress-bar {\n",
       "        background: #F44336;\n",
       "    }\n",
       "</style>\n"
      ],
      "text/plain": [
       "<IPython.core.display.HTML object>"
      ]
     },
     "metadata": {},
     "output_type": "display_data"
    },
    {
     "data": {
      "text/html": [
       "\n",
       "    <div>\n",
       "      <progress value='412090368' class='' max='411074511' style='width:300px; height:20px; vertical-align: middle;'></progress>\n",
       "      100.25% [412090368/411074511 01:49&lt;00:00]\n",
       "    </div>\n",
       "    "
      ],
      "text/plain": [
       "<IPython.core.display.HTML object>"
      ]
     },
     "metadata": {},
     "output_type": "display_data"
    },
    {
     "name": "stderr",
     "output_type": "stream",
     "text": [
      "2023-02-01 17:12:24.933 | INFO     | geowrangler.datasets.geofabrik:download_osm_region_data:163 - OSM Data: Successfully downloaded and cached OSM data for philippines and 2017 at /home/butchtm/.cache/geowrangler/osm/philippines-170101-free.shp.zip!\n",
      "2023-02-01 17:12:24.935 | DEBUG    | geowrangler.datasets.geofabrik:load_pois:220 - OSM POIs for philippines and year 2017 being loaded from /home/butchtm/.cache/geowrangler/osm/philippines-170101-free.shp.zip\n"
     ]
    }
   ],
   "source": [
    "pois_ph = odm.load_pois(\"philippines\", year=\"2017\")"
   ]
  },
  {
   "cell_type": "code",
   "execution_count": 20,
   "id": "11703f77-d63b-4d6a-97f9-49baa9e9334a",
   "metadata": {},
   "outputs": [
    {
     "data": {
      "text/html": [
       "<div>\n",
       "<style scoped>\n",
       "    .dataframe tbody tr th:only-of-type {\n",
       "        vertical-align: middle;\n",
       "    }\n",
       "\n",
       "    .dataframe tbody tr th {\n",
       "        vertical-align: top;\n",
       "    }\n",
       "\n",
       "    .dataframe thead th {\n",
       "        text-align: right;\n",
       "    }\n",
       "</style>\n",
       "<table border=\"1\" class=\"dataframe\">\n",
       "  <thead>\n",
       "    <tr style=\"text-align: right;\">\n",
       "      <th></th>\n",
       "      <th>osm_id</th>\n",
       "      <th>code</th>\n",
       "      <th>fclass</th>\n",
       "      <th>name</th>\n",
       "      <th>geometry</th>\n",
       "    </tr>\n",
       "  </thead>\n",
       "  <tbody>\n",
       "    <tr>\n",
       "      <th>0</th>\n",
       "      <td>14401658</td>\n",
       "      <td>2742</td>\n",
       "      <td>viewpoint</td>\n",
       "      <td>East Point</td>\n",
       "      <td>POINT (120.62020 14.38562)</td>\n",
       "    </tr>\n",
       "    <tr>\n",
       "      <th>1</th>\n",
       "      <td>14446500</td>\n",
       "      <td>2721</td>\n",
       "      <td>attraction</td>\n",
       "      <td>Intramuros</td>\n",
       "      <td>POINT (120.97533 14.59059)</td>\n",
       "    </tr>\n",
       "    <tr>\n",
       "      <th>2</th>\n",
       "      <td>21717872</td>\n",
       "      <td>2722</td>\n",
       "      <td>museum</td>\n",
       "      <td>Ayala Museum</td>\n",
       "      <td>POINT (121.02324 14.55358)</td>\n",
       "    </tr>\n",
       "    <tr>\n",
       "      <th>3</th>\n",
       "      <td>24078301</td>\n",
       "      <td>2401</td>\n",
       "      <td>hotel</td>\n",
       "      <td>Sogo Grand Hotel</td>\n",
       "      <td>POINT (121.04515 14.56449)</td>\n",
       "    </tr>\n",
       "    <tr>\n",
       "      <th>4</th>\n",
       "      <td>24078959</td>\n",
       "      <td>2907</td>\n",
       "      <td>camera_surveillance</td>\n",
       "      <td>None</td>\n",
       "      <td>POINT (121.05945 14.60098)</td>\n",
       "    </tr>\n",
       "    <tr>\n",
       "      <th>...</th>\n",
       "      <td>...</td>\n",
       "      <td>...</td>\n",
       "      <td>...</td>\n",
       "      <td>...</td>\n",
       "      <td>...</td>\n",
       "    </tr>\n",
       "    <tr>\n",
       "      <th>67400</th>\n",
       "      <td>4584129489</td>\n",
       "      <td>2502</td>\n",
       "      <td>bakery</td>\n",
       "      <td>Come-on bakery</td>\n",
       "      <td>POINT (123.26424 9.19066)</td>\n",
       "    </tr>\n",
       "    <tr>\n",
       "      <th>67401</th>\n",
       "      <td>4584130190</td>\n",
       "      <td>2401</td>\n",
       "      <td>hotel</td>\n",
       "      <td>L-mansion</td>\n",
       "      <td>POINT (121.00280 14.55968)</td>\n",
       "    </tr>\n",
       "    <tr>\n",
       "      <th>67402</th>\n",
       "      <td>4584164592</td>\n",
       "      <td>2721</td>\n",
       "      <td>attraction</td>\n",
       "      <td>Lugnason Falls</td>\n",
       "      <td>POINT (123.53406 9.14808)</td>\n",
       "    </tr>\n",
       "    <tr>\n",
       "      <th>67403</th>\n",
       "      <td>4584215391</td>\n",
       "      <td>2742</td>\n",
       "      <td>viewpoint</td>\n",
       "      <td>None</td>\n",
       "      <td>POINT (123.53406 9.14804)</td>\n",
       "    </tr>\n",
       "    <tr>\n",
       "      <th>67404</th>\n",
       "      <td>4584253097</td>\n",
       "      <td>2511</td>\n",
       "      <td>convenience</td>\n",
       "      <td>Herlyn's Burger House</td>\n",
       "      <td>POINT (120.58250 14.99107)</td>\n",
       "    </tr>\n",
       "  </tbody>\n",
       "</table>\n",
       "<p>67405 rows × 5 columns</p>\n",
       "</div>"
      ],
      "text/plain": [
       "           osm_id  code               fclass                   name  \\\n",
       "0        14401658  2742            viewpoint             East Point   \n",
       "1        14446500  2721           attraction             Intramuros   \n",
       "2        21717872  2722               museum           Ayala Museum   \n",
       "3        24078301  2401                hotel       Sogo Grand Hotel   \n",
       "4        24078959  2907  camera_surveillance                   None   \n",
       "...           ...   ...                  ...                    ...   \n",
       "67400  4584129489  2502               bakery         Come-on bakery   \n",
       "67401  4584130190  2401                hotel              L-mansion   \n",
       "67402  4584164592  2721           attraction         Lugnason Falls   \n",
       "67403  4584215391  2742            viewpoint                   None   \n",
       "67404  4584253097  2511          convenience  Herlyn's Burger House   \n",
       "\n",
       "                         geometry  \n",
       "0      POINT (120.62020 14.38562)  \n",
       "1      POINT (120.97533 14.59059)  \n",
       "2      POINT (121.02324 14.55358)  \n",
       "3      POINT (121.04515 14.56449)  \n",
       "4      POINT (121.05945 14.60098)  \n",
       "...                           ...  \n",
       "67400   POINT (123.26424 9.19066)  \n",
       "67401  POINT (121.00280 14.55968)  \n",
       "67402   POINT (123.53406 9.14808)  \n",
       "67403   POINT (123.53406 9.14804)  \n",
       "67404  POINT (120.58250 14.99107)  \n",
       "\n",
       "[67405 rows x 5 columns]"
      ]
     },
     "execution_count": 20,
     "metadata": {},
     "output_type": "execute_result"
    }
   ],
   "source": [
    "pois_ph"
   ]
  },
  {
   "cell_type": "markdown",
   "id": "23351222-ee9a-4a51-8467-7452b61e3d86",
   "metadata": {},
   "source": [
    "## Downloading Ookla Data\n"
   ]
  },
  {
   "cell_type": "code",
   "execution_count": 21,
   "id": "f871558e-b391-46cc-89c4-ce2d6c10db74",
   "metadata": {},
   "outputs": [],
   "source": [
    "import geopandas as gpd\n",
    "import pandas as pd\n",
    "\n",
    "from geowrangler.datasets import ookla"
   ]
  },
  {
   "cell_type": "markdown",
   "id": "5a3c168f-017d-402c-b1fe-153262a8d78c",
   "metadata": {},
   "source": [
    "### Listing down available files"
   ]
  },
  {
   "cell_type": "code",
   "execution_count": 22,
   "id": "89ed5a78-94be-495a-9ab1-ffa47388ac5b",
   "metadata": {},
   "outputs": [
    {
     "data": {
      "text/plain": [
       "{OoklaQuarter(type='fixed', year='2019', quarter='1'): '2019-01-01_performance_fixed_tiles.parquet',\n",
       " OoklaQuarter(type='fixed', year='2019', quarter='2'): '2019-04-01_performance_fixed_tiles.parquet',\n",
       " OoklaQuarter(type='fixed', year='2019', quarter='3'): '2019-07-01_performance_fixed_tiles.parquet',\n",
       " OoklaQuarter(type='fixed', year='2019', quarter='4'): '2019-10-01_performance_fixed_tiles.parquet',\n",
       " OoklaQuarter(type='fixed', year='2020', quarter='1'): '2020-01-01_performance_fixed_tiles.parquet',\n",
       " OoklaQuarter(type='fixed', year='2020', quarter='2'): '2020-04-01_performance_fixed_tiles.parquet',\n",
       " OoklaQuarter(type='fixed', year='2020', quarter='3'): '2020-07-01_performance_fixed_tiles.parquet',\n",
       " OoklaQuarter(type='fixed', year='2020', quarter='4'): '2020-10-01_performance_fixed_tiles.parquet',\n",
       " OoklaQuarter(type='fixed', year='2021', quarter='1'): '2021-01-01_performance_fixed_tiles.parquet',\n",
       " OoklaQuarter(type='fixed', year='2021', quarter='2'): '2021-04-01_performance_fixed_tiles.parquet',\n",
       " OoklaQuarter(type='fixed', year='2021', quarter='3'): '2021-07-01_performance_fixed_tiles.parquet',\n",
       " OoklaQuarter(type='fixed', year='2021', quarter='4'): '2021-10-01_performance_fixed_tiles.parquet',\n",
       " OoklaQuarter(type='fixed', year='2022', quarter='1'): '2022-01-01_performance_fixed_tiles.parquet',\n",
       " OoklaQuarter(type='fixed', year='2022', quarter='2'): '2022-04-01_performance_fixed_tiles.parquet',\n",
       " OoklaQuarter(type='fixed', year='2022', quarter='3'): '2022-07-01_performance_fixed_tiles.parquet',\n",
       " OoklaQuarter(type='fixed', year='2022', quarter='4'): '2022-10-01_performance_fixed_tiles.parquet',\n",
       " OoklaQuarter(type='mobile', year='2019', quarter='1'): '2019-01-01_performance_mobile_tiles.parquet',\n",
       " OoklaQuarter(type='mobile', year='2019', quarter='2'): '2019-04-01_performance_mobile_tiles.parquet',\n",
       " OoklaQuarter(type='mobile', year='2019', quarter='3'): '2019-07-01_performance_mobile_tiles.parquet',\n",
       " OoklaQuarter(type='mobile', year='2019', quarter='4'): '2019-10-01_performance_mobile_tiles.parquet',\n",
       " OoklaQuarter(type='mobile', year='2020', quarter='1'): '2020-01-01_performance_mobile_tiles.parquet',\n",
       " OoklaQuarter(type='mobile', year='2020', quarter='2'): '2020-04-01_performance_mobile_tiles.parquet',\n",
       " OoklaQuarter(type='mobile', year='2020', quarter='3'): '2020-07-01_performance_mobile_tiles.parquet',\n",
       " OoklaQuarter(type='mobile', year='2020', quarter='4'): '2020-10-01_performance_mobile_tiles.parquet',\n",
       " OoklaQuarter(type='mobile', year='2021', quarter='1'): '2021-01-01_performance_mobile_tiles.parquet',\n",
       " OoklaQuarter(type='mobile', year='2021', quarter='2'): '2021-04-01_performance_mobile_tiles.parquet',\n",
       " OoklaQuarter(type='mobile', year='2021', quarter='3'): '2021-07-01_performance_mobile_tiles.parquet',\n",
       " OoklaQuarter(type='mobile', year='2021', quarter='4'): '2021-10-01_performance_mobile_tiles.parquet',\n",
       " OoklaQuarter(type='mobile', year='2022', quarter='1'): '2022-01-01_performance_mobile_tiles.parquet',\n",
       " OoklaQuarter(type='mobile', year='2022', quarter='2'): '2022-04-01_performance_mobile_tiles.parquet',\n",
       " OoklaQuarter(type='mobile', year='2022', quarter='3'): '2022-07-01_performance_mobile_tiles.parquet',\n",
       " OoklaQuarter(type='mobile', year='2022', quarter='4'): '2022-10-01_performance_mobile_tiles.parquet'}"
      ]
     },
     "execution_count": 22,
     "metadata": {},
     "output_type": "execute_result"
    }
   ],
   "source": [
    "ookla_files = ookla.list_ookla_files()\n",
    "ookla_files"
   ]
  },
  {
   "cell_type": "markdown",
   "id": "f2e8782e-0e2a-4587-94a9-e4293ba53994",
   "metadata": {},
   "source": [
    "### Downloading an ookla file to a directory\n",
    "> Warning: Ookla files are >300MB and can reach ~550MB. Download with caution"
   ]
  },
  {
   "cell_type": "code",
   "execution_count": 23,
   "id": "14f4d524-e19a-44f3-a0c9-9ed494a7dc65",
   "metadata": {},
   "outputs": [
    {
     "data": {
      "text/plain": [
       "Path('../test_dir/2019-01-01_performance_fixed_tiles.parquet')"
      ]
     },
     "execution_count": 23,
     "metadata": {},
     "output_type": "execute_result"
    }
   ],
   "source": [
    "!mkdir -p ../test_dir\n",
    "downloaded_file = ookla.download_ookla_file(\n",
    "    type_=\"fixed\", year=\"2019\", quarter=\"1\", directory=\"../test_dir\"\n",
    ")\n",
    "downloaded_file"
   ]
  },
  {
   "cell_type": "markdown",
   "id": "dd8b1662-b013-42ed-ba89-6104d6ad6389",
   "metadata": {},
   "source": [
    "### Loading ookla data"
   ]
  },
  {
   "cell_type": "code",
   "execution_count": 24,
   "id": "3dd92732-2e4d-4b2b-a647-0c385f9c3cde",
   "metadata": {},
   "outputs": [
    {
     "data": {
      "text/html": [
       "<div>\n",
       "<style scoped>\n",
       "    .dataframe tbody tr th:only-of-type {\n",
       "        vertical-align: middle;\n",
       "    }\n",
       "\n",
       "    .dataframe tbody tr th {\n",
       "        vertical-align: top;\n",
       "    }\n",
       "\n",
       "    .dataframe thead th {\n",
       "        text-align: right;\n",
       "    }\n",
       "</style>\n",
       "<table border=\"1\" class=\"dataframe\">\n",
       "  <thead>\n",
       "    <tr style=\"text-align: right;\">\n",
       "      <th></th>\n",
       "      <th>quadkey</th>\n",
       "      <th>tile</th>\n",
       "      <th>avg_d_kbps</th>\n",
       "      <th>avg_u_kbps</th>\n",
       "      <th>avg_lat_ms</th>\n",
       "      <th>tests</th>\n",
       "      <th>devices</th>\n",
       "    </tr>\n",
       "  </thead>\n",
       "  <tbody>\n",
       "    <tr>\n",
       "      <th>0</th>\n",
       "      <td>0022133222312322</td>\n",
       "      <td>POLYGON((-160.02685546875 70.6435894914449, -1...</td>\n",
       "      <td>8763</td>\n",
       "      <td>3646</td>\n",
       "      <td>45</td>\n",
       "      <td>1</td>\n",
       "      <td>1</td>\n",
       "    </tr>\n",
       "    <tr>\n",
       "      <th>1</th>\n",
       "      <td>0022133222330013</td>\n",
       "      <td>POLYGON((-160.032348632812 70.6399478155463, -...</td>\n",
       "      <td>9195</td>\n",
       "      <td>3347</td>\n",
       "      <td>43</td>\n",
       "      <td>1</td>\n",
       "      <td>1</td>\n",
       "    </tr>\n",
       "    <tr>\n",
       "      <th>2</th>\n",
       "      <td>0022133222330023</td>\n",
       "      <td>POLYGON((-160.043334960938 70.6363054807905, -...</td>\n",
       "      <td>6833</td>\n",
       "      <td>3788</td>\n",
       "      <td>42</td>\n",
       "      <td>1</td>\n",
       "      <td>1</td>\n",
       "    </tr>\n",
       "    <tr>\n",
       "      <th>3</th>\n",
       "      <td>0022133222330100</td>\n",
       "      <td>POLYGON((-160.02685546875 70.6417687358462, -1...</td>\n",
       "      <td>8895</td>\n",
       "      <td>3429</td>\n",
       "      <td>43</td>\n",
       "      <td>2</td>\n",
       "      <td>2</td>\n",
       "    </tr>\n",
       "    <tr>\n",
       "      <th>4</th>\n",
       "      <td>0022320121121332</td>\n",
       "      <td>POLYGON((-166.739501953125 68.3526207780586, -...</td>\n",
       "      <td>4877</td>\n",
       "      <td>935</td>\n",
       "      <td>45</td>\n",
       "      <td>3</td>\n",
       "      <td>2</td>\n",
       "    </tr>\n",
       "  </tbody>\n",
       "</table>\n",
       "</div>"
      ],
      "text/plain": [
       "            quadkey                                               tile  \\\n",
       "0  0022133222312322  POLYGON((-160.02685546875 70.6435894914449, -1...   \n",
       "1  0022133222330013  POLYGON((-160.032348632812 70.6399478155463, -...   \n",
       "2  0022133222330023  POLYGON((-160.043334960938 70.6363054807905, -...   \n",
       "3  0022133222330100  POLYGON((-160.02685546875 70.6417687358462, -1...   \n",
       "4  0022320121121332  POLYGON((-166.739501953125 68.3526207780586, -...   \n",
       "\n",
       "   avg_d_kbps  avg_u_kbps  avg_lat_ms  tests  devices  \n",
       "0        8763        3646          45      1        1  \n",
       "1        9195        3347          43      1        1  \n",
       "2        6833        3788          42      1        1  \n",
       "3        8895        3429          43      2        2  \n",
       "4        4877         935          45      3        2  "
      ]
     },
     "execution_count": 24,
     "metadata": {},
     "output_type": "execute_result"
    }
   ],
   "source": [
    "df = pd.read_parquet(downloaded_file)\n",
    "df.head()"
   ]
  }
 ],
 "metadata": {
  "kernelspec": {
   "display_name": "Python 3",
   "language": "python",
   "name": "python3"
  },
  "language_info": {
   "codemirror_mode": {
    "name": "ipython",
    "version": 3
   },
   "file_extension": ".py",
   "mimetype": "text/x-python",
   "name": "python",
   "nbconvert_exporter": "python",
   "pygments_lexer": "ipython3",
   "version": "3.9.13"
  },
  "vscode": {
   "interpreter": {
    "hash": "4a07a05096b6351e45107f092fcbc6d58e4d1183d490a1128ce24e8ca5af3ddc"
   }
  }
 },
 "nbformat": 4,
 "nbformat_minor": 5
}
