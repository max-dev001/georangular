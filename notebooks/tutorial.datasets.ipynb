{
 "cells": [
  {
   "cell_type": "code",
   "execution_count": 1,
   "id": "19d1c6bb-2f6e-4da8-a1d2-5da2ee4acb0f",
   "metadata": {
    "tags": []
   },
   "outputs": [],
   "source": [
    "# hide\n",
    "# all_slow"
   ]
  },
  {
   "cell_type": "code",
   "execution_count": 2,
   "id": "d3dbcf94-f89d-4ad0-b34a-8b33347e5c01",
   "metadata": {},
   "outputs": [],
   "source": [
    "# hide\n",
    "# no_test\n",
    "![ -e /content ] && pip install -Uqq pyarrow fastparquet\n",
    "![ -e /content ] && pip install -Uqq geowrangler"
   ]
  },
  {
   "cell_type": "markdown",
   "id": "99624303-5fa5-44b9-bf08-2f9f3c054614",
   "metadata": {},
   "source": [
    "# Datasets Download\n",
    "> Basic introduction to downloading open geospatial data using geowrangler"
   ]
  },
  {
   "cell_type": "code",
   "execution_count": 3,
   "id": "2a80a52a-e47d-4b33-921c-b3ea241da823",
   "metadata": {},
   "outputs": [],
   "source": [
    "%reload_ext autoreload\n",
    "%autoreload 2"
   ]
  },
  {
   "cell_type": "markdown",
   "id": "0fc7fd97-7063-4205-9b23-0920cb26b4b5",
   "metadata": {},
   "source": [
    "## Downloading Geofabrik Data"
   ]
  },
  {
   "cell_type": "code",
   "execution_count": 4,
   "id": "98a64b09-7f4d-4d47-8ae6-25498a280c62",
   "metadata": {},
   "outputs": [],
   "source": [
    "import geopandas as gpd\n",
    "\n",
    "from geowrangler.datasets import geofabrik"
   ]
  },
  {
   "cell_type": "markdown",
   "id": "c2e93ffa-4b66-4e2d-8965-0f4c95250df4",
   "metadata": {},
   "source": [
    "### Listing down available regions"
   ]
  },
  {
   "cell_type": "code",
   "execution_count": 5,
   "id": "bf6d7a73-2ace-4d10-9e30-f119410240c9",
   "metadata": {},
   "outputs": [
    {
     "data": {
      "text/plain": [
       "{'afghanistan': 'https://download.geofabrik.de/asia/afghanistan-latest-free.shp.zip',\n",
       " 'armenia': 'https://download.geofabrik.de/asia/armenia-latest-free.shp.zip',\n",
       " 'azerbaijan': 'https://download.geofabrik.de/asia/azerbaijan-latest-free.shp.zip',\n",
       " 'bangladesh': 'https://download.geofabrik.de/asia/bangladesh-latest-free.shp.zip',\n",
       " 'bhutan': 'https://download.geofabrik.de/asia/bhutan-latest-free.shp.zip',\n",
       " 'cambodia': 'https://download.geofabrik.de/asia/cambodia-latest-free.shp.zip',\n",
       " 'central-zone': 'https://download.geofabrik.de/asia/india/central-zone-latest-free.shp.zip',\n",
       " 'china': 'https://download.geofabrik.de/asia/china-latest-free.shp.zip',\n",
       " 'chubu': 'https://download.geofabrik.de/asia/japan/chubu-latest-free.shp.zip',\n",
       " 'chugoku': 'https://download.geofabrik.de/asia/japan/chugoku-latest-free.shp.zip',\n",
       " 'east-timor': 'https://download.geofabrik.de/asia/east-timor-latest-free.shp.zip',\n",
       " 'eastern-zone': 'https://download.geofabrik.de/asia/india/eastern-zone-latest-free.shp.zip',\n",
       " 'gcc-states': 'https://download.geofabrik.de/asia/gcc-states-latest-free.shp.zip',\n",
       " 'hokkaido': 'https://download.geofabrik.de/asia/japan/hokkaido-latest-free.shp.zip',\n",
       " 'iran': 'https://download.geofabrik.de/asia/iran-latest-free.shp.zip',\n",
       " 'iraq': 'https://download.geofabrik.de/asia/iraq-latest-free.shp.zip',\n",
       " 'israel-and-palestine': 'https://download.geofabrik.de/asia/israel-and-palestine-latest-free.shp.zip',\n",
       " 'java': 'https://download.geofabrik.de/asia/indonesia/java-latest-free.shp.zip',\n",
       " 'jordan': 'https://download.geofabrik.de/asia/jordan-latest-free.shp.zip',\n",
       " 'kalimantan': 'https://download.geofabrik.de/asia/indonesia/kalimantan-latest-free.shp.zip',\n",
       " 'kansai': 'https://download.geofabrik.de/asia/japan/kansai-latest-free.shp.zip',\n",
       " 'kanto': 'https://download.geofabrik.de/asia/japan/kanto-latest-free.shp.zip',\n",
       " 'kazakhstan': 'https://download.geofabrik.de/asia/kazakhstan-latest-free.shp.zip',\n",
       " 'kyrgyzstan': 'https://download.geofabrik.de/asia/kyrgyzstan-latest-free.shp.zip',\n",
       " 'kyushu': 'https://download.geofabrik.de/asia/japan/kyushu-latest-free.shp.zip',\n",
       " 'laos': 'https://download.geofabrik.de/asia/laos-latest-free.shp.zip',\n",
       " 'lebanon': 'https://download.geofabrik.de/asia/lebanon-latest-free.shp.zip',\n",
       " 'malaysia-singapore-brunei': 'https://download.geofabrik.de/asia/malaysia-singapore-brunei-latest-free.shp.zip',\n",
       " 'maldives': 'https://download.geofabrik.de/asia/maldives-latest-free.shp.zip',\n",
       " 'maluku': 'https://download.geofabrik.de/asia/indonesia/maluku-latest-free.shp.zip',\n",
       " 'mongolia': 'https://download.geofabrik.de/asia/mongolia-latest-free.shp.zip',\n",
       " 'myanmar': 'https://download.geofabrik.de/asia/myanmar-latest-free.shp.zip',\n",
       " 'nepal': 'https://download.geofabrik.de/asia/nepal-latest-free.shp.zip',\n",
       " 'north-eastern-zone': 'https://download.geofabrik.de/asia/india/north-eastern-zone-latest-free.shp.zip',\n",
       " 'north-korea': 'https://download.geofabrik.de/asia/north-korea-latest-free.shp.zip',\n",
       " 'northern-zone': 'https://download.geofabrik.de/asia/india/northern-zone-latest-free.shp.zip',\n",
       " 'nusa-tenggara': 'https://download.geofabrik.de/asia/indonesia/nusa-tenggara-latest-free.shp.zip',\n",
       " 'pakistan': 'https://download.geofabrik.de/asia/pakistan-latest-free.shp.zip',\n",
       " 'papua': 'https://download.geofabrik.de/asia/indonesia/papua-latest-free.shp.zip',\n",
       " 'philippines': 'https://download.geofabrik.de/asia/philippines-latest-free.shp.zip',\n",
       " 'shikoku': 'https://download.geofabrik.de/asia/japan/shikoku-latest-free.shp.zip',\n",
       " 'south-korea': 'https://download.geofabrik.de/asia/south-korea-latest-free.shp.zip',\n",
       " 'southern-zone': 'https://download.geofabrik.de/asia/india/southern-zone-latest-free.shp.zip',\n",
       " 'sri-lanka': 'https://download.geofabrik.de/asia/sri-lanka-latest-free.shp.zip',\n",
       " 'sulawesi': 'https://download.geofabrik.de/asia/indonesia/sulawesi-latest-free.shp.zip',\n",
       " 'sumatra': 'https://download.geofabrik.de/asia/indonesia/sumatra-latest-free.shp.zip',\n",
       " 'syria': 'https://download.geofabrik.de/asia/syria-latest-free.shp.zip',\n",
       " 'taiwan': 'https://download.geofabrik.de/asia/taiwan-latest-free.shp.zip',\n",
       " 'tajikistan': 'https://download.geofabrik.de/asia/tajikistan-latest-free.shp.zip',\n",
       " 'thailand': 'https://download.geofabrik.de/asia/thailand-latest-free.shp.zip',\n",
       " 'tohoku': 'https://download.geofabrik.de/asia/japan/tohoku-latest-free.shp.zip',\n",
       " 'turkmenistan': 'https://download.geofabrik.de/asia/turkmenistan-latest-free.shp.zip',\n",
       " 'uzbekistan': 'https://download.geofabrik.de/asia/uzbekistan-latest-free.shp.zip',\n",
       " 'vietnam': 'https://download.geofabrik.de/asia/vietnam-latest-free.shp.zip',\n",
       " 'western-zone': 'https://download.geofabrik.de/asia/india/western-zone-latest-free.shp.zip',\n",
       " 'yemen': 'https://download.geofabrik.de/asia/yemen-latest-free.shp.zip'}"
      ]
     },
     "execution_count": 5,
     "metadata": {},
     "output_type": "execute_result"
    }
   ],
   "source": [
    "regions = geofabrik.list_geofabrik_regions()\n",
    "# list down regions in asia\n",
    "{k: v for k, v in regions.items() if \"asia\" in v}"
   ]
  },
  {
   "cell_type": "markdown",
   "id": "97dda8b8-2c21-4767-8241-c70d3502fae7",
   "metadata": {},
   "source": [
    "### Downloading a region file to a directory\n"
   ]
  },
  {
   "cell_type": "code",
   "execution_count": 6,
   "id": "3150a13f-cab3-49b2-bfd7-9741858b970d",
   "metadata": {},
   "outputs": [],
   "source": [
    "# hide\n",
    "# no_test\n",
    "!rm -r ../test_dir\n",
    "!mkdir -p ../test_dir"
   ]
  },
  {
   "cell_type": "code",
   "execution_count": 15,
   "id": "17ae0871-236d-4006-bf8b-e25ebdd27b31",
   "metadata": {},
   "outputs": [
    {
     "name": "stderr",
     "output_type": "stream",
     "text": [
      "2023-02-01 11:05:38.099 | INFO     | geowrangler.datasets.utils:urlretrieve:40 - Retrieving https://download.geofabrik.de/asia/philippines-latest-free.shp.zip into ../test_dir/philippines-latest-free.shp.zip\n"
     ]
    },
    {
     "data": {
      "text/html": [
       "\n",
       "<style>\n",
       "    /* Turns off some styling */\n",
       "    progress {\n",
       "        /* gets rid of default border in Firefox and Opera. */\n",
       "        border: none;\n",
       "        /* Needs to be in here for Safari polyfill so background images work as expected. */\n",
       "        background-size: auto;\n",
       "    }\n",
       "    progress:not([value]), progress:not([value])::-webkit-progress-bar {\n",
       "        background: repeating-linear-gradient(45deg, #7e7e7e, #7e7e7e 10px, #5c5c5c 10px, #5c5c5c 20px);\n",
       "    }\n",
       "    .progress-bar-interrupted, .progress-bar-interrupted::-webkit-progress-bar {\n",
       "        background: #F44336;\n",
       "    }\n",
       "</style>\n"
      ],
      "text/plain": [
       "<IPython.core.display.HTML object>"
      ]
     },
     "metadata": {},
     "output_type": "display_data"
    },
    {
     "data": {
      "text/html": [
       "\n",
       "    <div>\n",
       "      <progress value='1185013760' class='' max='1185011560' style='width:300px; height:20px; vertical-align: middle;'></progress>\n",
       "      100.00% [1185013760/1185011560 02:54&lt;00:00]\n",
       "    </div>\n",
       "    "
      ],
      "text/plain": [
       "<IPython.core.display.HTML object>"
      ]
     },
     "metadata": {},
     "output_type": "display_data"
    },
    {
     "name": "stdout",
     "output_type": "stream",
     "text": [
      "CPU times: user 14.2 s, sys: 12.5 s, total: 26.7 s\n",
      "Wall time: 2min 55s\n"
     ]
    },
    {
     "data": {
      "text/plain": [
       "Path('../test_dir/philippines-latest-free.shp.zip')"
      ]
     },
     "execution_count": 15,
     "metadata": {},
     "output_type": "execute_result"
    }
   ],
   "source": [
    "%%time\n",
    "# no_test\n",
    "downloaded_file = geofabrik.download_geofabrik_region(\"laos\", \"../test_dir\")\n",
    "downloaded_file"
   ]
  },
  {
   "cell_type": "markdown",
   "id": "98c6a10a-24c6-4762-925a-1a276f072bdb",
   "metadata": {},
   "source": [
    "### Loading geofabrik files"
   ]
  },
  {
   "cell_type": "code",
   "execution_count": 8,
   "id": "27c87df0-faf4-47ed-8a15-656cfcd9d0c2",
   "metadata": {},
   "outputs": [],
   "source": [
    "# %%time\n",
    "gdf = gpd.read_file(downloaded_file)\n",
    "gdf.head()"
   ]
  },
  {
   "cell_type": "markdown",
   "id": "5598490b-20fb-494b-b909-352ae340ed26",
   "metadata": {},
   "source": [
    "You can also list the contents of the zipped shape file as well as load the shape file within it"
   ]
  },
  {
   "cell_type": "code",
   "execution_count": 20,
   "id": "7d1f0210-7d28-486e-8b0e-93714d342c5d",
   "metadata": {},
   "outputs": [
    {
     "name": "stdout",
     "output_type": "stream",
     "text": [
      "Archive:  ../test_dir/philippines-latest-free.shp.zip\n",
      "  Length      Date    Time    Name\n",
      "---------  ---------- -----   ----\n",
      "      654  2023-02-01 08:31   README\n",
      "        6  2023-02-01 08:28   gis_osm_buildings_a_free_1.cpg\n",
      "1739092439  2023-02-01 08:30   gis_osm_buildings_a_free_1.dbf\n",
      "      144  2023-02-01 08:28   gis_osm_buildings_a_free_1.prj\n",
      "1484415884  2023-02-01 08:30   gis_osm_buildings_a_free_1.shp\n",
      " 84319724  2023-02-01 08:30   gis_osm_buildings_a_free_1.shx\n",
      "        6  2023-02-01 08:28   gis_osm_landuse_a_free_1.cpg\n",
      " 29884517  2023-02-01 08:30   gis_osm_landuse_a_free_1.dbf\n",
      "      144  2023-02-01 08:28   gis_osm_landuse_a_free_1.prj\n",
      "125154324  2023-02-01 08:30   gis_osm_landuse_a_free_1.shp\n",
      "  1648892  2023-02-01 08:30   gis_osm_landuse_a_free_1.shx\n",
      "        6  2023-02-01 08:28   gis_osm_natural_a_free_1.cpg\n",
      "   382672  2023-02-01 08:30   gis_osm_natural_a_free_1.dbf\n",
      "      144  2023-02-01 08:28   gis_osm_natural_a_free_1.prj\n",
      "  1694392  2023-02-01 08:30   gis_osm_natural_a_free_1.shp\n",
      "    21204  2023-02-01 08:30   gis_osm_natural_a_free_1.shx\n",
      "        6  2023-02-01 08:28   gis_osm_natural_free_1.cpg\n",
      "  4896087  2023-02-01 08:30   gis_osm_natural_free_1.dbf\n",
      "      144  2023-02-01 08:28   gis_osm_natural_free_1.prj\n",
      "   945520  2023-02-01 08:30   gis_osm_natural_free_1.shp\n",
      "   270220  2023-02-01 08:30   gis_osm_natural_free_1.shx\n",
      "        6  2023-02-01 08:28   gis_osm_places_a_free_1.cpg\n",
      "   338404  2023-02-01 08:30   gis_osm_places_a_free_1.dbf\n",
      "      144  2023-02-01 08:28   gis_osm_places_a_free_1.prj\n",
      " 21915760  2023-02-01 08:30   gis_osm_places_a_free_1.shp\n",
      "    17556  2023-02-01 08:30   gis_osm_places_a_free_1.shx\n",
      "        6  2023-02-01 08:28   gis_osm_places_free_1.cpg\n",
      "  6117114  2023-02-01 08:30   gis_osm_places_free_1.dbf\n",
      "      144  2023-02-01 08:28   gis_osm_places_free_1.prj\n",
      "  1105092  2023-02-01 08:30   gis_osm_places_free_1.shp\n",
      "   315812  2023-02-01 08:30   gis_osm_places_free_1.shx\n",
      "        6  2023-02-01 08:28   gis_osm_pofw_a_free_1.cpg\n",
      "  1262967  2023-02-01 08:30   gis_osm_pofw_a_free_1.dbf\n",
      "      144  2023-02-01 08:28   gis_osm_pofw_a_free_1.prj\n",
      "  1476444  2023-02-01 08:30   gis_osm_pofw_a_free_1.shp\n",
      "    69772  2023-02-01 08:30   gis_osm_pofw_a_free_1.shx\n",
      "        6  2023-02-01 08:28   gis_osm_pofw_free_1.cpg\n",
      "   536807  2023-02-01 08:30   gis_osm_pofw_free_1.dbf\n",
      "      144  2023-02-01 08:28   gis_osm_pofw_free_1.prj\n",
      "   103728  2023-02-01 08:30   gis_osm_pofw_free_1.shp\n",
      "    29708  2023-02-01 08:30   gis_osm_pofw_free_1.shx\n",
      "        6  2023-02-01 08:28   gis_osm_pois_a_free_1.cpg\n",
      " 16629197  2023-02-01 08:30   gis_osm_pois_a_free_1.dbf\n",
      "      144  2023-02-01 08:28   gis_osm_pois_a_free_1.prj\n",
      " 20168564  2023-02-01 08:30   gis_osm_pois_a_free_1.shp\n",
      "   917564  2023-02-01 08:30   gis_osm_pois_a_free_1.shx\n",
      "        6  2023-02-01 08:28   gis_osm_pois_free_1.cpg\n",
      " 19315902  2023-02-01 08:30   gis_osm_pois_free_1.dbf\n",
      "      144  2023-02-01 08:28   gis_osm_pois_free_1.prj\n",
      "  3730036  2023-02-01 08:30   gis_osm_pois_free_1.shp\n",
      "  1065796  2023-02-01 08:30   gis_osm_pois_free_1.shx\n",
      "        6  2023-02-01 08:28   gis_osm_railways_free_1.cpg\n",
      "   174045  2023-02-01 08:30   gis_osm_railways_free_1.dbf\n",
      "      144  2023-02-01 08:28   gis_osm_railways_free_1.prj\n",
      "   216108  2023-02-01 08:30   gis_osm_railways_free_1.shp\n",
      "     8844  2023-02-01 08:30   gis_osm_railways_free_1.shx\n",
      "        6  2023-02-01 08:28   gis_osm_roads_free_1.cpg\n",
      "249558735  2023-02-01 08:30   gis_osm_roads_free_1.dbf\n",
      "      144  2023-02-01 08:28   gis_osm_roads_free_1.prj\n",
      "338989532  2023-02-01 08:30   gis_osm_roads_free_1.shp\n",
      " 10909756  2023-02-01 08:30   gis_osm_roads_free_1.shx\n",
      "        6  2023-02-01 08:28   gis_osm_traffic_a_free_1.cpg\n",
      "  2396577  2023-02-01 08:30   gis_osm_traffic_a_free_1.dbf\n",
      "      144  2023-02-01 08:28   gis_osm_traffic_a_free_1.prj\n",
      "  2757992  2023-02-01 08:30   gis_osm_traffic_a_free_1.shp\n",
      "   132316  2023-02-01 08:30   gis_osm_traffic_a_free_1.shx\n",
      "        6  2023-02-01 08:28   gis_osm_traffic_free_1.cpg\n",
      "  6013022  2023-02-01 08:30   gis_osm_traffic_free_1.dbf\n",
      "      144  2023-02-01 08:28   gis_osm_traffic_free_1.prj\n",
      "  1161204  2023-02-01 08:30   gis_osm_traffic_free_1.shp\n",
      "   331844  2023-02-01 08:30   gis_osm_traffic_free_1.shx\n",
      "        6  2023-02-01 08:28   gis_osm_transport_a_free_1.cpg\n",
      "   223607  2023-02-01 08:30   gis_osm_transport_a_free_1.dbf\n",
      "      144  2023-02-01 08:28   gis_osm_transport_a_free_1.prj\n",
      "   454900  2023-02-01 08:30   gis_osm_transport_a_free_1.shp\n",
      "    12428  2023-02-01 08:30   gis_osm_transport_a_free_1.shx\n",
      "        6  2023-02-01 08:28   gis_osm_transport_free_1.cpg\n",
      "  1109992  2023-02-01 08:30   gis_osm_transport_free_1.dbf\n",
      "      144  2023-02-01 08:28   gis_osm_transport_free_1.prj\n",
      "   214412  2023-02-01 08:30   gis_osm_transport_free_1.shp\n",
      "    61332  2023-02-01 08:30   gis_osm_transport_free_1.shx\n",
      "        6  2023-02-01 08:28   gis_osm_water_a_free_1.cpg\n",
      "  7731272  2023-02-01 08:30   gis_osm_water_a_free_1.dbf\n",
      "      144  2023-02-01 08:28   gis_osm_water_a_free_1.prj\n",
      " 59572504  2023-02-01 08:30   gis_osm_water_a_free_1.shp\n",
      "   426644  2023-02-01 08:30   gis_osm_water_a_free_1.shx\n",
      "        6  2023-02-01 08:28   gis_osm_waterways_free_1.cpg\n",
      " 12739694  2023-02-01 08:30   gis_osm_waterways_free_1.dbf\n",
      "      144  2023-02-01 08:28   gis_osm_waterways_free_1.prj\n",
      " 78098036  2023-02-01 08:30   gis_osm_waterways_free_1.shp\n",
      "   679540  2023-02-01 08:30   gis_osm_waterways_free_1.shx\n",
      "---------                     -------\n",
      "4341819788                     91 files\n"
     ]
    }
   ],
   "source": [
    "!unzip -l {downloaded_file.as_posix()}"
   ]
  },
  {
   "cell_type": "code",
   "execution_count": 22,
   "id": "8d20c11d-4dba-4fec-9f40-5cb21441a9e6",
   "metadata": {},
   "outputs": [
    {
     "name": "stdout",
     "output_type": "stream",
     "text": [
      "CPU times: user 4.05 s, sys: 0 ns, total: 4.05 s\n",
      "Wall time: 4.04 s\n"
     ]
    }
   ],
   "source": [
    "%%time\n",
    "gdf2 = gpd.read_file(f\"{downloaded_file.as_posix()}!gis_osm_pois_free_1.shp\")"
   ]
  },
  {
   "cell_type": "markdown",
   "id": "b70a7083-1fb6-414e-9ac6-a2fec97ef949",
   "metadata": {},
   "source": [
    "### Unzipping and Caching OSM \n",
    "\n",
    "In addition downloading, the geofabrik module provides an unzipping and caching facility (default cache directory: `~/.cache/geowrangler/osm` ) to make it easier to access OSM data."
   ]
  },
  {
   "cell_type": "code",
   "execution_count": 12,
   "id": "804a52c0-9f58-40d1-a666-2d193f425c2d",
   "metadata": {},
   "outputs": [
    {
     "name": "stderr",
     "output_type": "stream",
     "text": [
      "2023-02-01 11:01:55.933 | INFO     | geowrangler.datasets.geofabrik:download_osm_region_data:148 - OSM Data: Cached data available for afghanistan at /home/butchtm/.geowrangler/osm/afghanistan? True\n"
     ]
    },
    {
     "name": "stdout",
     "output_type": "stream",
     "text": [
      "CPU times: user 2.98 ms, sys: 1.27 ms, total: 4.25 ms\n",
      "Wall time: 3.4 ms\n"
     ]
    },
    {
     "data": {
      "text/plain": [
       "'/home/butchtm/.geowrangler/osm/afghanistan'"
      ]
     },
     "execution_count": 12,
     "metadata": {},
     "output_type": "execute_result"
    }
   ],
   "source": [
    "%%time\n",
    "download_path = geofabrik.download_osm_region_data(\"afghanistan\")\n",
    "download_path"
   ]
  },
  {
   "cell_type": "markdown",
   "id": "2e854d46-2981-41f2-94c0-0ae3e3566018",
   "metadata": {},
   "source": [
    "Downloading it the second time around should be much faster as it\n",
    "only checks if its in the cache and returns the path"
   ]
  },
  {
   "cell_type": "code",
   "execution_count": 13,
   "id": "7f2b2e55-6d64-4ade-b8c1-24baa9d7f39b",
   "metadata": {},
   "outputs": [
    {
     "name": "stderr",
     "output_type": "stream",
     "text": [
      "2023-02-01 11:01:55.976 | INFO     | geowrangler.datasets.geofabrik:download_osm_region_data:148 - OSM Data: Cached data available for afghanistan at /home/butchtm/.geowrangler/osm/afghanistan? True\n"
     ]
    },
    {
     "name": "stdout",
     "output_type": "stream",
     "text": [
      "CPU times: user 1.9 ms, sys: 816 µs, total: 2.71 ms\n",
      "Wall time: 2.26 ms\n"
     ]
    },
    {
     "data": {
      "text/plain": [
       "'/home/butchtm/.geowrangler/osm/afghanistan'"
      ]
     },
     "execution_count": 13,
     "metadata": {},
     "output_type": "execute_result"
    }
   ],
   "source": [
    "%%time\n",
    "download_path2 = geofabrik.download_osm_region_data(\"afghanistan\")\n",
    "download_path2"
   ]
  },
  {
   "cell_type": "code",
   "execution_count": 14,
   "id": "d816c677-01db-4167-aaea-9d7cb7a31b47",
   "metadata": {},
   "outputs": [
    {
     "name": "stdout",
     "output_type": "stream",
     "text": [
      "-rw-r--r-- 1 butchtm butchtm       654 Jan 31 13:18 /home/butchtm/.geowrangler/osm/afghanistan/README\n",
      "-rw-r--r-- 1 butchtm butchtm         6 Jan 31 13:18 /home/butchtm/.geowrangler/osm/afghanistan/gis_osm_buildings_a_free_1.cpg\n",
      "-rw-r--r-- 1 butchtm butchtm 272553794 Jan 31 13:18 /home/butchtm/.geowrangler/osm/afghanistan/gis_osm_buildings_a_free_1.dbf\n",
      "-rw-r--r-- 1 butchtm butchtm       144 Jan 31 13:18 /home/butchtm/.geowrangler/osm/afghanistan/gis_osm_buildings_a_free_1.prj\n",
      "-rw-r--r-- 1 butchtm butchtm 248453820 Jan 31 13:18 /home/butchtm/.geowrangler/osm/afghanistan/gis_osm_buildings_a_free_1.shp\n",
      "-rw-r--r-- 1 butchtm butchtm  13214820 Jan 31 13:18 /home/butchtm/.geowrangler/osm/afghanistan/gis_osm_buildings_a_free_1.shx\n",
      "-rw-r--r-- 1 butchtm butchtm         6 Jan 31 13:18 /home/butchtm/.geowrangler/osm/afghanistan/gis_osm_landuse_a_free_1.cpg\n",
      "-rw-r--r-- 1 butchtm butchtm  17009387 Jan 31 13:18 /home/butchtm/.geowrangler/osm/afghanistan/gis_osm_landuse_a_free_1.dbf\n",
      "-rw-r--r-- 1 butchtm butchtm       144 Jan 31 13:18 /home/butchtm/.geowrangler/osm/afghanistan/gis_osm_landuse_a_free_1.prj\n",
      "-rw-r--r-- 1 butchtm butchtm  31891452 Jan 31 13:18 /home/butchtm/.geowrangler/osm/afghanistan/gis_osm_landuse_a_free_1.shp\n",
      "-rw-r--r-- 1 butchtm butchtm    938540 Jan 31 13:18 /home/butchtm/.geowrangler/osm/afghanistan/gis_osm_landuse_a_free_1.shx\n",
      "-rw-r--r-- 1 butchtm butchtm         6 Jan 31 13:18 /home/butchtm/.geowrangler/osm/afghanistan/gis_osm_natural_a_free_1.cpg\n",
      "-rw-r--r-- 1 butchtm butchtm    580742 Jan 31 13:18 /home/butchtm/.geowrangler/osm/afghanistan/gis_osm_natural_a_free_1.dbf\n",
      "-rw-r--r-- 1 butchtm butchtm       144 Jan 31 13:18 /home/butchtm/.geowrangler/osm/afghanistan/gis_osm_natural_a_free_1.prj\n",
      "-rw-r--r-- 1 butchtm butchtm   4753516 Jan 31 13:18 /home/butchtm/.geowrangler/osm/afghanistan/gis_osm_natural_a_free_1.shp\n",
      "-rw-r--r-- 1 butchtm butchtm     32132 Jan 31 13:18 /home/butchtm/.geowrangler/osm/afghanistan/gis_osm_natural_a_free_1.shx\n",
      "-rw-r--r-- 1 butchtm butchtm         6 Jan 31 13:18 /home/butchtm/.geowrangler/osm/afghanistan/gis_osm_natural_free_1.cpg\n",
      "-rw-r--r-- 1 butchtm butchtm  35921012 Jan 31 13:18 /home/butchtm/.geowrangler/osm/afghanistan/gis_osm_natural_free_1.dbf\n",
      "-rw-r--r-- 1 butchtm butchtm       144 Jan 31 13:18 /home/butchtm/.geowrangler/osm/afghanistan/gis_osm_natural_free_1.prj\n",
      "-rw-r--r-- 1 butchtm butchtm   6936540 Jan 31 13:18 /home/butchtm/.geowrangler/osm/afghanistan/gis_osm_natural_free_1.shp\n",
      "-rw-r--r-- 1 butchtm butchtm   1981940 Jan 31 13:18 /home/butchtm/.geowrangler/osm/afghanistan/gis_osm_natural_free_1.shx\n",
      "-rw-r--r-- 1 butchtm butchtm         6 Jan 31 13:18 /home/butchtm/.geowrangler/osm/afghanistan/gis_osm_places_a_free_1.cpg\n",
      "-rw-r--r-- 1 butchtm butchtm    131014 Jan 31 13:18 /home/butchtm/.geowrangler/osm/afghanistan/gis_osm_places_a_free_1.dbf\n",
      "-rw-r--r-- 1 butchtm butchtm       144 Jan 31 13:18 /home/butchtm/.geowrangler/osm/afghanistan/gis_osm_places_a_free_1.prj\n",
      "-rw-r--r-- 1 butchtm butchtm    362648 Jan 31 13:18 /home/butchtm/.geowrangler/osm/afghanistan/gis_osm_places_a_free_1.shp\n",
      "-rw-r--r-- 1 butchtm butchtm      6852 Jan 31 13:18 /home/butchtm/.geowrangler/osm/afghanistan/gis_osm_places_a_free_1.shx\n",
      "-rw-r--r-- 1 butchtm butchtm         6 Jan 31 13:18 /home/butchtm/.geowrangler/osm/afghanistan/gis_osm_places_free_1.cpg\n",
      "-rw-r--r-- 1 butchtm butchtm    787439 Jan 31 13:18 /home/butchtm/.geowrangler/osm/afghanistan/gis_osm_places_free_1.dbf\n",
      "-rw-r--r-- 1 butchtm butchtm       144 Jan 31 13:18 /home/butchtm/.geowrangler/osm/afghanistan/gis_osm_places_free_1.prj\n",
      "-rw-r--r-- 1 butchtm butchtm    142312 Jan 31 13:18 /home/butchtm/.geowrangler/osm/afghanistan/gis_osm_places_free_1.shp\n",
      "-rw-r--r-- 1 butchtm butchtm     40732 Jan 31 13:18 /home/butchtm/.geowrangler/osm/afghanistan/gis_osm_places_free_1.shx\n",
      "-rw-r--r-- 1 butchtm butchtm         6 Jan 31 13:18 /home/butchtm/.geowrangler/osm/afghanistan/gis_osm_pofw_a_free_1.cpg\n",
      "-rw-r--r-- 1 butchtm butchtm     93107 Jan 31 13:18 /home/butchtm/.geowrangler/osm/afghanistan/gis_osm_pofw_a_free_1.dbf\n",
      "-rw-r--r-- 1 butchtm butchtm       144 Jan 31 13:18 /home/butchtm/.geowrangler/osm/afghanistan/gis_osm_pofw_a_free_1.prj\n",
      "-rw-r--r-- 1 butchtm butchtm    108788 Jan 31 13:18 /home/butchtm/.geowrangler/osm/afghanistan/gis_osm_pofw_a_free_1.shp\n",
      "-rw-r--r-- 1 butchtm butchtm      5228 Jan 31 13:18 /home/butchtm/.geowrangler/osm/afghanistan/gis_osm_pofw_a_free_1.shx\n",
      "-rw-r--r-- 1 butchtm butchtm         6 Jan 31 13:18 /home/butchtm/.geowrangler/osm/afghanistan/gis_osm_pofw_free_1.cpg\n",
      "-rw-r--r-- 1 butchtm butchtm    278562 Jan 31 13:18 /home/butchtm/.geowrangler/osm/afghanistan/gis_osm_pofw_free_1.dbf\n",
      "-rw-r--r-- 1 butchtm butchtm       144 Jan 31 13:18 /home/butchtm/.geowrangler/osm/afghanistan/gis_osm_pofw_free_1.prj\n",
      "-rw-r--r-- 1 butchtm butchtm     53860 Jan 31 13:18 /home/butchtm/.geowrangler/osm/afghanistan/gis_osm_pofw_free_1.shp\n",
      "-rw-r--r-- 1 butchtm butchtm     15460 Jan 31 13:18 /home/butchtm/.geowrangler/osm/afghanistan/gis_osm_pofw_free_1.shx\n",
      "-rw-r--r-- 1 butchtm butchtm         6 Jan 31 13:18 /home/butchtm/.geowrangler/osm/afghanistan/gis_osm_pois_a_free_1.cpg\n",
      "-rw-r--r-- 1 butchtm butchtm    507372 Jan 31 13:18 /home/butchtm/.geowrangler/osm/afghanistan/gis_osm_pois_a_free_1.dbf\n",
      "-rw-r--r-- 1 butchtm butchtm       144 Jan 31 13:18 /home/butchtm/.geowrangler/osm/afghanistan/gis_osm_pois_a_free_1.prj\n",
      "-rw-r--r-- 1 butchtm butchtm    763640 Jan 31 13:18 /home/butchtm/.geowrangler/osm/afghanistan/gis_osm_pois_a_free_1.shp\n",
      "-rw-r--r-- 1 butchtm butchtm     28084 Jan 31 13:18 /home/butchtm/.geowrangler/osm/afghanistan/gis_osm_pois_a_free_1.shx\n",
      "-rw-r--r-- 1 butchtm butchtm         6 Jan 31 13:18 /home/butchtm/.geowrangler/osm/afghanistan/gis_osm_pois_free_1.cpg\n",
      "-rw-r--r-- 1 butchtm butchtm    667017 Jan 31 13:18 /home/butchtm/.geowrangler/osm/afghanistan/gis_osm_pois_free_1.dbf\n",
      "-rw-r--r-- 1 butchtm butchtm       144 Jan 31 13:18 /home/butchtm/.geowrangler/osm/afghanistan/gis_osm_pois_free_1.prj\n",
      "-rw-r--r-- 1 butchtm butchtm    128872 Jan 31 13:18 /home/butchtm/.geowrangler/osm/afghanistan/gis_osm_pois_free_1.shp\n",
      "-rw-r--r-- 1 butchtm butchtm     36892 Jan 31 13:18 /home/butchtm/.geowrangler/osm/afghanistan/gis_osm_pois_free_1.shx\n",
      "-rw-r--r-- 1 butchtm butchtm         6 Jan 31 13:18 /home/butchtm/.geowrangler/osm/afghanistan/gis_osm_railways_free_1.cpg\n",
      "-rw-r--r-- 1 butchtm butchtm     43029 Jan 31 13:18 /home/butchtm/.geowrangler/osm/afghanistan/gis_osm_railways_free_1.dbf\n",
      "-rw-r--r-- 1 butchtm butchtm       144 Jan 31 13:18 /home/butchtm/.geowrangler/osm/afghanistan/gis_osm_railways_free_1.prj\n",
      "-rw-r--r-- 1 butchtm butchtm     55852 Jan 31 13:18 /home/butchtm/.geowrangler/osm/afghanistan/gis_osm_railways_free_1.shp\n",
      "-rw-r--r-- 1 butchtm butchtm      2252 Jan 31 13:18 /home/butchtm/.geowrangler/osm/afghanistan/gis_osm_railways_free_1.shx\n",
      "-rw-r--r-- 1 butchtm butchtm         6 Jan 31 13:18 /home/butchtm/.geowrangler/osm/afghanistan/gis_osm_roads_free_1.cpg\n",
      "-rw-r--r-- 1 butchtm butchtm  37245246 Jan 31 13:18 /home/butchtm/.geowrangler/osm/afghanistan/gis_osm_roads_free_1.dbf\n",
      "-rw-r--r-- 1 butchtm butchtm       144 Jan 31 13:18 /home/butchtm/.geowrangler/osm/afghanistan/gis_osm_roads_free_1.prj\n",
      "-rw-r--r-- 1 butchtm butchtm  91817764 Jan 31 13:18 /home/butchtm/.geowrangler/osm/afghanistan/gis_osm_roads_free_1.shp\n",
      "-rw-r--r-- 1 butchtm butchtm   1628292 Jan 31 13:18 /home/butchtm/.geowrangler/osm/afghanistan/gis_osm_roads_free_1.shx\n",
      "-rw-r--r-- 1 butchtm butchtm         6 Jan 31 13:18 /home/butchtm/.geowrangler/osm/afghanistan/gis_osm_traffic_a_free_1.cpg\n",
      "-rw-r--r-- 1 butchtm butchtm     53087 Jan 31 13:18 /home/butchtm/.geowrangler/osm/afghanistan/gis_osm_traffic_a_free_1.dbf\n",
      "-rw-r--r-- 1 butchtm butchtm       144 Jan 31 13:18 /home/butchtm/.geowrangler/osm/afghanistan/gis_osm_traffic_a_free_1.prj\n",
      "-rw-r--r-- 1 butchtm butchtm     63868 Jan 31 13:18 /home/butchtm/.geowrangler/osm/afghanistan/gis_osm_traffic_a_free_1.shp\n",
      "-rw-r--r-- 1 butchtm butchtm      3020 Jan 31 13:18 /home/butchtm/.geowrangler/osm/afghanistan/gis_osm_traffic_a_free_1.shx\n",
      "-rw-r--r-- 1 butchtm butchtm         6 Jan 31 13:18 /home/butchtm/.geowrangler/osm/afghanistan/gis_osm_traffic_free_1.cpg\n",
      "-rw-r--r-- 1 butchtm butchtm    203307 Jan 31 13:18 /home/butchtm/.geowrangler/osm/afghanistan/gis_osm_traffic_free_1.dbf\n",
      "-rw-r--r-- 1 butchtm butchtm       144 Jan 31 13:18 /home/butchtm/.geowrangler/osm/afghanistan/gis_osm_traffic_free_1.prj\n",
      "-rw-r--r-- 1 butchtm butchtm     39328 Jan 31 13:18 /home/butchtm/.geowrangler/osm/afghanistan/gis_osm_traffic_free_1.shp\n",
      "-rw-r--r-- 1 butchtm butchtm     11308 Jan 31 13:18 /home/butchtm/.geowrangler/osm/afghanistan/gis_osm_traffic_free_1.shx\n",
      "-rw-r--r-- 1 butchtm butchtm         6 Jan 31 13:18 /home/butchtm/.geowrangler/osm/afghanistan/gis_osm_transport_a_free_1.cpg\n",
      "-rw-r--r-- 1 butchtm butchtm     41052 Jan 31 13:18 /home/butchtm/.geowrangler/osm/afghanistan/gis_osm_transport_a_free_1.dbf\n",
      "-rw-r--r-- 1 butchtm butchtm       144 Jan 31 13:18 /home/butchtm/.geowrangler/osm/afghanistan/gis_osm_transport_a_free_1.prj\n",
      "-rw-r--r-- 1 butchtm butchtm     86100 Jan 31 13:18 /home/butchtm/.geowrangler/osm/afghanistan/gis_osm_transport_a_free_1.shp\n",
      "-rw-r--r-- 1 butchtm butchtm      2356 Jan 31 13:18 /home/butchtm/.geowrangler/osm/afghanistan/gis_osm_transport_a_free_1.shx\n",
      "-rw-r--r-- 1 butchtm butchtm         6 Jan 31 13:18 /home/butchtm/.geowrangler/osm/afghanistan/gis_osm_transport_free_1.cpg\n",
      "-rw-r--r-- 1 butchtm butchtm     74692 Jan 31 13:18 /home/butchtm/.geowrangler/osm/afghanistan/gis_osm_transport_free_1.dbf\n",
      "-rw-r--r-- 1 butchtm butchtm       144 Jan 31 13:18 /home/butchtm/.geowrangler/osm/afghanistan/gis_osm_transport_free_1.prj\n",
      "-rw-r--r-- 1 butchtm butchtm     14492 Jan 31 13:18 /home/butchtm/.geowrangler/osm/afghanistan/gis_osm_transport_free_1.shp\n",
      "-rw-r--r-- 1 butchtm butchtm      4212 Jan 31 13:18 /home/butchtm/.geowrangler/osm/afghanistan/gis_osm_transport_free_1.shx\n",
      "-rw-r--r-- 1 butchtm butchtm         6 Jan 31 13:18 /home/butchtm/.geowrangler/osm/afghanistan/gis_osm_water_a_free_1.cpg\n",
      "-rw-r--r-- 1 butchtm butchtm   1039377 Jan 31 13:18 /home/butchtm/.geowrangler/osm/afghanistan/gis_osm_water_a_free_1.dbf\n",
      "-rw-r--r-- 1 butchtm butchtm       144 Jan 31 13:18 /home/butchtm/.geowrangler/osm/afghanistan/gis_osm_water_a_free_1.prj\n",
      "-rw-r--r-- 1 butchtm butchtm  15470460 Jan 31 13:18 /home/butchtm/.geowrangler/osm/afghanistan/gis_osm_water_a_free_1.shp\n",
      "-rw-r--r-- 1 butchtm butchtm     57436 Jan 31 13:18 /home/butchtm/.geowrangler/osm/afghanistan/gis_osm_water_a_free_1.shx\n",
      "-rw-r--r-- 1 butchtm butchtm         6 Jan 31 13:18 /home/butchtm/.geowrangler/osm/afghanistan/gis_osm_waterways_free_1.cpg\n",
      "-rw-r--r-- 1 butchtm butchtm   2379194 Jan 31 13:18 /home/butchtm/.geowrangler/osm/afghanistan/gis_osm_waterways_free_1.dbf\n",
      "-rw-r--r-- 1 butchtm butchtm       144 Jan 31 13:18 /home/butchtm/.geowrangler/osm/afghanistan/gis_osm_waterways_free_1.prj\n",
      "-rw-r--r-- 1 butchtm butchtm  18526916 Jan 31 13:18 /home/butchtm/.geowrangler/osm/afghanistan/gis_osm_waterways_free_1.shp\n",
      "-rw-r--r-- 1 butchtm butchtm    126980 Jan 31 13:18 /home/butchtm/.geowrangler/osm/afghanistan/gis_osm_waterways_free_1.shx\n"
     ]
    }
   ],
   "source": [
    "!ls -ald {download_path2}/*"
   ]
  },
  {
   "cell_type": "markdown",
   "id": "8269f519-6ef7-48e9-a996-3faffdec4194",
   "metadata": {},
   "source": [
    "### Using the OSM Data Manager\n",
    "\n",
    "We also provide an OSM Data Manager which, in addition to using the default cache (`~/.cache/geowrangler/osm`),\n",
    "also caches the geodataframe for either the pois or the roads datasets from OSM in memory to avoid having\n",
    "to reload the OSM data from disk."
   ]
  },
  {
   "cell_type": "code",
   "execution_count": null,
   "id": "43318ba1-a38a-4535-8403-1bc831734bdd",
   "metadata": {},
   "outputs": [],
   "source": [
    "# Create the osm data manager\n",
    "odm = geofabrik.OsmDataManager()"
   ]
  },
  {
   "cell_type": "code",
   "execution_count": null,
   "id": "7d4945dd-5825-48c4-b6ac-86009477f13c",
   "metadata": {},
   "outputs": [],
   "source": [
    "pois_ph = odm.load_pois(\"philippines\")"
   ]
  },
  {
   "cell_type": "code",
   "execution_count": null,
   "id": "858615fd-3781-4e98-a615-9c8ba0897436",
   "metadata": {},
   "outputs": [],
   "source": [
    "pois_ph.head()"
   ]
  },
  {
   "cell_type": "code",
   "execution_count": null,
   "id": "36ff36b9-dc11-4bc0-b011-70f076429086",
   "metadata": {},
   "outputs": [],
   "source": [
    "roads_ph = odm.load_roads(\"philippines\")"
   ]
  },
  {
   "cell_type": "code",
   "execution_count": null,
   "id": "b33a3963-71d5-43a1-a47f-513257daae30",
   "metadata": {},
   "outputs": [],
   "source": [
    "roads_ph.head()"
   ]
  },
  {
   "cell_type": "markdown",
   "id": "0c901e2e-bc3e-4d7c-a378-41ce80f20c9f",
   "metadata": {},
   "source": [
    "## Loading OSM data from other years\n",
    "\n",
    "In addition to providing access to the latest OSM shape files, we also provide an optional `year` parameter, which allows you to download OSM data from previous years. \n",
    "\n",
    "> Note: The availability of data from previous years is dependent on what geofabrik has made available. Please check the [Geofabrik download site](https://download.geofabrik.de/) for the list of available data "
   ]
  },
  {
   "cell_type": "code",
   "execution_count": null,
   "id": "b2d7e4cb-c380-43bd-a65c-fa75fad3622a",
   "metadata": {},
   "outputs": [],
   "source": [
    "pois_ph = odm.load_pois(\"philippines\", year=\"2017\")"
   ]
  },
  {
   "cell_type": "code",
   "execution_count": null,
   "id": "11703f77-d63b-4d6a-97f9-49baa9e9334a",
   "metadata": {},
   "outputs": [],
   "source": [
    "pois_ph"
   ]
  },
  {
   "cell_type": "markdown",
   "id": "23351222-ee9a-4a51-8467-7452b61e3d86",
   "metadata": {},
   "source": [
    "## Downloading Ookla Data\n"
   ]
  },
  {
   "cell_type": "code",
   "execution_count": null,
   "id": "f871558e-b391-46cc-89c4-ce2d6c10db74",
   "metadata": {},
   "outputs": [],
   "source": [
    "import geopandas as gpd\n",
    "import pandas as pd\n",
    "\n",
    "from geowrangler.datasets import ookla"
   ]
  },
  {
   "cell_type": "markdown",
   "id": "5a3c168f-017d-402c-b1fe-153262a8d78c",
   "metadata": {},
   "source": [
    "### Listing down available files"
   ]
  },
  {
   "cell_type": "code",
   "execution_count": null,
   "id": "89ed5a78-94be-495a-9ab1-ffa47388ac5b",
   "metadata": {},
   "outputs": [],
   "source": [
    "ookla_files = ookla.list_ookla_files()\n",
    "ookla_files"
   ]
  },
  {
   "cell_type": "markdown",
   "id": "f2e8782e-0e2a-4587-94a9-e4293ba53994",
   "metadata": {},
   "source": [
    "### Downloading an ookla file to a directory\n",
    "> Warning: Ookla files are >300MB and can reach ~550MB. Download with caution"
   ]
  },
  {
   "cell_type": "code",
   "execution_count": null,
   "id": "14f4d524-e19a-44f3-a0c9-9ed494a7dc65",
   "metadata": {},
   "outputs": [],
   "source": [
    "!mkdir -p ../test_dir\n",
    "downloaded_file = ookla.download_ookla_file(\n",
    "    type_=\"fixed\", year=\"2019\", quarter=\"1\", directory=\"../test_dir\"\n",
    ")\n",
    "downloaded_file"
   ]
  },
  {
   "cell_type": "markdown",
   "id": "dd8b1662-b013-42ed-ba89-6104d6ad6389",
   "metadata": {},
   "source": [
    "### Loading ookla data"
   ]
  },
  {
   "cell_type": "code",
   "execution_count": null,
   "id": "3dd92732-2e4d-4b2b-a647-0c385f9c3cde",
   "metadata": {},
   "outputs": [],
   "source": [
    "df = pd.read_parquet(downloaded_file)\n",
    "df.head()"
   ]
  }
 ],
 "metadata": {
  "kernelspec": {
   "display_name": "Python 3",
   "language": "python",
   "name": "python3"
  },
  "language_info": {
   "codemirror_mode": {
    "name": "ipython",
    "version": 3
   },
   "file_extension": ".py",
   "mimetype": "text/x-python",
   "name": "python",
   "nbconvert_exporter": "python",
   "pygments_lexer": "ipython3",
   "version": "3.9.13"
  },
  "vscode": {
   "interpreter": {
    "hash": "4a07a05096b6351e45107f092fcbc6d58e4d1183d490a1128ce24e8ca5af3ddc"
   }
  }
 },
 "nbformat": 4,
 "nbformat_minor": 5
}
