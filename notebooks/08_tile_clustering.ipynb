{
 "cells": [
  {
   "cell_type": "code",
   "execution_count": 1,
   "id": "d6ba0d2b",
   "metadata": {},
   "outputs": [],
   "source": [
    "# default_exp tile_clustering"
   ]
  },
  {
   "cell_type": "code",
   "execution_count": 2,
   "id": "1c30d774",
   "metadata": {},
   "outputs": [],
   "source": [
    "# hide\n",
    "# no_test\n",
    "! [ -e /content ] && pip install -Uqq geowrangler"
   ]
  },
  {
   "cell_type": "code",
   "execution_count": 3,
   "id": "0adec4fd",
   "metadata": {},
   "outputs": [],
   "source": [
    "# hide\n",
    "# no_test\n",
    "%reload_ext autoreload\n",
    "%autoreload 2\n",
    "%matplotlib inline"
   ]
  },
  {
   "cell_type": "markdown",
   "id": "881bd55e",
   "metadata": {},
   "source": [
    "# Tile Clustering"
   ]
  },
  {
   "cell_type": "markdown",
   "id": "9e1e18fc",
   "metadata": {},
   "source": [
    "> cluster together adjacent grid tiles"
   ]
  },
  {
   "cell_type": "code",
   "execution_count": 4,
   "id": "57c177ff",
   "metadata": {},
   "outputs": [],
   "source": [
    "from collections import deque\n",
    "from typing import List, Optional, Tuple\n",
    "\n",
    "# exporti\n",
    "import pandas as pd\n",
    "from fastcore.basics import patch"
   ]
  },
  {
   "cell_type": "code",
   "execution_count": 5,
   "id": "6765c16e",
   "metadata": {},
   "outputs": [],
   "source": [
    "# export\n",
    "\n",
    "\n",
    "class TileClustering:\n",
    "    \"\"\"\n",
    "    Cluster together adjacent square grid cells. Grid cells belonging to the same cluster will get\n",
    "    assigned the same ID. Optionally, you cluster adjacent cells by category by passing in `category_col`\n",
    "\n",
    "    By default, with cluster_type = \" four-way\", it clusters together grid cells with adjacent edges only.\n",
    "    If you wish to consider grid cells with adjacent corners as well, use cluster_type = \" eight-way\"\n",
    "    \"\"\"\n",
    "\n",
    "    def __init__(\n",
    "        self,\n",
    "        cluster_type: str = \"four_way\",\n",
    "    ) -> None:\n",
    "\n",
    "        assert cluster_type in [\"four_way\", \"eight_way\"]\n",
    "        self.cluster_type = cluster_type\n",
    "        self.tile_cluster_col = \"tile_cluster\""
   ]
  },
  {
   "cell_type": "code",
   "execution_count": 6,
   "id": "f77563a9",
   "metadata": {},
   "outputs": [],
   "source": [
    "# export\n",
    "\n",
    "\n",
    "@patch\n",
    "def cluster_tiles(\n",
    "    self: TileClustering,\n",
    "    df: pd.DataFrame,\n",
    "    grid_x_col=\"x\",\n",
    "    grid_y_col=\"y\",\n",
    "    category_col: Optional[str] = None,\n",
    ") -> pd.DataFrame:\n",
    "    \"\"\"\n",
    "    Appends the cluster ID for each square grid cell\n",
    "    \"\"\"\n",
    "\n",
    "    if category_col is None:\n",
    "        cluster_df = self._cluster_tiles_single(df, grid_x_col, grid_y_col)\n",
    "    else:\n",
    "        assert (\n",
    "            not df[category_col].isnull().any()\n",
    "        ), f\"There shouldn't be null values for {category_col}\"\n",
    "        unique_categories = df[category_col].unique().tolist()\n",
    "\n",
    "        cluster_df_list = []\n",
    "        for i, category in enumerate(unique_categories, start=1):\n",
    "            bool_mask = df[category_col] == category\n",
    "            filtered_df = df.loc[bool_mask, :].copy()\n",
    "            cluster_filtered_df = self._cluster_tiles_single(\n",
    "                filtered_df, grid_x_col, grid_y_col\n",
    "            )\n",
    "            cluster_filtered_df[self.tile_cluster_col] = cluster_filtered_df[\n",
    "                self.tile_cluster_col\n",
    "            ].apply(lambda key: f\"{key}-{i}\")\n",
    "            cluster_df_list.append(cluster_filtered_df)\n",
    "        cluster_df = pd.concat(cluster_df_list, axis=0, ignore_index=True)\n",
    "\n",
    "    df = pd.merge(left=df, right=cluster_df, on=[grid_x_col, grid_y_col], how=\"left\")\n",
    "\n",
    "    return df"
   ]
  },
  {
   "cell_type": "code",
   "execution_count": 7,
   "id": "17c28fbe",
   "metadata": {},
   "outputs": [],
   "source": [
    "# exporti\n",
    "\n",
    "\n",
    "@patch\n",
    "def _cluster_tiles_single(\n",
    "    self: TileClustering,\n",
    "    df: pd.DataFrame,\n",
    "    grid_x_col=\"x\",\n",
    "    grid_y_col=\"y\",\n",
    ") -> pd.DataFrame:\n",
    "    \"\"\"\n",
    "    Performs tile clustering on a single category\n",
    "    \"\"\"\n",
    "\n",
    "    if self.tile_cluster_col in df.columns:\n",
    "        raise ValueError(\n",
    "            f\"{self.tile_cluster_col} already exists as a column. Please rename\"\n",
    "        )\n",
    "\n",
    "    grid_x = df[grid_x_col]\n",
    "    grid_y = df[grid_y_col]\n",
    "\n",
    "    self.grid_idx = set(zip(grid_x, grid_y))\n",
    "\n",
    "    self.tile_cluster_dict = {}\n",
    "    self.cluster_id = 0\n",
    "\n",
    "    for key in self.grid_idx:\n",
    "        if key not in self.tile_cluster_dict.keys():\n",
    "            self.cluster_id += 1\n",
    "\n",
    "            # reset the call stack per iteration\n",
    "            self.call_stack = deque()\n",
    "            self._dfs_connected_components(key)\n",
    "\n",
    "    cluster_df = pd.DataFrame.from_dict(\n",
    "        self.tile_cluster_dict, orient=\"index\", columns=[self.tile_cluster_col]\n",
    "    )\n",
    "    cluster_df = cluster_df.reset_index()\n",
    "    cluster_df[grid_x_col] = cluster_df[\"index\"].apply(lambda idx: idx[0])\n",
    "    cluster_df[grid_y_col] = cluster_df[\"index\"].apply(lambda idx: idx[1])\n",
    "    cluster_df = cluster_df.drop(columns=\"index\")\n",
    "\n",
    "    return cluster_df\n",
    "\n",
    "\n",
    "@patch\n",
    "def _get_adjacent_keys(\n",
    "    self: TileClustering,\n",
    "    key: Tuple[int, int],\n",
    ") -> List[Tuple[int, int]]:\n",
    "\n",
    "    x_idx = key[0]\n",
    "    y_idx = key[1]\n",
    "\n",
    "    east_key = (x_idx + 1, y_idx)\n",
    "    west_key = (x_idx - 1, y_idx)\n",
    "    south_key = (x_idx, y_idx - 1)\n",
    "    north_key = (x_idx, y_idx + 1)\n",
    "\n",
    "    if self.cluster_type == \"four_way\":\n",
    "        adjacent_keys = [east_key, west_key, south_key, north_key]\n",
    "\n",
    "    if self.cluster_type == \"eight_way\":\n",
    "        northeast_key = (x_idx + 1, y_idx + 1)\n",
    "        northwest_key = (x_idx - 1, y_idx + 1)\n",
    "        southeast_key = (x_idx + 1, y_idx - 1)\n",
    "        southwest_key = (x_idx - 1, y_idx - 1)\n",
    "\n",
    "        adjacent_keys = [\n",
    "            east_key,\n",
    "            west_key,\n",
    "            south_key,\n",
    "            north_key,\n",
    "            northeast_key,\n",
    "            northwest_key,\n",
    "            southeast_key,\n",
    "            southwest_key,\n",
    "        ]\n",
    "\n",
    "    return adjacent_keys\n",
    "\n",
    "\n",
    "@patch\n",
    "def _dfs_connected_components(\n",
    "    self: TileClustering,\n",
    "    key: Tuple[int, int],\n",
    ") -> None:\n",
    "    \"\"\"\n",
    "    A non-recursive depth-first search implementation of connected components\n",
    "    \"\"\"\n",
    "    self.call_stack.append(key)\n",
    "    while self.call_stack:\n",
    "        ref_key = self.call_stack.pop()\n",
    "\n",
    "        # check if key exists in the first place\n",
    "        if ref_key in self.grid_idx:\n",
    "            # check if adjacent key has already been assigned\n",
    "            if ref_key not in self.tile_cluster_dict.keys():\n",
    "                self.tile_cluster_dict[ref_key] = self.cluster_id\n",
    "\n",
    "                adjacent_keys = self._get_adjacent_keys(ref_key)\n",
    "                for adjacent_key in adjacent_keys:\n",
    "                    self.call_stack.append(adjacent_key)"
   ]
  },
  {
   "cell_type": "markdown",
   "id": "44f06de1",
   "metadata": {},
   "source": [
    "## Test data\n",
    "\n",
    "Create sample scores for square grid cells and cluster the cells"
   ]
  },
  {
   "cell_type": "code",
   "execution_count": 8,
   "id": "ce1a7367",
   "metadata": {},
   "outputs": [],
   "source": [
    "# hide\n",
    "# no_test\n",
    "!mkdir -p ../data\n",
    "# download sample geojson file from repo\n",
    "![ ! -e ../data/region3_admin.geojson ] && curl -s -o ../data/region3_admin.geojson https://raw.githubusercontent.com/thinkingmachines/geowrangler/master/data/region3_admin.geojson"
   ]
  },
  {
   "cell_type": "code",
   "execution_count": 9,
   "id": "8c3ab44b",
   "metadata": {},
   "outputs": [],
   "source": [
    "import geopandas as gpd\n",
    "import numpy as np\n",
    "\n",
    "from geowrangler import grids\n",
    "\n",
    "np.random.seed(1562)\n",
    "\n",
    "region3_gdf = gpd.read_file(\"../data/region3_admin.geojson\")"
   ]
  },
  {
   "cell_type": "code",
   "execution_count": 10,
   "id": "c3ce5fdf",
   "metadata": {},
   "outputs": [
    {
     "data": {
      "text/html": [
       "<div>\n",
       "<style scoped>\n",
       "    .dataframe tbody tr th:only-of-type {\n",
       "        vertical-align: middle;\n",
       "    }\n",
       "\n",
       "    .dataframe tbody tr th {\n",
       "        vertical-align: top;\n",
       "    }\n",
       "\n",
       "    .dataframe thead th {\n",
       "        text-align: right;\n",
       "    }\n",
       "</style>\n",
       "<table border=\"1\" class=\"dataframe\">\n",
       "  <thead>\n",
       "    <tr style=\"text-align: right;\">\n",
       "      <th></th>\n",
       "      <th>x</th>\n",
       "      <th>y</th>\n",
       "      <th>geometry</th>\n",
       "    </tr>\n",
       "  </thead>\n",
       "  <tbody>\n",
       "    <tr>\n",
       "      <th>0</th>\n",
       "      <td>7</td>\n",
       "      <td>8</td>\n",
       "      <td>POLYGON ((120.10024 14.75528, 120.14516 14.755...</td>\n",
       "    </tr>\n",
       "    <tr>\n",
       "      <th>1</th>\n",
       "      <td>6</td>\n",
       "      <td>8</td>\n",
       "      <td>POLYGON ((120.05533 14.75528, 120.10024 14.755...</td>\n",
       "    </tr>\n",
       "    <tr>\n",
       "      <th>2</th>\n",
       "      <td>9</td>\n",
       "      <td>8</td>\n",
       "      <td>POLYGON ((120.19008 14.75528, 120.23499 14.755...</td>\n",
       "    </tr>\n",
       "    <tr>\n",
       "      <th>3</th>\n",
       "      <td>9</td>\n",
       "      <td>9</td>\n",
       "      <td>POLYGON ((120.19008 14.79871, 120.23499 14.798...</td>\n",
       "    </tr>\n",
       "    <tr>\n",
       "      <th>4</th>\n",
       "      <td>10</td>\n",
       "      <td>9</td>\n",
       "      <td>POLYGON ((120.23499 14.79871, 120.27991 14.798...</td>\n",
       "    </tr>\n",
       "  </tbody>\n",
       "</table>\n",
       "</div>"
      ],
      "text/plain": [
       "    x  y                                           geometry\n",
       "0   7  8  POLYGON ((120.10024 14.75528, 120.14516 14.755...\n",
       "1   6  8  POLYGON ((120.05533 14.75528, 120.10024 14.755...\n",
       "2   9  8  POLYGON ((120.19008 14.75528, 120.23499 14.755...\n",
       "3   9  9  POLYGON ((120.19008 14.79871, 120.23499 14.798...\n",
       "4  10  9  POLYGON ((120.23499 14.79871, 120.27991 14.798..."
      ]
     },
     "execution_count": 10,
     "metadata": {},
     "output_type": "execute_result"
    }
   ],
   "source": [
    "grid_generator5k = grids.SquareGridGenerator(5_000)\n",
    "grid_gdf5k = grid_generator5k.generate_grid(region3_gdf)\n",
    "grid_gdf5k.head()"
   ]
  },
  {
   "cell_type": "code",
   "execution_count": 11,
   "id": "8b780e65",
   "metadata": {},
   "outputs": [
    {
     "data": {
      "text/plain": [
       "<AxesSubplot:>"
      ]
     },
     "execution_count": 11,
     "metadata": {},
     "output_type": "execute_result"
    },
    {
     "data": {
      "image/png": "[encoded data removed]",
      "text/plain": [
       "<Figure size 432x288 with 1 Axes>"
      ]
     },
     "metadata": {
      "needs_background": "light"
     },
     "output_type": "display_data"
    }
   ],
   "source": [
    "grid_gdf5k.plot()"
   ]
  },
  {
   "cell_type": "code",
   "execution_count": 12,
   "id": "33005f83",
   "metadata": {},
   "outputs": [
    {
     "name": "stdout",
     "output_type": "stream",
     "text": [
      "CPU times: user 3.15 ms, sys: 1.32 ms, total: 4.47 ms\n",
      "Wall time: 10 ms\n"
     ]
    },
    {
     "data": {
      "text/html": [
       "<div>\n",
       "<style scoped>\n",
       "    .dataframe tbody tr th:only-of-type {\n",
       "        vertical-align: middle;\n",
       "    }\n",
       "\n",
       "    .dataframe tbody tr th {\n",
       "        vertical-align: top;\n",
       "    }\n",
       "\n",
       "    .dataframe thead th {\n",
       "        text-align: right;\n",
       "    }\n",
       "</style>\n",
       "<table border=\"1\" class=\"dataframe\">\n",
       "  <thead>\n",
       "    <tr style=\"text-align: right;\">\n",
       "      <th></th>\n",
       "      <th>x</th>\n",
       "      <th>y</th>\n",
       "      <th>geometry</th>\n",
       "      <th>score</th>\n",
       "      <th>class</th>\n",
       "    </tr>\n",
       "  </thead>\n",
       "  <tbody>\n",
       "    <tr>\n",
       "      <th>0</th>\n",
       "      <td>7</td>\n",
       "      <td>8</td>\n",
       "      <td>POLYGON ((120.10024 14.75528, 120.14516 14.755...</td>\n",
       "      <td>0.761806</td>\n",
       "      <td>True</td>\n",
       "    </tr>\n",
       "    <tr>\n",
       "      <th>1</th>\n",
       "      <td>6</td>\n",
       "      <td>8</td>\n",
       "      <td>POLYGON ((120.05533 14.75528, 120.10024 14.755...</td>\n",
       "      <td>0.012455</td>\n",
       "      <td>False</td>\n",
       "    </tr>\n",
       "    <tr>\n",
       "      <th>2</th>\n",
       "      <td>9</td>\n",
       "      <td>8</td>\n",
       "      <td>POLYGON ((120.19008 14.75528, 120.23499 14.755...</td>\n",
       "      <td>0.446552</td>\n",
       "      <td>False</td>\n",
       "    </tr>\n",
       "    <tr>\n",
       "      <th>3</th>\n",
       "      <td>9</td>\n",
       "      <td>9</td>\n",
       "      <td>POLYGON ((120.19008 14.79871, 120.23499 14.798...</td>\n",
       "      <td>0.669020</td>\n",
       "      <td>False</td>\n",
       "    </tr>\n",
       "    <tr>\n",
       "      <th>4</th>\n",
       "      <td>10</td>\n",
       "      <td>9</td>\n",
       "      <td>POLYGON ((120.23499 14.79871, 120.27991 14.798...</td>\n",
       "      <td>0.815914</td>\n",
       "      <td>True</td>\n",
       "    </tr>\n",
       "  </tbody>\n",
       "</table>\n",
       "</div>"
      ],
      "text/plain": [
       "    x  y                                           geometry     score  class\n",
       "0   7  8  POLYGON ((120.10024 14.75528, 120.14516 14.755...  0.761806   True\n",
       "1   6  8  POLYGON ((120.05533 14.75528, 120.10024 14.755...  0.012455  False\n",
       "2   9  8  POLYGON ((120.19008 14.75528, 120.23499 14.755...  0.446552  False\n",
       "3   9  9  POLYGON ((120.19008 14.79871, 120.23499 14.798...  0.669020  False\n",
       "4  10  9  POLYGON ((120.23499 14.79871, 120.27991 14.798...  0.815914   True"
      ]
     },
     "execution_count": 12,
     "metadata": {},
     "output_type": "execute_result"
    }
   ],
   "source": [
    "%%time\n",
    "\n",
    "grid_gdf5k[\"score\"] = np.random.random(len(grid_gdf5k))\n",
    "grid_gdf5k[\"class\"] = grid_gdf5k[\"score\"] > 0.7\n",
    "grid_gdf5k.head()"
   ]
  },
  {
   "cell_type": "code",
   "execution_count": 13,
   "id": "d70051c0",
   "metadata": {},
   "outputs": [
    {
     "name": "stdout",
     "output_type": "stream",
     "text": [
      "CPU times: user 25.8 ms, sys: 0 ns, total: 25.8 ms\n",
      "Wall time: 47.6 ms\n"
     ]
    },
    {
     "data": {
      "text/html": [
       "<div>\n",
       "<style scoped>\n",
       "    .dataframe tbody tr th:only-of-type {\n",
       "        vertical-align: middle;\n",
       "    }\n",
       "\n",
       "    .dataframe tbody tr th {\n",
       "        vertical-align: top;\n",
       "    }\n",
       "\n",
       "    .dataframe thead th {\n",
       "        text-align: right;\n",
       "    }\n",
       "</style>\n",
       "<table border=\"1\" class=\"dataframe\">\n",
       "  <thead>\n",
       "    <tr style=\"text-align: right;\">\n",
       "      <th></th>\n",
       "      <th>x</th>\n",
       "      <th>y</th>\n",
       "      <th>geometry</th>\n",
       "      <th>score</th>\n",
       "      <th>class</th>\n",
       "      <th>tile_cluster</th>\n",
       "    </tr>\n",
       "  </thead>\n",
       "  <tbody>\n",
       "    <tr>\n",
       "      <th>0</th>\n",
       "      <td>7</td>\n",
       "      <td>8</td>\n",
       "      <td>POLYGON ((120.10024 14.75528, 120.14516 14.755...</td>\n",
       "      <td>0.761806</td>\n",
       "      <td>True</td>\n",
       "      <td>6-1</td>\n",
       "    </tr>\n",
       "    <tr>\n",
       "      <th>1</th>\n",
       "      <td>6</td>\n",
       "      <td>8</td>\n",
       "      <td>POLYGON ((120.05533 14.75528, 120.10024 14.755...</td>\n",
       "      <td>0.012455</td>\n",
       "      <td>False</td>\n",
       "      <td>7-2</td>\n",
       "    </tr>\n",
       "    <tr>\n",
       "      <th>2</th>\n",
       "      <td>9</td>\n",
       "      <td>8</td>\n",
       "      <td>POLYGON ((120.19008 14.75528, 120.23499 14.755...</td>\n",
       "      <td>0.446552</td>\n",
       "      <td>False</td>\n",
       "      <td>1-2</td>\n",
       "    </tr>\n",
       "    <tr>\n",
       "      <th>3</th>\n",
       "      <td>9</td>\n",
       "      <td>9</td>\n",
       "      <td>POLYGON ((120.19008 14.79871, 120.23499 14.798...</td>\n",
       "      <td>0.669020</td>\n",
       "      <td>False</td>\n",
       "      <td>1-2</td>\n",
       "    </tr>\n",
       "    <tr>\n",
       "      <th>4</th>\n",
       "      <td>10</td>\n",
       "      <td>9</td>\n",
       "      <td>POLYGON ((120.23499 14.79871, 120.27991 14.798...</td>\n",
       "      <td>0.815914</td>\n",
       "      <td>True</td>\n",
       "      <td>23-1</td>\n",
       "    </tr>\n",
       "  </tbody>\n",
       "</table>\n",
       "</div>"
      ],
      "text/plain": [
       "    x  y                                           geometry     score  class  \\\n",
       "0   7  8  POLYGON ((120.10024 14.75528, 120.14516 14.755...  0.761806   True   \n",
       "1   6  8  POLYGON ((120.05533 14.75528, 120.10024 14.755...  0.012455  False   \n",
       "2   9  8  POLYGON ((120.19008 14.75528, 120.23499 14.755...  0.446552  False   \n",
       "3   9  9  POLYGON ((120.19008 14.79871, 120.23499 14.798...  0.669020  False   \n",
       "4  10  9  POLYGON ((120.23499 14.79871, 120.27991 14.798...  0.815914   True   \n",
       "\n",
       "  tile_cluster  \n",
       "0          6-1  \n",
       "1          7-2  \n",
       "2          1-2  \n",
       "3          1-2  \n",
       "4         23-1  "
      ]
     },
     "execution_count": 13,
     "metadata": {},
     "output_type": "execute_result"
    }
   ],
   "source": [
    "%%time\n",
    "tileclustering = TileClustering()\n",
    "grid_gdf5k = tileclustering.cluster_tiles(grid_gdf5k, category_col=\"class\")\n",
    "grid_gdf5k.head()"
   ]
  },
  {
   "cell_type": "code",
   "execution_count": 14,
   "id": "656bdc0a",
   "metadata": {},
   "outputs": [
    {
     "data": {
      "text/plain": [
       "160"
      ]
     },
     "execution_count": 14,
     "metadata": {},
     "output_type": "execute_result"
    }
   ],
   "source": [
    "grid_gdf5k[\"tile_cluster\"].nunique()"
   ]
  },
  {
   "cell_type": "code",
   "execution_count": 15,
   "id": "3c414add",
   "metadata": {},
   "outputs": [
    {
     "data": {
      "text/plain": [
       "<AxesSubplot:>"
      ]
     },
     "execution_count": 15,
     "metadata": {},
     "output_type": "execute_result"
    },
    {
     "data": {
      "image/png": "[encoded data removed]",
      "text/plain": [
       "<Figure size 432x288 with 1 Axes>"
      ]
     },
     "metadata": {
      "needs_background": "light"
     },
     "output_type": "display_data"
    }
   ],
   "source": [
    "grid_gdf5k.plot(column=\"class\", categorical=True, cmap=\"Spectral\")"
   ]
  },
  {
   "cell_type": "code",
   "execution_count": null,
   "id": "fb315d7c",
   "metadata": {},
   "outputs": [],
   "source": []
  }
 ],
 "metadata": {
  "kernelspec": {
   "display_name": "Python 3 (ipykernel)",
   "language": "python",
   "name": "python3"
  },
  "language_info": {
   "codemirror_mode": {
    "name": "ipython",
    "version": 3
   },
   "file_extension": ".py",
   "mimetype": "text/x-python",
   "name": "python",
   "nbconvert_exporter": "python",
   "pygments_lexer": "ipython3",
   "version": "3.8.10"
  }
 },
 "nbformat": 4,
 "nbformat_minor": 5
}
