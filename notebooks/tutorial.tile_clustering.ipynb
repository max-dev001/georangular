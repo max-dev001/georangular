{
 "cells": [
  {
   "cell_type": "code",
   "execution_count": null,
   "id": "0b058dee-e8b2-4e07-8b97-d48fa2723615",
   "metadata": {},
   "outputs": [],
   "source": [
    "# hide\n",
    "# no_test\n",
    "! [ -e /content ] && pip install -Uqq geowrangler"
   ]
  },
  {
   "cell_type": "code",
   "execution_count": null,
   "id": "28a5dfdc-6740-48d5-8cf8-a6f463f99e9f",
   "metadata": {},
   "outputs": [],
   "source": [
    "# hide\n",
    "# no_test\n",
    "!mkdir -p ../data\n",
    "![ -e /content ] && ln -s ../data ."
   ]
  },
  {
   "cell_type": "code",
   "execution_count": null,
   "id": "2e643959-a904-40b1-bbf9-487206655d92",
   "metadata": {},
   "outputs": [],
   "source": [
    "# hide\n",
    "# no_test\n",
    "%reload_ext autoreload\n",
    "%autoreload 2\n",
    "%matplotlib inline"
   ]
  },
  {
   "cell_type": "code",
   "execution_count": null,
   "id": "37dd5881-ec35-4fc5-965b-838f0ccf0bde",
   "metadata": {},
   "outputs": [],
   "source": [
    "# hide\n",
    "# no_test\n",
    "from collections import deque\n",
    "from typing import List, Optional, Tuple\n",
    "\n",
    "import pandas as pd\n",
    "from fastcore.basics import patch"
   ]
  },
  {
   "cell_type": "markdown",
   "id": "e3f507ef-9b1f-455d-93b3-9b8923fef8f4",
   "metadata": {},
   "source": [
    "# Tile Clustering Tutorial"
   ]
  },
  {
   "cell_type": "markdown",
   "id": "83717b35-2937-41f4-97c7-83f8cc887d73",
   "metadata": {},
   "source": [
    "> A basic introduction to using tile clustering"
   ]
  },
  {
   "cell_type": "markdown",
   "id": "61f9655f-7e44-4cd3-a7ab-ea7055f099a7",
   "metadata": {},
   "source": [
    "## Summary\n",
    "Clusters adjacent grid tiles together. Usage of this function assumes that the input is a grid dataset."
   ]
  },
  {
   "cell_type": "markdown",
   "id": "c75386fc-18b7-4ad5-b9ae-864100622b3b",
   "metadata": {},
   "source": [
    "## How does it work? \n",
    "Tile clustering works by assigning the same ID to grid cells belonging to the same cluster. There are options to: (a) cluster adjacent cells by category, (b) cluster grid cells via adjacent edges or corners."
   ]
  },
  {
   "cell_type": "markdown",
   "id": "ff9af9f9-fcad-4670-ac0d-f2360e1095d1",
   "metadata": {},
   "source": [
    "### `TileClustering().cluster_tiles(df, category_col)`\n",
    "\n"
   ]
  },
  {
   "cell_type": "markdown",
   "id": "26bb0fe4-d2d2-4493-81bd-3030064ecdd3",
   "metadata": {},
   "source": [
    "| | type | default| optional/required | details |\n",
    "| --- | :--- | :--- | :--- | :--- |\n",
    "| cluster_type | String | `four_way` | optional | Leave blank () if using `four_way` cluster_type (top, bottom, left, right sides of a cell). Put in `eight_way` if preference is to cluster via four sides and corners of a cell. |\n",
    "| df | GeoDataFrame | *none* | required | dataframe for clustering |\n",
    "| category_col | String | *none* |  optional | column for category if need to cluster adjacent cells by category |"
   ]
  },
  {
   "cell_type": "markdown",
   "id": "889b8db0-59c8-4390-9e4f-475c32a94999",
   "metadata": {},
   "source": [
    "A technical step-by-step explanation of how `TileClustering().cluster_tiles` works is detailed in the cell blocks below. An example on how to use it with its arguments is shown in the **sample use case** section thereafter. "
   ]
  },
  {
   "cell_type": "markdown",
   "id": "2d465554-c74a-4044-95a9-0d9d32b46a59",
   "metadata": {},
   "source": [
    "1. Define the class."
   ]
  },
  {
   "cell_type": "code",
   "execution_count": null,
   "id": "3f6e1d5f-1a7b-4226-b852-262a44f830bd",
   "metadata": {},
   "outputs": [],
   "source": [
    "# eval:false\n",
    "class TileClustering:\n",
    "    def __init__(\n",
    "        self,\n",
    "        cluster_type: str = \"four_way\",\n",
    "    ) -> None:\n",
    "\n",
    "        assert cluster_type in [\"four_way\", \"eight_way\"]\n",
    "        self.cluster_type = cluster_type\n",
    "        self.tile_cluster_col = \"tile_cluster\""
   ]
  },
  {
   "cell_type": "markdown",
   "id": "6e305078-b9b0-42c2-8f92-8d68a14a8e3b",
   "metadata": {},
   "source": [
    "2. Define the function."
   ]
  },
  {
   "cell_type": "code",
   "execution_count": null,
   "id": "1a047bfc-1c09-4824-9f6d-d24065d90bc3",
   "metadata": {},
   "outputs": [],
   "source": [
    "# eval:false\n",
    "@patch\n",
    "def cluster_tiles(\n",
    "    self: TileClustering,\n",
    "    df: pd.DataFrame,\n",
    "    grid_x_col=\"x\",\n",
    "    grid_y_col=\"y\",\n",
    "    category_col: Optional[str] = None,\n",
    ") -> pd.DataFrame:\n",
    "    \"\"\"\n",
    "    Appends the cluster ID for each square grid cell\n",
    "    \"\"\"\n",
    "\n",
    "    if category_col is None:\n",
    "        cluster_df = self._cluster_tiles_single(df, grid_x_col, grid_y_col)\n",
    "    else:\n",
    "        assert (\n",
    "            not df[category_col].isnull().any()\n",
    "        ), f\"There shouldn't be null values for {category_col}\"\n",
    "        unique_categories = df[category_col].unique().tolist()\n",
    "\n",
    "        cluster_df_list = []\n",
    "        for i, category in enumerate(unique_categories, start=1):\n",
    "            bool_mask = df[category_col] == category\n",
    "            filtered_df = df.loc[bool_mask, :].copy()\n",
    "            cluster_filtered_df = self._cluster_tiles_single(\n",
    "                filtered_df, grid_x_col, grid_y_col\n",
    "            )\n",
    "            cluster_filtered_df[self.tile_cluster_col] = cluster_filtered_df[\n",
    "                self.tile_cluster_col\n",
    "            ].apply(lambda key: f\"{key}-{i}\")\n",
    "            cluster_df_list.append(cluster_filtered_df)\n",
    "        cluster_df = pd.concat(cluster_df_list, axis=0, ignore_index=True)\n",
    "\n",
    "    df = pd.merge(left=df, right=cluster_df, on=[grid_x_col, grid_y_col], how=\"left\")\n",
    "\n",
    "    return df"
   ]
  },
  {
   "cell_type": "markdown",
   "id": "ec3fcd62-e65a-48cb-bbae-1b4dafbd5163",
   "metadata": {},
   "source": [
    "3) Categorize commands depending on input of `category_col`. Append cluster ID for each grid cell. "
   ]
  },
  {
   "cell_type": "code",
   "execution_count": null,
   "id": "185ef6c0-7fb0-4897-8784-8acb8d224f7c",
   "metadata": {},
   "outputs": [],
   "source": [
    "# eval:false\n",
    "    # no entry in category_col - run the patched function _cluster_tiles_single\n",
    "    if category_col is None:\n",
    "        cluster_df = self._cluster_tiles_single(df, grid_x_col, grid_y_col)\n",
    "\n",
    "    # entry in category_col - make sure that all rows have values\n",
    "    else:\n",
    "        assert (\n",
    "            not df[category_col].isnull().any()\n",
    "        ), f\"There shouldn't be null values for {category_col}\"\n",
    "        unique_categories = df[category_col].unique().tolist()\n",
    "\n",
    "    # append cluster ID for each grid cell\n",
    "        cluster_df_list = []\n",
    "        for i, category in enumerate(unique_categories, start=1):\n",
    "            bool_mask = df[category_col] == category\n",
    "            filtered_df = df.loc[bool_mask, :].copy()\n",
    "            cluster_filtered_df = self._cluster_tiles_single(\n",
    "                filtered_df, grid_x_col, grid_y_col\n",
    "            )\n",
    "            cluster_filtered_df[self.tile_cluster_col] = cluster_filtered_df[\n",
    "                self.tile_cluster_col\n",
    "            ].apply(lambda key: f\"{key}-{i}\")\n",
    "            cluster_df_list.append(cluster_filtered_df)\n",
    "        cluster_df = pd.concat(cluster_df_list, axis=0, ignore_index=True)\n",
    "        "
   ]
  },
  {
   "cell_type": "markdown",
   "id": "7aa4a36c-3be9-4703-ad7a-f8fc35aa645c",
   "metadata": {},
   "source": [
    "4) Merge grid cells with same cluster ID.   "
   ]
  },
  {
   "cell_type": "code",
   "execution_count": null,
   "id": "ddd70147-e8bc-48f8-b042-de57a79af81f",
   "metadata": {},
   "outputs": [],
   "source": [
    "# eval:false\n",
    "    df = pd.merge(left=df, right=cluster_df, on=[grid_x_col, grid_y_col], how=\"left\")"
   ]
  },
  {
   "cell_type": "markdown",
   "id": "ba6ea530-27ca-46b1-8667-878cb0583664",
   "metadata": {},
   "source": [
    "5) Return output dataframe. "
   ]
  },
  {
   "cell_type": "code",
   "execution_count": null,
   "id": "289c627c-f4fd-4f09-b41f-17914140222e",
   "metadata": {},
   "outputs": [],
   "source": [
    "# eval:false\n",
    "    return df"
   ]
  },
  {
   "cell_type": "markdown",
   "id": "e1af5486-b9f6-4e6d-aaa4-cb1015e2dce6",
   "metadata": {},
   "source": [
    "6) Other `@patch` functions"
   ]
  },
  {
   "cell_type": "markdown",
   "id": "2bea6ebf-dcce-4f08-8698-06f936754867",
   "metadata": {},
   "source": [
    "`_cluster_tiles_single` - called when there is no entry in `category_col`"
   ]
  },
  {
   "cell_type": "code",
   "execution_count": null,
   "id": "be462c00-8c91-4974-8cb6-db93a4fab1b9",
   "metadata": {},
   "outputs": [],
   "source": [
    "# eval:false\n",
    "@patch\n",
    "def _cluster_tiles_single(\n",
    "    self: TileClustering,\n",
    "    df: pd.DataFrame,\n",
    "    grid_x_col=\"x\",\n",
    "    grid_y_col=\"y\",\n",
    ") -> pd.DataFrame:\n",
    "    \"\"\"\n",
    "    Performs tile clustering on a single category\n",
    "    \"\"\"\n",
    "\n",
    "    if self.tile_cluster_col in df.columns:\n",
    "        raise ValueError(\n",
    "            f\"{self.tile_cluster_col} already exists as a column. Please rename\"\n",
    "        )\n",
    "\n",
    "    grid_x = df[grid_x_col]\n",
    "    grid_y = df[grid_y_col]\n",
    "\n",
    "    self.grid_idx = set(zip(grid_x, grid_y))\n",
    "\n",
    "    self.tile_cluster_dict = {}\n",
    "    self.cluster_id = 0\n",
    "\n",
    "    for key in self.grid_idx:\n",
    "        if key not in self.tile_cluster_dict.keys():\n",
    "            self.cluster_id += 1\n",
    "\n",
    "            # reset the call stack per iteration\n",
    "            self.call_stack = deque()\n",
    "            self._dfs_connected_components(key)\n",
    "\n",
    "    cluster_df = pd.DataFrame.from_dict(\n",
    "        self.tile_cluster_dict, orient=\"index\", columns=[self.tile_cluster_col]\n",
    "    )\n",
    "    cluster_df = cluster_df.reset_index()\n",
    "    cluster_df[grid_x_col] = cluster_df[\"index\"].apply(lambda idx: idx[0])\n",
    "    cluster_df[grid_y_col] = cluster_df[\"index\"].apply(lambda idx: idx[1])\n",
    "    cluster_df = cluster_df.drop(columns=\"index\")\n",
    "\n",
    "    return cluster_df"
   ]
  },
  {
   "cell_type": "markdown",
   "id": "158bc1eb-3718-498b-ab26-a9960bb27fcc",
   "metadata": {},
   "source": [
    "`_get_adjacent_keys` - defines how `four_way` and `eight_way` clustering works"
   ]
  },
  {
   "cell_type": "code",
   "execution_count": null,
   "id": "b5cdd997-b1c8-469a-a642-70a6be74dfad",
   "metadata": {},
   "outputs": [],
   "source": [
    "# eval:false\n",
    "@patch\n",
    "def _get_adjacent_keys(\n",
    "    self: TileClustering,\n",
    "    key: Tuple[int, int],\n",
    ") -> List[Tuple[int, int]]:\n",
    "\n",
    "    x_idx = key[0]\n",
    "    y_idx = key[1]\n",
    "\n",
    "    east_key = (x_idx + 1, y_idx)\n",
    "    west_key = (x_idx - 1, y_idx)\n",
    "    south_key = (x_idx, y_idx - 1)\n",
    "    north_key = (x_idx, y_idx + 1)\n",
    "\n",
    "    if self.cluster_type == \"four_way\":\n",
    "        adjacent_keys = [east_key, west_key, south_key, north_key]\n",
    "\n",
    "    if self.cluster_type == \"eight_way\":\n",
    "        northeast_key = (x_idx + 1, y_idx + 1)\n",
    "        northwest_key = (x_idx - 1, y_idx + 1)\n",
    "        southeast_key = (x_idx + 1, y_idx - 1)\n",
    "        southwest_key = (x_idx - 1, y_idx - 1)\n",
    "\n",
    "        adjacent_keys = [\n",
    "            east_key,\n",
    "            west_key,\n",
    "            south_key,\n",
    "            north_key,\n",
    "            northeast_key,\n",
    "            northwest_key,\n",
    "            southeast_key,\n",
    "            southwest_key,\n",
    "        ]\n",
    "\n",
    "    return adjacent_keys"
   ]
  },
  {
   "cell_type": "markdown",
   "id": "d7b95006-b9b2-41e3-8943-fc05beef8fbd",
   "metadata": {},
   "source": [
    "`_dfs_connected_components` - a non-recursive depth-first search implementation of connected components "
   ]
  },
  {
   "cell_type": "code",
   "execution_count": null,
   "id": "99239ce2-19f8-4460-b3f0-96e754465bcd",
   "metadata": {},
   "outputs": [],
   "source": [
    "# eval:false\n",
    "@patch\n",
    "def _dfs_connected_components(\n",
    "    self: TileClustering,\n",
    "    key: Tuple[int, int],\n",
    ") -> None:\n",
    "\n",
    "    self.call_stack.append(key)\n",
    "    while self.call_stack:\n",
    "        ref_key = self.call_stack.pop()\n",
    "\n",
    "        # check if key exists in the first place\n",
    "        if ref_key in self.grid_idx:\n",
    "            # check if adjacent key has already been assigned\n",
    "            if ref_key not in self.tile_cluster_dict.keys():\n",
    "                self.tile_cluster_dict[ref_key] = self.cluster_id\n",
    "\n",
    "                adjacent_keys = self._get_adjacent_keys(ref_key)\n",
    "                for adjacent_key in adjacent_keys:\n",
    "                    self.call_stack.append(adjacent_key)"
   ]
  },
  {
   "cell_type": "markdown",
   "id": "acc775db-fb87-4d6c-9c28-6e8b9b7cad76",
   "metadata": {},
   "source": [
    "## Sample use case- Clustering areas based on scores"
   ]
  },
  {
   "cell_type": "markdown",
   "id": "90ad3f72-ce0d-4b8a-8ebd-b5e56444467d",
   "metadata": {},
   "source": [
    "Input:\n",
    "- `grid_gdf5k` - GeoDataFrame of randomly scored 5km x 5km grid cells\n",
    "- `class` - category column for basis of of clustering\n",
    "\n",
    "Output:\n",
    "- clustered grid based on `class`"
   ]
  },
  {
   "cell_type": "code",
   "execution_count": 1,
   "id": "cd839bf5-9534-41cf-aed0-a7787cf04084",
   "metadata": {},
   "outputs": [],
   "source": [
    "# hide\n",
    "# purpose: this is included so that warnings will not be displayed\n",
    "\n",
    "import warnings\n",
    "\n",
    "from IPython.display import display\n",
    "\n",
    "warnings.filterwarnings(\"ignore\", category=UserWarning, module=\"geopandas\")"
   ]
  },
  {
   "cell_type": "markdown",
   "id": "791669d0-935b-423f-82ee-0d46ad71cfd5",
   "metadata": {},
   "source": [
    "### Step 1: Import packages"
   ]
  },
  {
   "cell_type": "code",
   "execution_count": 41,
   "id": "367fc4ea-56c0-4d05-ac9a-8027a3782653",
   "metadata": {},
   "outputs": [],
   "source": [
    "# hide\n",
    "from collections import deque\n",
    "from typing import List, Optional, Tuple\n",
    "\n",
    "import pandas as pd\n",
    "from fastcore.basics import patch"
   ]
  },
  {
   "cell_type": "code",
   "execution_count": 42,
   "id": "a41cf2b3-eec6-4b0f-be02-3cc407064742",
   "metadata": {},
   "outputs": [],
   "source": [
    "import geopandas as gpd\n",
    "import numpy as np\n",
    "\n",
    "import geowrangler.grids as grids\n",
    "\n",
    "# no_test\n",
    "import geowrangler.tile_clustering as tile_clustering"
   ]
  },
  {
   "cell_type": "markdown",
   "id": "666781b8-082b-4d29-b07d-65ad84d513e2",
   "metadata": {},
   "source": [
    "### Step 2: Load GeoDataFrame and generate grid"
   ]
  },
  {
   "cell_type": "code",
   "execution_count": 43,
   "id": "5c066226-744c-446a-a50f-b9e057ce7a32",
   "metadata": {},
   "outputs": [],
   "source": [
    "# hide\n",
    "# no_test\n",
    "# purpose this is included so that files are downloaded behind the scenes\n",
    "!mkdir -p ../data\n",
    "# download sample geojson file from repo\n",
    "![ ! -e ../data/region3_admin.geojson ] && curl -s -o ../data/region3_admin.geojson https://raw.githubusercontent.com/thinkingmachines/geowrangler/master/data/region3_admin.geojson"
   ]
  },
  {
   "cell_type": "code",
   "execution_count": 44,
   "id": "8bc7c660-3922-4b72-9d54-8127ef95f5a9",
   "metadata": {},
   "outputs": [],
   "source": [
    "# hide\n",
    "region3_gdf = gpd.read_file(\"../data/region3_admin.geojson\")"
   ]
  },
  {
   "cell_type": "code",
   "execution_count": 45,
   "id": "bc3d6456-75a5-4b2e-bf3d-561db6400e53",
   "metadata": {},
   "outputs": [],
   "source": [
    "# no_test\n",
    "grid_generator5k = grids.SquareGridGenerator(5_000)\n",
    "grid_gdf5k = grid_generator5k.generate_grid(region3_gdf)"
   ]
  },
  {
   "cell_type": "code",
   "execution_count": 46,
   "id": "6cbc2f89-29ff-4806-8059-263939d36eee",
   "metadata": {},
   "outputs": [
    {
     "data": {
      "text/html": [
       "<div>\n",
       "<style scoped>\n",
       "    .dataframe tbody tr th:only-of-type {\n",
       "        vertical-align: middle;\n",
       "    }\n",
       "\n",
       "    .dataframe tbody tr th {\n",
       "        vertical-align: top;\n",
       "    }\n",
       "\n",
       "    .dataframe thead th {\n",
       "        text-align: right;\n",
       "    }\n",
       "</style>\n",
       "<table border=\"1\" class=\"dataframe\">\n",
       "  <thead>\n",
       "    <tr style=\"text-align: right;\">\n",
       "      <th></th>\n",
       "      <th>x</th>\n",
       "      <th>y</th>\n",
       "      <th>geometry</th>\n",
       "    </tr>\n",
       "  </thead>\n",
       "  <tbody>\n",
       "    <tr>\n",
       "      <th>0</th>\n",
       "      <td>7</td>\n",
       "      <td>8</td>\n",
       "      <td>POLYGON ((120.10024 14.75528, 120.14516 14.755...</td>\n",
       "    </tr>\n",
       "    <tr>\n",
       "      <th>1</th>\n",
       "      <td>6</td>\n",
       "      <td>8</td>\n",
       "      <td>POLYGON ((120.05533 14.75528, 120.10024 14.755...</td>\n",
       "    </tr>\n",
       "    <tr>\n",
       "      <th>2</th>\n",
       "      <td>9</td>\n",
       "      <td>8</td>\n",
       "      <td>POLYGON ((120.19008 14.75528, 120.23499 14.755...</td>\n",
       "    </tr>\n",
       "    <tr>\n",
       "      <th>3</th>\n",
       "      <td>2</td>\n",
       "      <td>24</td>\n",
       "      <td>POLYGON ((119.87566 15.44910, 119.92058 15.449...</td>\n",
       "    </tr>\n",
       "    <tr>\n",
       "      <th>4</th>\n",
       "      <td>2</td>\n",
       "      <td>25</td>\n",
       "      <td>POLYGON ((119.87566 15.49239, 119.92058 15.492...</td>\n",
       "    </tr>\n",
       "    <tr>\n",
       "      <th>...</th>\n",
       "      <td>...</td>\n",
       "      <td>...</td>\n",
       "      <td>...</td>\n",
       "    </tr>\n",
       "    <tr>\n",
       "      <th>1069</th>\n",
       "      <td>54</td>\n",
       "      <td>44</td>\n",
       "      <td>POLYGON ((122.21128 16.31312, 122.25620 16.313...</td>\n",
       "    </tr>\n",
       "    <tr>\n",
       "      <th>1070</th>\n",
       "      <td>54</td>\n",
       "      <td>45</td>\n",
       "      <td>POLYGON ((122.21128 16.35623, 122.25620 16.356...</td>\n",
       "    </tr>\n",
       "    <tr>\n",
       "      <th>1071</th>\n",
       "      <td>54</td>\n",
       "      <td>46</td>\n",
       "      <td>POLYGON ((122.21128 16.39932, 122.25620 16.399...</td>\n",
       "    </tr>\n",
       "    <tr>\n",
       "      <th>1072</th>\n",
       "      <td>54</td>\n",
       "      <td>47</td>\n",
       "      <td>POLYGON ((122.21128 16.44240, 122.25620 16.442...</td>\n",
       "    </tr>\n",
       "    <tr>\n",
       "      <th>1073</th>\n",
       "      <td>54</td>\n",
       "      <td>48</td>\n",
       "      <td>POLYGON ((122.21128 16.48548, 122.25620 16.485...</td>\n",
       "    </tr>\n",
       "  </tbody>\n",
       "</table>\n",
       "<p>1074 rows × 3 columns</p>\n",
       "</div>"
      ],
      "text/plain": [
       "       x   y                                           geometry\n",
       "0      7   8  POLYGON ((120.10024 14.75528, 120.14516 14.755...\n",
       "1      6   8  POLYGON ((120.05533 14.75528, 120.10024 14.755...\n",
       "2      9   8  POLYGON ((120.19008 14.75528, 120.23499 14.755...\n",
       "3      2  24  POLYGON ((119.87566 15.44910, 119.92058 15.449...\n",
       "4      2  25  POLYGON ((119.87566 15.49239, 119.92058 15.492...\n",
       "...   ..  ..                                                ...\n",
       "1069  54  44  POLYGON ((122.21128 16.31312, 122.25620 16.313...\n",
       "1070  54  45  POLYGON ((122.21128 16.35623, 122.25620 16.356...\n",
       "1071  54  46  POLYGON ((122.21128 16.39932, 122.25620 16.399...\n",
       "1072  54  47  POLYGON ((122.21128 16.44240, 122.25620 16.442...\n",
       "1073  54  48  POLYGON ((122.21128 16.48548, 122.25620 16.485...\n",
       "\n",
       "[1074 rows x 3 columns]"
      ]
     },
     "execution_count": 46,
     "metadata": {},
     "output_type": "execute_result"
    }
   ],
   "source": [
    "# no_test\n",
    "grid_gdf5k"
   ]
  },
  {
   "cell_type": "code",
   "execution_count": 47,
   "id": "1b52b1af-3df4-47c3-9498-729cc04c7009",
   "metadata": {},
   "outputs": [
    {
     "data": {
      "text/plain": [
       "<AxesSubplot:>"
      ]
     },
     "execution_count": 47,
     "metadata": {},
     "output_type": "execute_result"
    },
    {
     "data": {
      "image/png": "[encoded data removed]",
      "text/plain": [
       "<Figure size 432x288 with 1 Axes>"
      ]
     },
     "metadata": {
      "needs_background": "light"
     },
     "output_type": "display_data"
    }
   ],
   "source": [
    "# no_test\n",
    "grid_gdf5k.plot()"
   ]
  },
  {
   "cell_type": "markdown",
   "id": "b3dbf90e-7a6a-4476-9a49-fe812e9b1e81",
   "metadata": {},
   "source": [
    "### Step 3: Assign scores"
   ]
  },
  {
   "cell_type": "code",
   "execution_count": 48,
   "id": "b2b46682-163c-48dd-bc96-c1cb62ce2167",
   "metadata": {},
   "outputs": [],
   "source": [
    "# hide\n",
    "grid_gdf5k[\"score\"] = np.random.random(len(grid_gdf5k))\n",
    "grid_gdf5k[\"class\"] = grid_gdf5k[\"score\"] > 0.7"
   ]
  },
  {
   "cell_type": "code",
   "execution_count": 49,
   "id": "137ce678-836e-4cea-9ab2-e3925b9178f9",
   "metadata": {},
   "outputs": [
    {
     "data": {
      "text/html": [
       "<div>\n",
       "<style scoped>\n",
       "    .dataframe tbody tr th:only-of-type {\n",
       "        vertical-align: middle;\n",
       "    }\n",
       "\n",
       "    .dataframe tbody tr th {\n",
       "        vertical-align: top;\n",
       "    }\n",
       "\n",
       "    .dataframe thead th {\n",
       "        text-align: right;\n",
       "    }\n",
       "</style>\n",
       "<table border=\"1\" class=\"dataframe\">\n",
       "  <thead>\n",
       "    <tr style=\"text-align: right;\">\n",
       "      <th></th>\n",
       "      <th>x</th>\n",
       "      <th>y</th>\n",
       "      <th>geometry</th>\n",
       "      <th>score</th>\n",
       "      <th>class</th>\n",
       "    </tr>\n",
       "  </thead>\n",
       "  <tbody>\n",
       "    <tr>\n",
       "      <th>0</th>\n",
       "      <td>7</td>\n",
       "      <td>8</td>\n",
       "      <td>POLYGON ((120.10024 14.75528, 120.14516 14.755...</td>\n",
       "      <td>0.700745</td>\n",
       "      <td>True</td>\n",
       "    </tr>\n",
       "    <tr>\n",
       "      <th>1</th>\n",
       "      <td>6</td>\n",
       "      <td>8</td>\n",
       "      <td>POLYGON ((120.05533 14.75528, 120.10024 14.755...</td>\n",
       "      <td>0.407959</td>\n",
       "      <td>False</td>\n",
       "    </tr>\n",
       "    <tr>\n",
       "      <th>2</th>\n",
       "      <td>9</td>\n",
       "      <td>8</td>\n",
       "      <td>POLYGON ((120.19008 14.75528, 120.23499 14.755...</td>\n",
       "      <td>0.860025</td>\n",
       "      <td>True</td>\n",
       "    </tr>\n",
       "    <tr>\n",
       "      <th>3</th>\n",
       "      <td>2</td>\n",
       "      <td>24</td>\n",
       "      <td>POLYGON ((119.87566 15.44910, 119.92058 15.449...</td>\n",
       "      <td>0.582303</td>\n",
       "      <td>False</td>\n",
       "    </tr>\n",
       "    <tr>\n",
       "      <th>4</th>\n",
       "      <td>2</td>\n",
       "      <td>25</td>\n",
       "      <td>POLYGON ((119.87566 15.49239, 119.92058 15.492...</td>\n",
       "      <td>0.600667</td>\n",
       "      <td>False</td>\n",
       "    </tr>\n",
       "    <tr>\n",
       "      <th>...</th>\n",
       "      <td>...</td>\n",
       "      <td>...</td>\n",
       "      <td>...</td>\n",
       "      <td>...</td>\n",
       "      <td>...</td>\n",
       "    </tr>\n",
       "    <tr>\n",
       "      <th>1069</th>\n",
       "      <td>54</td>\n",
       "      <td>44</td>\n",
       "      <td>POLYGON ((122.21128 16.31312, 122.25620 16.313...</td>\n",
       "      <td>0.738315</td>\n",
       "      <td>True</td>\n",
       "    </tr>\n",
       "    <tr>\n",
       "      <th>1070</th>\n",
       "      <td>54</td>\n",
       "      <td>45</td>\n",
       "      <td>POLYGON ((122.21128 16.35623, 122.25620 16.356...</td>\n",
       "      <td>0.867497</td>\n",
       "      <td>True</td>\n",
       "    </tr>\n",
       "    <tr>\n",
       "      <th>1071</th>\n",
       "      <td>54</td>\n",
       "      <td>46</td>\n",
       "      <td>POLYGON ((122.21128 16.39932, 122.25620 16.399...</td>\n",
       "      <td>0.087221</td>\n",
       "      <td>False</td>\n",
       "    </tr>\n",
       "    <tr>\n",
       "      <th>1072</th>\n",
       "      <td>54</td>\n",
       "      <td>47</td>\n",
       "      <td>POLYGON ((122.21128 16.44240, 122.25620 16.442...</td>\n",
       "      <td>0.910454</td>\n",
       "      <td>True</td>\n",
       "    </tr>\n",
       "    <tr>\n",
       "      <th>1073</th>\n",
       "      <td>54</td>\n",
       "      <td>48</td>\n",
       "      <td>POLYGON ((122.21128 16.48548, 122.25620 16.485...</td>\n",
       "      <td>0.087000</td>\n",
       "      <td>False</td>\n",
       "    </tr>\n",
       "  </tbody>\n",
       "</table>\n",
       "<p>1074 rows × 5 columns</p>\n",
       "</div>"
      ],
      "text/plain": [
       "       x   y                                           geometry     score  \\\n",
       "0      7   8  POLYGON ((120.10024 14.75528, 120.14516 14.755...  0.700745   \n",
       "1      6   8  POLYGON ((120.05533 14.75528, 120.10024 14.755...  0.407959   \n",
       "2      9   8  POLYGON ((120.19008 14.75528, 120.23499 14.755...  0.860025   \n",
       "3      2  24  POLYGON ((119.87566 15.44910, 119.92058 15.449...  0.582303   \n",
       "4      2  25  POLYGON ((119.87566 15.49239, 119.92058 15.492...  0.600667   \n",
       "...   ..  ..                                                ...       ...   \n",
       "1069  54  44  POLYGON ((122.21128 16.31312, 122.25620 16.313...  0.738315   \n",
       "1070  54  45  POLYGON ((122.21128 16.35623, 122.25620 16.356...  0.867497   \n",
       "1071  54  46  POLYGON ((122.21128 16.39932, 122.25620 16.399...  0.087221   \n",
       "1072  54  47  POLYGON ((122.21128 16.44240, 122.25620 16.442...  0.910454   \n",
       "1073  54  48  POLYGON ((122.21128 16.48548, 122.25620 16.485...  0.087000   \n",
       "\n",
       "      class  \n",
       "0      True  \n",
       "1     False  \n",
       "2      True  \n",
       "3     False  \n",
       "4     False  \n",
       "...     ...  \n",
       "1069   True  \n",
       "1070   True  \n",
       "1071  False  \n",
       "1072   True  \n",
       "1073  False  \n",
       "\n",
       "[1074 rows x 5 columns]"
      ]
     },
     "execution_count": 49,
     "metadata": {},
     "output_type": "execute_result"
    }
   ],
   "source": [
    "# no_test\n",
    "grid_gdf5k"
   ]
  },
  {
   "cell_type": "markdown",
   "id": "06d4d7c5-f9e7-4b0d-9c2b-495dda1e6e55",
   "metadata": {},
   "source": [
    "### Step 4: Tile clustering"
   ]
  },
  {
   "cell_type": "code",
   "execution_count": 50,
   "id": "a2ae60f2-7354-49ea-8da7-574fdca9cd12",
   "metadata": {},
   "outputs": [],
   "source": [
    "# no_test\n",
    "output = tile_clustering.TileClustering().cluster_tiles(\n",
    "    df=grid_gdf5k, category_col=\"class\"\n",
    ")"
   ]
  },
  {
   "cell_type": "code",
   "execution_count": 51,
   "id": "17e0ccf4-1e87-43c6-9910-78cd605e6da7",
   "metadata": {},
   "outputs": [
    {
     "data": {
      "text/html": [
       "<div>\n",
       "<style scoped>\n",
       "    .dataframe tbody tr th:only-of-type {\n",
       "        vertical-align: middle;\n",
       "    }\n",
       "\n",
       "    .dataframe tbody tr th {\n",
       "        vertical-align: top;\n",
       "    }\n",
       "\n",
       "    .dataframe thead th {\n",
       "        text-align: right;\n",
       "    }\n",
       "</style>\n",
       "<table border=\"1\" class=\"dataframe\">\n",
       "  <thead>\n",
       "    <tr style=\"text-align: right;\">\n",
       "      <th></th>\n",
       "      <th>x</th>\n",
       "      <th>y</th>\n",
       "      <th>geometry</th>\n",
       "      <th>score</th>\n",
       "      <th>class</th>\n",
       "      <th>tile_cluster</th>\n",
       "    </tr>\n",
       "  </thead>\n",
       "  <tbody>\n",
       "    <tr>\n",
       "      <th>0</th>\n",
       "      <td>7</td>\n",
       "      <td>8</td>\n",
       "      <td>POLYGON ((120.10024 14.75528, 120.14516 14.755...</td>\n",
       "      <td>0.700745</td>\n",
       "      <td>True</td>\n",
       "      <td>8-1</td>\n",
       "    </tr>\n",
       "    <tr>\n",
       "      <th>1</th>\n",
       "      <td>6</td>\n",
       "      <td>8</td>\n",
       "      <td>POLYGON ((120.05533 14.75528, 120.10024 14.755...</td>\n",
       "      <td>0.407959</td>\n",
       "      <td>False</td>\n",
       "      <td>1-2</td>\n",
       "    </tr>\n",
       "    <tr>\n",
       "      <th>2</th>\n",
       "      <td>9</td>\n",
       "      <td>8</td>\n",
       "      <td>POLYGON ((120.19008 14.75528, 120.23499 14.755...</td>\n",
       "      <td>0.860025</td>\n",
       "      <td>True</td>\n",
       "      <td>10-1</td>\n",
       "    </tr>\n",
       "    <tr>\n",
       "      <th>3</th>\n",
       "      <td>2</td>\n",
       "      <td>24</td>\n",
       "      <td>POLYGON ((119.87566 15.44910, 119.92058 15.449...</td>\n",
       "      <td>0.582303</td>\n",
       "      <td>False</td>\n",
       "      <td>1-2</td>\n",
       "    </tr>\n",
       "    <tr>\n",
       "      <th>4</th>\n",
       "      <td>2</td>\n",
       "      <td>25</td>\n",
       "      <td>POLYGON ((119.87566 15.49239, 119.92058 15.492...</td>\n",
       "      <td>0.600667</td>\n",
       "      <td>False</td>\n",
       "      <td>1-2</td>\n",
       "    </tr>\n",
       "    <tr>\n",
       "      <th>...</th>\n",
       "      <td>...</td>\n",
       "      <td>...</td>\n",
       "      <td>...</td>\n",
       "      <td>...</td>\n",
       "      <td>...</td>\n",
       "      <td>...</td>\n",
       "    </tr>\n",
       "    <tr>\n",
       "      <th>1069</th>\n",
       "      <td>54</td>\n",
       "      <td>44</td>\n",
       "      <td>POLYGON ((122.21128 16.31312, 122.25620 16.313...</td>\n",
       "      <td>0.738315</td>\n",
       "      <td>True</td>\n",
       "      <td>53-1</td>\n",
       "    </tr>\n",
       "    <tr>\n",
       "      <th>1070</th>\n",
       "      <td>54</td>\n",
       "      <td>45</td>\n",
       "      <td>POLYGON ((122.21128 16.35623, 122.25620 16.356...</td>\n",
       "      <td>0.867497</td>\n",
       "      <td>True</td>\n",
       "      <td>53-1</td>\n",
       "    </tr>\n",
       "    <tr>\n",
       "      <th>1071</th>\n",
       "      <td>54</td>\n",
       "      <td>46</td>\n",
       "      <td>POLYGON ((122.21128 16.39932, 122.25620 16.399...</td>\n",
       "      <td>0.087221</td>\n",
       "      <td>False</td>\n",
       "      <td>4-2</td>\n",
       "    </tr>\n",
       "    <tr>\n",
       "      <th>1072</th>\n",
       "      <td>54</td>\n",
       "      <td>47</td>\n",
       "      <td>POLYGON ((122.21128 16.44240, 122.25620 16.442...</td>\n",
       "      <td>0.910454</td>\n",
       "      <td>True</td>\n",
       "      <td>149-1</td>\n",
       "    </tr>\n",
       "    <tr>\n",
       "      <th>1073</th>\n",
       "      <td>54</td>\n",
       "      <td>48</td>\n",
       "      <td>POLYGON ((122.21128 16.48548, 122.25620 16.485...</td>\n",
       "      <td>0.087000</td>\n",
       "      <td>False</td>\n",
       "      <td>4-2</td>\n",
       "    </tr>\n",
       "  </tbody>\n",
       "</table>\n",
       "<p>1074 rows × 6 columns</p>\n",
       "</div>"
      ],
      "text/plain": [
       "       x   y                                           geometry     score  \\\n",
       "0      7   8  POLYGON ((120.10024 14.75528, 120.14516 14.755...  0.700745   \n",
       "1      6   8  POLYGON ((120.05533 14.75528, 120.10024 14.755...  0.407959   \n",
       "2      9   8  POLYGON ((120.19008 14.75528, 120.23499 14.755...  0.860025   \n",
       "3      2  24  POLYGON ((119.87566 15.44910, 119.92058 15.449...  0.582303   \n",
       "4      2  25  POLYGON ((119.87566 15.49239, 119.92058 15.492...  0.600667   \n",
       "...   ..  ..                                                ...       ...   \n",
       "1069  54  44  POLYGON ((122.21128 16.31312, 122.25620 16.313...  0.738315   \n",
       "1070  54  45  POLYGON ((122.21128 16.35623, 122.25620 16.356...  0.867497   \n",
       "1071  54  46  POLYGON ((122.21128 16.39932, 122.25620 16.399...  0.087221   \n",
       "1072  54  47  POLYGON ((122.21128 16.44240, 122.25620 16.442...  0.910454   \n",
       "1073  54  48  POLYGON ((122.21128 16.48548, 122.25620 16.485...  0.087000   \n",
       "\n",
       "      class tile_cluster  \n",
       "0      True          8-1  \n",
       "1     False          1-2  \n",
       "2      True         10-1  \n",
       "3     False          1-2  \n",
       "4     False          1-2  \n",
       "...     ...          ...  \n",
       "1069   True         53-1  \n",
       "1070   True         53-1  \n",
       "1071  False          4-2  \n",
       "1072   True        149-1  \n",
       "1073  False          4-2  \n",
       "\n",
       "[1074 rows x 6 columns]"
      ]
     },
     "execution_count": 51,
     "metadata": {},
     "output_type": "execute_result"
    }
   ],
   "source": [
    "# no_test\n",
    "output"
   ]
  },
  {
   "cell_type": "code",
   "execution_count": 52,
   "id": "4b8bc4bc-9fd6-4c61-8590-fc16b129cf0f",
   "metadata": {},
   "outputs": [
    {
     "data": {
      "text/plain": [
       "<AxesSubplot:>"
      ]
     },
     "execution_count": 52,
     "metadata": {},
     "output_type": "execute_result"
    },
    {
     "data": {
      "image/png": "[encoded data removed]",
      "text/plain": [
       "<Figure size 432x288 with 1 Axes>"
      ]
     },
     "metadata": {
      "needs_background": "light"
     },
     "output_type": "display_data"
    }
   ],
   "source": [
    "# no_test\n",
    "output.plot(column=\"class\", categorical=True, cmap=\"Spectral\")"
   ]
  }
 ],
 "metadata": {
  "kernelspec": {
   "display_name": "Python 3 (ipykernel)",
   "language": "python",
   "name": "python3"
  },
  "language_info": {
   "codemirror_mode": {
    "name": "ipython",
    "version": 3
   },
   "file_extension": ".py",
   "mimetype": "text/x-python",
   "name": "python",
   "nbconvert_exporter": "python",
   "pygments_lexer": "ipython3",
   "version": "3.9.13"
  }
 },
 "nbformat": 4,
 "nbformat_minor": 5
}
