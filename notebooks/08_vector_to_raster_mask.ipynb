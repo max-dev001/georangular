{
 "cells": [
  {
   "cell_type": "code",
   "execution_count": 183,
   "id": "5a2921e4-4985-4fb3-aa08-c80cb0663a4a",
   "metadata": {
    "tags": []
   },
   "outputs": [],
   "source": [
    "# default_exp vector_to_raster_mask"
   ]
  },
  {
   "cell_type": "code",
   "execution_count": 184,
   "id": "5c391435",
   "metadata": {},
   "outputs": [],
   "source": [
    "# hide\n",
    "# all_slow"
   ]
  },
  {
   "cell_type": "code",
   "execution_count": 185,
   "id": "0bd903f7-54e4-44be-af97-ded1447563a6",
   "metadata": {},
   "outputs": [],
   "source": [
    "# hide\n",
    "# no_test\n",
    "! [ -e /content ] && pip install -Uqq geowrangler"
   ]
  },
  {
   "cell_type": "code",
   "execution_count": 186,
   "id": "4193ede1-b155-40b0-b90a-1e619fa91fef",
   "metadata": {},
   "outputs": [],
   "source": [
    "# hide\n",
    "# no_test\n",
    "!mkdir -p ../data\n",
    "![ -e /content ] && ln -s ../data ."
   ]
  },
  {
   "cell_type": "code",
   "execution_count": 187,
   "id": "83e17627-2953-424b-add4-1070099a3c64",
   "metadata": {},
   "outputs": [],
   "source": [
    "# hide\n",
    "# no_test\n",
    "!mkdir -p ../data\n",
    "# download sample geojson files from repo"
   ]
  },
  {
   "cell_type": "code",
   "execution_count": 188,
   "id": "8daa0f3a-d80c-4030-bce8-d437cdb313ea",
   "metadata": {},
   "outputs": [],
   "source": [
    "# hide\n",
    "# no_test\n",
    "%reload_ext autoreload\n",
    "%autoreload 2\n",
    "%matplotlib inline"
   ]
  },
  {
   "cell_type": "code",
   "execution_count": 189,
   "id": "aaa54b7c-4f2a-4a1b-b46c-3f0e20cd1676",
   "metadata": {},
   "outputs": [],
   "source": [
    "# hide\n",
    "import warnings\n",
    "\n",
    "from shapely.errors import ShapelyDeprecationWarning\n",
    "\n",
    "warnings.filterwarnings(action=\"ignore\", category=UserWarning, module=\"geopandas\")\n",
    "warnings.filterwarnings(\n",
    "    action=\"ignore\", category=ShapelyDeprecationWarning, module=\"pandas\"\n",
    ")"
   ]
  },
  {
   "cell_type": "markdown",
   "id": "1a9b26a4-d7a7-4c1e-ac32-436a5708553a",
   "metadata": {},
   "source": [
    "# Vector to Raster mask\n",
    "\n",
    "> convert vectors into rasters where each pixel is a numerical representation of a feature in the vector data"
   ]
  },
  {
   "cell_type": "code",
   "execution_count": 190,
   "id": "f438213c-41dc-432f-a54a-48dda949f2ca",
   "metadata": {},
   "outputs": [],
   "source": [
    "# export\n",
    "import json\n",
    "from typing import Any, Dict\n",
    "\n",
    "import geopandas as gpd\n",
    "import matplotlib.pyplot as plt\n",
    "import rasterio as rio\n",
    "import rasterio.mask"
   ]
  },
  {
   "cell_type": "code",
   "execution_count": 191,
   "id": "bec6dec0",
   "metadata": {},
   "outputs": [],
   "source": [
    "from rasterio import features\n",
    "from rasterio.plot import show\n",
    "from rasterio.windows import Window, transform"
   ]
  },
  {
   "cell_type": "code",
   "execution_count": 192,
   "id": "e0ab13fe",
   "metadata": {},
   "outputs": [],
   "source": [
    "# exporti\n",
    "def _explode(gdf):\n",
    "    \"\"\"\n",
    "    Explodes a geodataframe\n",
    "    Source: https://gist.github.com/mhweber/cf36bb4e09df9deee5eb54dc6be74d26\n",
    "    Will explode muti-part geometries into single geometries.\n",
    "    Args:\n",
    "        gdf (gpd.GeoDataFrame) : Input geodataframe with multi-geometries\n",
    "    Returns:\n",
    "        gdf (gpd.GeoDataFrame) : Exploded geodataframe with a new index\n",
    "                                 and two new columns: level_0 and level_1\n",
    "    \"\"\"\n",
    "\n",
    "    gs = gdf.explode()\n",
    "    gdf2 = gs.reset_index().rename(columns={0: \"geometry\"})\n",
    "    if \"class\" in gdf2.columns:\n",
    "        gdf2 = gdf2.drop(\"class\", axis=1)\n",
    "    gdf_out = gdf2.merge(\n",
    "        gdf.drop(\"geometry\", axis=1), left_on=\"level_0\", right_index=True\n",
    "    )\n",
    "    gdf_out = gdf_out.set_index([\"level_0\", \"level_1\"]).set_geometry(\"geometry\")\n",
    "    gdf_out.crs = gdf.crs\n",
    "\n",
    "    return gdf_out"
   ]
  },
  {
   "cell_type": "code",
   "execution_count": 193,
   "id": "aaf5a8fb",
   "metadata": {},
   "outputs": [],
   "source": [
    "# export\n",
    "\n",
    "GRID_ID = 1\n",
    "\n",
    "\n",
    "def generate_mask(\n",
    "    tiff_file,\n",
    "    shape_file,\n",
    "    output_file,\n",
    "    labels_column,\n",
    "    labels_dict: Dict[str, Any],\n",
    "    plot=False,\n",
    "):\n",
    "    \"\"\"Generates a segmentation mask for one TIFF image.\n",
    "    Arguments:\n",
    "        tiff_file (str): Path to reference TIFF file ||\n",
    "        shape_file (str): Path to shapefile ||\n",
    "        output_file (str): Path to output file ||\n",
    "        labels_column (str): Feature in the shapefile that contains labels/categories ||\n",
    "        labels_dict (dict): Dictionary of desired labels and assigned values for the mask ||\n",
    "    Returns:\n",
    "        image (np.array): A binary mask as a numpy array\n",
    "    \"\"\"\n",
    "    global GRID_ID\n",
    "\n",
    "    src = rio.open(tiff_file)\n",
    "    raw = gpd.read_file(shape_file).dropna()\n",
    "    gdf = _explode(raw)\n",
    "\n",
    "    label_values = {}\n",
    "\n",
    "    labels_column = f\"{labels_column}_x\"\n",
    "\n",
    "    if labels_column in gdf.columns:\n",
    "        for keys, values in labels_dict.items():\n",
    "            label_values[keys] = values\n",
    "\n",
    "    masks, grids = [], []\n",
    "    for index, (idx, x) in enumerate(gdf.iterrows()):\n",
    "\n",
    "        if labels_column in x:\n",
    "            value = label_values[x[labels_column]]\n",
    "\n",
    "        gdf_json = json.loads(gpd.GeoDataFrame(x).T.to_json())\n",
    "        feature = [gdf_json[\"features\"][0][\"geometry\"]][0]\n",
    "        masks.append((feature, value))\n",
    "        grids.append((feature, GRID_ID))\n",
    "        GRID_ID += 1\n",
    "\n",
    "    masks = rio.features.rasterize(\n",
    "        ((g, v) for (g, v) in masks),\n",
    "        out_shape=src.shape,\n",
    "        transform=src.transform,\n",
    "    ).astype(rio.uint16)\n",
    "\n",
    "    grids = rio.features.rasterize(\n",
    "        ((g, v) for (g, v) in grids),\n",
    "        out_shape=src.shape,\n",
    "        transform=src.transform,\n",
    "    ).astype(rio.uint16)\n",
    "\n",
    "    out_meta = src.meta.copy()\n",
    "    out_meta[\"count\"] = 2\n",
    "    out_meta[\"nodata\"] = 0\n",
    "    out_meta[\"dtype\"] = rio.uint16\n",
    "    out_meta[\"compress\"] = \"deflate\"\n",
    "\n",
    "    with rio.open(output_file, \"w\", **out_meta) as dst:\n",
    "        dst.write(masks, indexes=1)\n",
    "        dst.write(grids, indexes=2)\n",
    "\n",
    "    if plot:\n",
    "        f, ax = plt.subplots(1, 3, figsize=(15, 15))\n",
    "        gdf.plot(ax=ax[0])\n",
    "        rio.plot.show(src, ax=ax[1], adjust=None)\n",
    "        rio.plot.show(masks, ax=ax[2], adjust=None)\n",
    "\n",
    "        ax[0].set_title(\"Vector File\")\n",
    "        ax[1].set_title(\"TIFF\")\n",
    "        ax[2].set_title(\"Masked\")\n",
    "        plt.show()\n",
    "\n",
    "    return masks, grids, label_values"
   ]
  },
  {
   "cell_type": "markdown",
   "id": "fc7eb32f-136b-44a1-810e-e52eef535852",
   "metadata": {},
   "source": [
    "## Test data"
   ]
  },
  {
   "cell_type": "markdown",
   "id": "190370e2-f39f-4f9f-b945-cad745c3df1e",
   "metadata": {},
   "source": [
    "### Generating a raster mask"
   ]
  },
  {
   "cell_type": "code",
   "execution_count": 194,
   "id": "f92381eb-da51-41e1-b6b0-4fe7480601d4",
   "metadata": {},
   "outputs": [],
   "source": [
    "# Get filepaths\n",
    "tiff_file = \"../data/vector_to_raster_mask_sample/cabanglasan.tif\"\n",
    "shape_file = \"../data/vector_to_raster_mask_sample/labels_20220816.gpkg\"\n",
    "target_file = shape_file.replace(\"gpkg\", \"tiff\")"
   ]
  },
  {
   "cell_type": "markdown",
   "id": "3cdb30f8",
   "metadata": {},
   "source": [
    "Given a raster image of a certain area that will be masked to use as a reference and a shape file that contains that area. Note that the shape file must include a column that contains labels/categories. "
   ]
  },
  {
   "cell_type": "code",
   "execution_count": 195,
   "id": "94c2cbf6",
   "metadata": {},
   "outputs": [
    {
     "data": {
      "text/html": [
       "<div>\n",
       "<style scoped>\n",
       "    .dataframe tbody tr th:only-of-type {\n",
       "        vertical-align: middle;\n",
       "    }\n",
       "\n",
       "    .dataframe tbody tr th {\n",
       "        vertical-align: top;\n",
       "    }\n",
       "\n",
       "    .dataframe thead th {\n",
       "        text-align: right;\n",
       "    }\n",
       "</style>\n",
       "<table border=\"1\" class=\"dataframe\">\n",
       "  <thead>\n",
       "    <tr style=\"text-align: right;\">\n",
       "      <th></th>\n",
       "      <th>year</th>\n",
       "      <th>label</th>\n",
       "      <th>uid</th>\n",
       "      <th>ADM3_EN</th>\n",
       "      <th>ADM3_PCODE</th>\n",
       "      <th>ADM2_EN</th>\n",
       "      <th>ADM2_PCODE</th>\n",
       "      <th>ADM1_EN</th>\n",
       "      <th>ADM1_PCODE</th>\n",
       "      <th>geometry</th>\n",
       "    </tr>\n",
       "  </thead>\n",
       "  <tbody>\n",
       "    <tr>\n",
       "      <th>0</th>\n",
       "      <td>2017.0</td>\n",
       "      <td>mining</td>\n",
       "      <td>72_2017_mining</td>\n",
       "      <td>Sofronio Española</td>\n",
       "      <td>PH175324000</td>\n",
       "      <td>Palawan</td>\n",
       "      <td>PH175300000</td>\n",
       "      <td>Region IV-B</td>\n",
       "      <td>PH170000000</td>\n",
       "      <td>MULTIPOLYGON Z (((117.95961 9.03303 0.00000, 1...</td>\n",
       "    </tr>\n",
       "    <tr>\n",
       "      <th>1</th>\n",
       "      <td>2017.0</td>\n",
       "      <td>mining</td>\n",
       "      <td>71_2017_mining</td>\n",
       "      <td>Sofronio Española</td>\n",
       "      <td>PH175324000</td>\n",
       "      <td>Palawan</td>\n",
       "      <td>PH175300000</td>\n",
       "      <td>Region IV-B</td>\n",
       "      <td>PH170000000</td>\n",
       "      <td>MULTIPOLYGON Z (((117.95507 9.03809 0.00000, 1...</td>\n",
       "    </tr>\n",
       "    <tr>\n",
       "      <th>2</th>\n",
       "      <td>2017.0</td>\n",
       "      <td>mining</td>\n",
       "      <td>70_2017_mining</td>\n",
       "      <td>Sofronio Española</td>\n",
       "      <td>PH175324000</td>\n",
       "      <td>Palawan</td>\n",
       "      <td>PH175300000</td>\n",
       "      <td>Region IV-B</td>\n",
       "      <td>PH170000000</td>\n",
       "      <td>MULTIPOLYGON Z (((117.95663 9.03869 0.00000, 1...</td>\n",
       "    </tr>\n",
       "  </tbody>\n",
       "</table>\n",
       "</div>"
      ],
      "text/plain": [
       "     year   label             uid            ADM3_EN   ADM3_PCODE  ADM2_EN  \\\n",
       "0  2017.0  mining  72_2017_mining  Sofronio Española  PH175324000  Palawan   \n",
       "1  2017.0  mining  71_2017_mining  Sofronio Española  PH175324000  Palawan   \n",
       "2  2017.0  mining  70_2017_mining  Sofronio Española  PH175324000  Palawan   \n",
       "\n",
       "    ADM2_PCODE      ADM1_EN   ADM1_PCODE  \\\n",
       "0  PH175300000  Region IV-B  PH170000000   \n",
       "1  PH175300000  Region IV-B  PH170000000   \n",
       "2  PH175300000  Region IV-B  PH170000000   \n",
       "\n",
       "                                            geometry  \n",
       "0  MULTIPOLYGON Z (((117.95961 9.03303 0.00000, 1...  \n",
       "1  MULTIPOLYGON Z (((117.95507 9.03809 0.00000, 1...  \n",
       "2  MULTIPOLYGON Z (((117.95663 9.03869 0.00000, 1...  "
      ]
     },
     "execution_count": 195,
     "metadata": {},
     "output_type": "execute_result"
    }
   ],
   "source": [
    "gpd.read_file(shape_file).head(3)"
   ]
  },
  {
   "cell_type": "markdown",
   "id": "7dce2047",
   "metadata": {},
   "source": [
    "And a dictionary with the labels and assigned values to be used in creating a mask"
   ]
  },
  {
   "cell_type": "code",
   "execution_count": 196,
   "id": "c8916229",
   "metadata": {},
   "outputs": [],
   "source": [
    "labels = {\n",
    "    \"mining\": 1,\n",
    "    \"neg\": 2,\n",
    "    \"agriculture\": 3,\n",
    "    \"product_extraction\": 4,\n",
    "    \"kaingin\": 5,\n",
    "    \"biophysical\": 6,\n",
    "}"
   ]
  },
  {
   "cell_type": "markdown",
   "id": "322f0829",
   "metadata": {},
   "source": [
    "Input them in the `generate_mask` function to create a raster mask of the same dimension as the reference raster image"
   ]
  },
  {
   "cell_type": "code",
   "execution_count": 197,
   "id": "29c6aed0-9482-4364-8494-fd4b11c0c689",
   "metadata": {
    "tags": []
   },
   "outputs": [
    {
     "name": "stderr",
     "output_type": "stream",
     "text": [
      "/tmp/ipykernel_263/3832611824.py:14: FutureWarning: Currently, index_parts defaults to True, but in the future, it will default to False to be consistent with Pandas. Use `index_parts=True` to keep the current behavior and True/False to silence the warning.\n",
      "  gs = gdf.explode()\n"
     ]
    },
    {
     "data": {
      "image/png": "[encoded data removed]",
      "text/plain": [
       "<Figure size 1080x1080 with 3 Axes>"
      ]
     },
     "metadata": {
      "needs_background": "light"
     },
     "output_type": "display_data"
    }
   ],
   "source": [
    "# Generate masks for a file\n",
    "masks, grids, values = generate_mask(\n",
    "    tiff_file=tiff_file,\n",
    "    shape_file=shape_file,\n",
    "    output_file=target_file,\n",
    "    labels_column=\"label\",\n",
    "    labels_dict=labels,\n",
    "    plot=True,\n",
    ")"
   ]
  },
  {
   "cell_type": "code",
   "execution_count": 198,
   "id": "f599bcc5",
   "metadata": {},
   "outputs": [
    {
     "data": {
      "text/plain": [
       "array([[0, 0, 0, ..., 0, 0, 0],\n",
       "       [0, 0, 0, ..., 0, 0, 0],\n",
       "       [0, 0, 0, ..., 0, 0, 0],\n",
       "       ...,\n",
       "       [0, 0, 0, ..., 0, 0, 0],\n",
       "       [0, 0, 0, ..., 0, 0, 0],\n",
       "       [0, 0, 0, ..., 0, 0, 0]], dtype=uint16)"
      ]
     },
     "execution_count": 198,
     "metadata": {},
     "output_type": "execute_result"
    }
   ],
   "source": [
    "masks"
   ]
  },
  {
   "cell_type": "code",
   "execution_count": 199,
   "id": "abc2747d",
   "metadata": {},
   "outputs": [
    {
     "data": {
      "text/plain": [
       "array([[0, 0, 0, ..., 0, 0, 0],\n",
       "       [0, 0, 0, ..., 0, 0, 0],\n",
       "       [0, 0, 0, ..., 0, 0, 0],\n",
       "       ...,\n",
       "       [0, 0, 0, ..., 0, 0, 0],\n",
       "       [0, 0, 0, ..., 0, 0, 0],\n",
       "       [0, 0, 0, ..., 0, 0, 0]], dtype=uint16)"
      ]
     },
     "execution_count": 199,
     "metadata": {},
     "output_type": "execute_result"
    }
   ],
   "source": [
    "grids"
   ]
  },
  {
   "cell_type": "code",
   "execution_count": 200,
   "id": "8bc7c072",
   "metadata": {},
   "outputs": [
    {
     "data": {
      "text/plain": [
       "{'mining': 1,\n",
       " 'neg': 2,\n",
       " 'agriculture': 3,\n",
       " 'product_extraction': 4,\n",
       " 'kaingin': 5,\n",
       " 'biophysical': 6}"
      ]
     },
     "execution_count": 200,
     "metadata": {},
     "output_type": "execute_result"
    }
   ],
   "source": [
    "values"
   ]
  }
 ],
 "metadata": {
  "kernelspec": {
   "display_name": "Python 3.9.5 ('.venv': poetry)",
   "language": "python",
   "name": "python3"
  },
  "language_info": {
   "codemirror_mode": {
    "name": "ipython",
    "version": 3
   },
   "file_extension": ".py",
   "mimetype": "text/x-python",
   "name": "python",
   "nbconvert_exporter": "python",
   "pygments_lexer": "ipython3",
   "version": "3.9.5"
  },
  "vscode": {
   "interpreter": {
    "hash": "15bb7356f0f97adc08bad10c5da071d45cdcaadc2a6df1833dee78fd22ec4265"
   }
  }
 },
 "nbformat": 4,
 "nbformat_minor": 5
}
