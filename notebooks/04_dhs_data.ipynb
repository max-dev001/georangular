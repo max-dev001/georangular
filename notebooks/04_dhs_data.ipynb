{
 "cells": [
  {
   "cell_type": "code",
   "execution_count": 1,
   "id": "911e9d52-f335-484d-90f5-dece2cf4da18",
   "metadata": {},
   "outputs": [],
   "source": [
    "# default_exp dhs"
   ]
  },
  {
   "cell_type": "code",
   "execution_count": 2,
   "id": "0cc6cb14-20e0-44a0-ab6d-cc73892763d4",
   "metadata": {},
   "outputs": [],
   "source": [
    "# hide\n",
    "# no_test\n",
    "! [ -e /content ] && pip install -Uqq git+https://github.com/thinkingmachines/geowrangler.git"
   ]
  },
  {
   "cell_type": "code",
   "execution_count": 3,
   "id": "b41c477c-c015-4541-a7e7-51838970283c",
   "metadata": {},
   "outputs": [],
   "source": [
    "# hide\n",
    "# no_test\n",
    "%reload_ext autoreload\n",
    "%autoreload 2\n",
    "%matplotlib inline"
   ]
  },
  {
   "cell_type": "markdown",
   "id": "4b25ee3a-ea83-470e-a255-11b6e8c701d3",
   "metadata": {
    "tags": []
   },
   "source": [
    "# DHS Utilities\n",
    "> Utility function for dealing with dhs data\""
   ]
  },
  {
   "cell_type": "code",
   "execution_count": 5,
   "id": "c98ad075-ed5e-4878-9a98-72f64615535c",
   "metadata": {},
   "outputs": [],
   "source": [
    "# exporti\n",
    "from typing import List\n",
    "\n",
    "import geopandas as gpd\n",
    "import pandas as pd"
   ]
  },
  {
   "cell_type": "code",
   "execution_count": 104,
   "id": "d2a26ac6-e9db-49b4-8579-d6e2e55e5fb5",
   "metadata": {},
   "outputs": [],
   "source": [
    "# export\n",
    "def get_approximate_col_name(columns: List[str], col_name: str):\n",
    "    \"\"\"Get the approximate name of a column from a colname\"\"\"\n",
    "    query_set = set(col_name.split())\n",
    "    most_likely_column = next(\n",
    "        (col for col in columns if query_set.issubset(set(col.lower().split()))), None\n",
    "    )\n",
    "    if most_likely_column is None:\n",
    "        raise IndexError(f\"Could not find {col_name} in {columns}\")\n",
    "    return most_likely_column"
   ]
  },
  {
   "cell_type": "code",
   "execution_count": 107,
   "id": "9b03da5b-e55c-48ad-a59b-33ba22f23b9a",
   "metadata": {},
   "outputs": [],
   "source": [
    "# export\n",
    "\n",
    "\n",
    "def generate_dhs_cluster_data(household_data: str, gps_coordinates: str):\n",
    "    # Read stata file and rename files\n",
    "    dhs_reader = pd.read_stata(\n",
    "        household_data, convert_categoricals=False, iterator=True\n",
    "    )\n",
    "    dhs_dict = dhs_reader.variable_labels()\n",
    "    with dhs_reader:\n",
    "        dhs_df = dhs_reader.read()\n",
    "    dhs_df.rename(columns=dhs_dict, inplace=True)\n",
    "    # Due to each file having different column names we get each approximate col name for cluster and wealth index\n",
    "    cluster_col_name = get_approximate_col_name(dhs_df.columns, \"cluster\")\n",
    "    wealth_col_name = get_approximate_col_name(dhs_df.columns, \"wealth index factor\")\n",
    "    summarized = (\n",
    "        dhs_df[[wealth_col_name, cluster_col_name]].groupby(cluster_col_name).mean()\n",
    "    )\n",
    "    summarized.reset_index(inplace=True)\n",
    "    summarized.columns = [\"DHSCLUST\", \"Wealth Index\"]\n",
    "    dhs_shp = gpd.read_file(gps_coordinates)\n",
    "    survey_geo = pd.merge(summarized, dhs_shp, on=\"DHSCLUST\")\n",
    "    return survey_geo"
   ]
  },
  {
   "cell_type": "code",
   "execution_count": 109,
   "id": "6bb8fe35-a2b8-4102-a468-4a778756cf7e",
   "metadata": {},
   "outputs": [
    {
     "name": "stdout",
     "output_type": "stream",
     "text": [
      "Converted 04_dhs_data.ipynb.\n"
     ]
    }
   ],
   "source": [
    "# hide\n",
    "# no_test\n",
    "from nbdev.export import notebook2script\n",
    "\n",
    "notebook2script(\"04_dhs_data.ipynb\")"
   ]
  }
 ],
 "metadata": {
  "kernelspec": {
   "display_name": "Python 3 (ipykernel)",
   "language": "python",
   "name": "python3"
  },
  "language_info": {
   "codemirror_mode": {
    "name": "ipython",
    "version": 3
   },
   "file_extension": ".py",
   "mimetype": "text/x-python",
   "name": "python",
   "nbconvert_exporter": "python",
   "pygments_lexer": "ipython3",
   "version": "3.9.11"
  }
 },
 "nbformat": 4,
 "nbformat_minor": 5
}
