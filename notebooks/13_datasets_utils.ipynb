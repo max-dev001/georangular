{
 "cells": [
  {
   "cell_type": "code",
   "execution_count": 1,
   "id": "d7541cc2-85f9-4f37-9dc6-a9353e789acf",
   "metadata": {},
   "outputs": [],
   "source": [
    "%reload_ext autoreload\n",
    "%autoreload 2"
   ]
  },
  {
   "cell_type": "code",
   "execution_count": 2,
   "id": "f42451b2-5668-422c-98d9-e5f0669e307f",
   "metadata": {},
   "outputs": [],
   "source": [
    "# default_exp datasets.utils"
   ]
  },
  {
   "cell_type": "code",
   "execution_count": 3,
   "id": "4203024c-36c7-4595-b30a-85352305c45c",
   "metadata": {},
   "outputs": [],
   "source": [
    "# hide\n",
    "# no_test\n",
    "![ -e /content ] && pip install -Uqq geowrangler"
   ]
  },
  {
   "cell_type": "markdown",
   "id": "512a0deb-4776-4055-b2c3-0b752ccc65a7",
   "metadata": {},
   "source": [
    "# Datasets Utils\n",
    "> Utilities for caching and downloading datasets"
   ]
  },
  {
   "cell_type": "code",
   "execution_count": 4,
   "id": "945f6b50-90e8-4f8e-872e-db7ed12dfcdf",
   "metadata": {},
   "outputs": [],
   "source": [
    "# exporti\n",
    "\n",
    "import contextlib\n",
    "from urllib.error import ContentTooShortError\n",
    "\n",
    "from fastcore.net import urlopen\n",
    "from fastprogress.fastprogress import progress_bar\n",
    "from loguru import logger"
   ]
  },
  {
   "cell_type": "code",
   "execution_count": 5,
   "id": "6f391b5a-2375-4c96-ba28-34f9db9ddc1e",
   "metadata": {},
   "outputs": [],
   "source": [
    "# export\n",
    "# from https://github.com/fastai/fastcore/blob/86337bad16a65f23c5335286ab73cd4d6425c586/fastcore/net.py#L147\n",
    "# add headers to urlwrap call (to allow auth)\n",
    "def urlretrieve(\n",
    "    url, filename, headers=None, reporthook=None, timeout=None, chunksize=8192\n",
    "):\n",
    "    \"Same as `urllib.request.urlretrieve` but also works with `Request` objects\"\n",
    "    with contextlib.closing(\n",
    "        urlopen(url, data=None, headers=headers, timeout=timeout)\n",
    "    ) as fp:\n",
    "        respheaders = fp.info()\n",
    "        logger.info(f\"Retrieving {url} into {filename}\")\n",
    "        with open(filename, \"wb\") as tfp:\n",
    "            size = -1\n",
    "            read = 0\n",
    "            blocknum = 0\n",
    "            if \"Content-length\" in respheaders:\n",
    "                size = int(respheaders[\"Content-Length\"])\n",
    "                if size < chunksize:\n",
    "                    chunksize = size\n",
    "            if reporthook:\n",
    "                reporthook(blocknum, chunksize, size)\n",
    "            while True:\n",
    "                block = fp.read(chunksize)\n",
    "                if not block:\n",
    "                    break\n",
    "                read += len(block)\n",
    "                tfp.write(block)\n",
    "                blocknum += 1\n",
    "                if reporthook:\n",
    "                    reporthook(blocknum, chunksize, size)\n",
    "\n",
    "    if size >= 0 and read < size:\n",
    "        raise ContentTooShortError(\n",
    "            f\"retrieval incomplete: got only {read} out of {size} bytes\", respheaders\n",
    "        )\n",
    "    return filename, respheaders, fp"
   ]
  },
  {
   "cell_type": "code",
   "execution_count": 6,
   "id": "03330b56-e85f-4ecd-847a-6ee65cdd3bf4",
   "metadata": {},
   "outputs": [],
   "source": [
    "# export\n",
    "def make_report_hook(show_progress):\n",
    "    if not show_progress:\n",
    "        return None\n",
    "    pbar = progress_bar([])\n",
    "\n",
    "    def progress(count=1, bsize=1, tsize=None):\n",
    "        pbar.total = tsize\n",
    "        pbar.update(count * bsize)\n",
    "\n",
    "    return progress"
   ]
  },
  {
   "cell_type": "code",
   "execution_count": null,
   "id": "203ba19d-0c17-4c5b-8ce1-71c10f6ccb4c",
   "metadata": {},
   "outputs": [],
   "source": []
  }
 ],
 "metadata": {
  "kernelspec": {
   "display_name": "Python 3",
   "language": "python",
   "name": "python3"
  },
  "language_info": {
   "codemirror_mode": {
    "name": "ipython",
    "version": 3
   },
   "file_extension": ".py",
   "mimetype": "text/x-python",
   "name": "python",
   "nbconvert_exporter": "python",
   "pygments_lexer": "ipython3",
   "version": "3.9.13"
  }
 },
 "nbformat": 4,
 "nbformat_minor": 5
}
