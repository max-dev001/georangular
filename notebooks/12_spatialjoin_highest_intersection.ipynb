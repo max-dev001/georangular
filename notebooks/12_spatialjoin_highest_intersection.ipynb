{
 "cells": [
  {
   "cell_type": "code",
   "execution_count": 2,
   "id": "e8e6e021-2047-411a-8698-c6a96f03e806",
   "metadata": {},
   "outputs": [],
   "source": [
    "# default_exp spatialjoin_highest_intersection"
   ]
  },
  {
   "cell_type": "code",
   "execution_count": 3,
   "id": "fe462182-8af7-4cbc-9cae-cf781d0fcfd4",
   "metadata": {},
   "outputs": [],
   "source": [
    "# hide\n",
    "# no_test\n",
    "! [ -e /content ] && pip install -Uqq geowrangler\n",
    "! [ -e /content ] && pip install -Uqq git+https://github.com/butchland/nbdev.git@add-black-format\n",
    "# downgrade tornado if in colab\n",
    "! [ -e /content ] && pip install -Uqq tornado==5.1.0"
   ]
  },
  {
   "cell_type": "code",
   "execution_count": 4,
   "id": "24b54031-2f97-4971-b68f-9da1fa131347",
   "metadata": {},
   "outputs": [],
   "source": [
    "# hide\n",
    "# no_test\n",
    "%reload_ext autoreload\n",
    "%autoreload 2\n",
    "%matplotlib inline"
   ]
  },
  {
   "cell_type": "code",
   "execution_count": 5,
   "id": "95787089-1b02-4ed2-83e8-da474c7b7ebb",
   "metadata": {},
   "outputs": [],
   "source": [
    "# hide\n",
    "import warnings\n",
    "\n",
    "from shapely.errors import ShapelyDeprecationWarning\n",
    "\n",
    "warnings.filterwarnings(action=\"ignore\", category=UserWarning, module=\"geopandas\")\n",
    "warnings.filterwarnings(\n",
    "    action=\"ignore\", category=ShapelyDeprecationWarning, module=\"pandas\"\n",
    ")"
   ]
  },
  {
   "cell_type": "markdown",
   "id": "651c8900-3842-49c0-ade7-c70aca29dad8",
   "metadata": {},
   "source": [
    "# Spatial Join Highest Intersection\n"
   ]
  },
  {
   "cell_type": "markdown",
   "id": "a0d28233",
   "metadata": {},
   "source": [
    "# Import"
   ]
  },
  {
   "cell_type": "code",
   "execution_count": 6,
   "id": "3b982ce8-9534-46a1-bf90-2ab5c62f0824",
   "metadata": {
    "colab": {
     "base_uri": "https://localhost:8080/",
     "height": 373
    },
    "id": "3b982ce8-9534-46a1-bf90-2ab5c62f0824",
    "outputId": "91c92718-cd9a-4dd1-f326-5ac67376a128"
   },
   "outputs": [],
   "source": [
    "# export\n",
    "import json\n",
    "import os\n",
    "import geopandas as gpd\n",
    "import pandas as pd\n",
    "import requests\n",
    "from geowrangler import grids"
   ]
  },
  {
   "cell_type": "markdown",
   "id": "3d6efd45-8c69-4c30-be7a-c7b4ecdf73e8",
   "metadata": {
    "id": "3d6efd45-8c69-4c30-be7a-c7b4ecdf73e8"
   },
   "source": [
    "# Generate Test Data"
   ]
  },
  {
   "cell_type": "markdown",
   "id": "6d1203d4-efbb-479a-b9ea-7377188965bd",
   "metadata": {
    "id": "6d1203d4-efbb-479a-b9ea-7377188965bd"
   },
   "source": [
    "# Load a sample admin boundary file using geopandas"
   ]
  },
  {
   "cell_type": "code",
   "execution_count": 7,
   "id": "1c135a4c-e23d-45ae-8ad2-281d965f0fd6",
   "metadata": {
    "id": "a434825f-6a4e-47ce-834b-2013df9e5945",
    "outputId": "b90a124d-03b6-4533-deb2-c895774e4c68"
   },
   "outputs": [],
   "source": [
    "# hide\n",
    "# Query geoBoundaries\n",
    "def get_geoboundaries(filename, iso, adm):\n",
    "    r = requests.get(\n",
    "        \"https://www.geoboundaries.org/gbRequest.html?ISO={}&ADM={}\".format(iso, adm)\n",
    "    )\n",
    "    dl_path = r.json()[0][\"gjDownloadURL\"]\n",
    "\n",
    "    # Save the result as a GeoJSON\n",
    "    # filename = \"../data/geoboundary.geojson\"\n",
    "    admin_bounds = requests.get(dl_path).json()\n",
    "    with open(filename, \"w\") as file:\n",
    "        json.dump(admin_bounds, file)\n",
    "\n",
    "    # Read data using GeoPandas\n",
    "    admin_bounds_gdf = gpd.read_file(filename)\n",
    "    print(\"Data dimensions: {}\".format(admin_bounds_gdf.shape))"
   ]
  },
  {
   "cell_type": "code",
   "execution_count": 8,
   "id": "7375d91b-89f8-4786-8147-453b9fc2c0b5",
   "metadata": {
    "id": "a434825f-6a4e-47ce-834b-2013df9e5945",
    "outputId": "b90a124d-03b6-4533-deb2-c895774e4c68"
   },
   "outputs": [],
   "source": [
    "# hide\n",
    "\n",
    "ISO = \"PHL\"  # \"PHL\" is the ISO code for Philippines\n",
    "ADM = \"ADM2\"  # Equivalent to administrative districts"
   ]
  },
  {
   "cell_type": "code",
   "execution_count": 9,
   "id": "aefbc701-dae4-41bb-9fa4-a48f92d97c72",
   "metadata": {},
   "outputs": [],
   "source": [
    "# hide\n",
    "# get_geoboundaries('../data/geoboundary.geojson',ISO,ADM)"
   ]
  },
  {
   "cell_type": "code",
   "execution_count": 10,
   "id": "d00aa802-5495-4bfc-a698-8cf37a73d3d5",
   "metadata": {},
   "outputs": [],
   "source": [
    "admin_bounds_gdf = gpd.read_file(\"../data/geoboundary.geojson\")"
   ]
  },
  {
   "cell_type": "code",
   "execution_count": 11,
   "id": "9e8966c3-87d3-4c20-b0e8-12af418a6e62",
   "metadata": {
    "id": "a434825f-6a4e-47ce-834b-2013df9e5945",
    "outputId": "b90a124d-03b6-4533-deb2-c895774e4c68"
   },
   "outputs": [
    {
     "data": {
      "text/html": [
       "<div>\n",
       "<style scoped>\n",
       "    .dataframe tbody tr th:only-of-type {\n",
       "        vertical-align: middle;\n",
       "    }\n",
       "\n",
       "    .dataframe tbody tr th {\n",
       "        vertical-align: top;\n",
       "    }\n",
       "\n",
       "    .dataframe thead th {\n",
       "        text-align: right;\n",
       "    }\n",
       "</style>\n",
       "<table border=\"1\" class=\"dataframe\">\n",
       "  <thead>\n",
       "    <tr style=\"text-align: right;\">\n",
       "      <th></th>\n",
       "      <th>shapeName</th>\n",
       "      <th>shapeISO</th>\n",
       "      <th>shapeID</th>\n",
       "      <th>shapeGroup</th>\n",
       "      <th>shapeType</th>\n",
       "      <th>geometry</th>\n",
       "    </tr>\n",
       "  </thead>\n",
       "  <tbody>\n",
       "    <tr>\n",
       "      <th>0</th>\n",
       "      <td>Abra</td>\n",
       "      <td>None</td>\n",
       "      <td>PHL-ADM2-3_0_0-B1</td>\n",
       "      <td>PHL</td>\n",
       "      <td>ADM2</td>\n",
       "      <td>MULTIPOLYGON (((120.96795 17.95706, 120.97803 ...</td>\n",
       "    </tr>\n",
       "    <tr>\n",
       "      <th>1</th>\n",
       "      <td>Agusan del Norte</td>\n",
       "      <td>None</td>\n",
       "      <td>PHL-ADM2-3_0_0-B2</td>\n",
       "      <td>PHL</td>\n",
       "      <td>ADM2</td>\n",
       "      <td>MULTIPOLYGON (((125.57724 9.45679, 125.59687 9...</td>\n",
       "    </tr>\n",
       "    <tr>\n",
       "      <th>2</th>\n",
       "      <td>Agusan del Sur</td>\n",
       "      <td>None</td>\n",
       "      <td>PHL-ADM2-3_0_0-B3</td>\n",
       "      <td>PHL</td>\n",
       "      <td>ADM2</td>\n",
       "      <td>MULTIPOLYGON (((125.91087 8.85625, 125.91461 8...</td>\n",
       "    </tr>\n",
       "  </tbody>\n",
       "</table>\n",
       "</div>"
      ],
      "text/plain": [
       "          shapeName shapeISO            shapeID shapeGroup shapeType  \\\n",
       "0              Abra     None  PHL-ADM2-3_0_0-B1        PHL      ADM2   \n",
       "1  Agusan del Norte     None  PHL-ADM2-3_0_0-B2        PHL      ADM2   \n",
       "2    Agusan del Sur     None  PHL-ADM2-3_0_0-B3        PHL      ADM2   \n",
       "\n",
       "                                            geometry  \n",
       "0  MULTIPOLYGON (((120.96795 17.95706, 120.97803 ...  \n",
       "1  MULTIPOLYGON (((125.57724 9.45679, 125.59687 9...  \n",
       "2  MULTIPOLYGON (((125.91087 8.85625, 125.91461 8...  "
      ]
     },
     "execution_count": 11,
     "metadata": {},
     "output_type": "execute_result"
    }
   ],
   "source": [
    "admin_bounds_gdf.head(3)"
   ]
  },
  {
   "cell_type": "code",
   "execution_count": 12,
   "id": "62906a47",
   "metadata": {},
   "outputs": [
    {
     "data": {
      "text/plain": [
       "shapeName       object\n",
       "shapeISO        object\n",
       "shapeID         object\n",
       "shapeGroup      object\n",
       "shapeType       object\n",
       "geometry      geometry\n",
       "dtype: object"
      ]
     },
     "execution_count": 12,
     "metadata": {},
     "output_type": "execute_result"
    }
   ],
   "source": [
    "admin_bounds_gdf.dtypes"
   ]
  },
  {
   "cell_type": "code",
   "execution_count": 13,
   "id": "a8d13f14",
   "metadata": {},
   "outputs": [],
   "source": [
    "# admin_bounds_gdf.explore()"
   ]
  },
  {
   "cell_type": "code",
   "execution_count": null,
   "id": "4a47b820-39ea-4bdb-b26c-12fb0fe21b11",
   "metadata": {},
   "outputs": [],
   "source": []
  },
  {
   "cell_type": "markdown",
   "id": "07b63c2d-bcbf-4237-9694-4f8345fc4c92",
   "metadata": {
    "id": "07b63c2d-bcbf-4237-9694-4f8345fc4c92"
   },
   "source": [
    "# Generate a sample grid "
   ]
  },
  {
   "cell_type": "code",
   "execution_count": 14,
   "id": "8f4c6e6e-c1c9-4d98-87ea-9a5a85d19c17",
   "metadata": {
    "id": "8f4c6e6e-c1c9-4d98-87ea-9a5a85d19c17"
   },
   "outputs": [],
   "source": [
    "grid_generator5k = grids.SquareGridGenerator(50_000)  # 5 km x 5 km square cells"
   ]
  },
  {
   "cell_type": "code",
   "execution_count": 15,
   "id": "46b336a0-4614-44be-938f-718727f21dd9",
   "metadata": {
    "id": "46b336a0-4614-44be-938f-718727f21dd9",
    "outputId": "2577010b-63c4-439c-9910-80f80cf3a956"
   },
   "outputs": [
    {
     "name": "stdout",
     "output_type": "stream",
     "text": [
      "CPU times: user 14.1 s, sys: 121 ms, total: 14.3 s\n",
      "Wall time: 14.3 s\n"
     ]
    }
   ],
   "source": [
    "%%time\n",
    "# slow\n",
    "grid_gdf = grid_generator5k.generate_grid(admin_bounds_gdf)"
   ]
  },
  {
   "cell_type": "code",
   "execution_count": 16,
   "id": "f79c2361-4595-41be-b4af-66d65070cf57",
   "metadata": {
    "id": "f79c2361-4595-41be-b4af-66d65070cf57",
    "outputId": "2f43ad51-25b6-4eca-d930-0809b3c866ab"
   },
   "outputs": [
    {
     "data": {
      "text/plain": [
       "<AxesSubplot:>"
      ]
     },
     "execution_count": 16,
     "metadata": {},
     "output_type": "execute_result"
    },
    {
     "data": {
      "image/png": "[encoded data removed]",
      "text/plain": [
       "<Figure size 432x288 with 1 Axes>"
      ]
     },
     "metadata": {
      "needs_background": "light"
     },
     "output_type": "display_data"
    }
   ],
   "source": [
    "grid_gdf.plot()"
   ]
  },
  {
   "cell_type": "code",
   "execution_count": 17,
   "id": "7270074a-75ee-4880-9d84-4a87620971aa",
   "metadata": {
    "id": "7270074a-75ee-4880-9d84-4a87620971aa",
    "outputId": "6b8e6b8c-e5ab-45a6-8aec-99cf06214c46"
   },
   "outputs": [
    {
     "data": {
      "image/png": "[encoded data removed]",
      "text/plain": [
       "<Figure size 432x288 with 1 Axes>"
      ]
     },
     "metadata": {
      "needs_background": "light"
     },
     "output_type": "display_data"
    }
   ],
   "source": [
    "ax = admin_bounds_gdf.plot(facecolor=\"grey\", edgecolor=\"grey\", alpha=0.2)\n",
    "ax = grid_gdf.plot(ax=ax, facecolor=\"none\", edgecolor=\"green\")"
   ]
  },
  {
   "cell_type": "code",
   "execution_count": 18,
   "id": "72c61e8b",
   "metadata": {},
   "outputs": [
    {
     "data": {
      "text/html": [
       "<div>\n",
       "<style scoped>\n",
       "    .dataframe tbody tr th:only-of-type {\n",
       "        vertical-align: middle;\n",
       "    }\n",
       "\n",
       "    .dataframe tbody tr th {\n",
       "        vertical-align: top;\n",
       "    }\n",
       "\n",
       "    .dataframe thead th {\n",
       "        text-align: right;\n",
       "    }\n",
       "</style>\n",
       "<table border=\"1\" class=\"dataframe\">\n",
       "  <thead>\n",
       "    <tr style=\"text-align: right;\">\n",
       "      <th></th>\n",
       "      <th>x</th>\n",
       "      <th>y</th>\n",
       "    </tr>\n",
       "  </thead>\n",
       "  <tbody>\n",
       "    <tr>\n",
       "      <th>count</th>\n",
       "      <td>323.000000</td>\n",
       "      <td>323.000000</td>\n",
       "    </tr>\n",
       "    <tr>\n",
       "      <th>mean</th>\n",
       "      <td>11.773994</td>\n",
       "      <td>15.018576</td>\n",
       "    </tr>\n",
       "    <tr>\n",
       "      <th>std</th>\n",
       "      <td>4.861594</td>\n",
       "      <td>8.791210</td>\n",
       "    </tr>\n",
       "    <tr>\n",
       "      <th>min</th>\n",
       "      <td>0.000000</td>\n",
       "      <td>0.000000</td>\n",
       "    </tr>\n",
       "    <tr>\n",
       "      <th>25%</th>\n",
       "      <td>8.000000</td>\n",
       "      <td>8.000000</td>\n",
       "    </tr>\n",
       "    <tr>\n",
       "      <th>50%</th>\n",
       "      <td>11.000000</td>\n",
       "      <td>14.000000</td>\n",
       "    </tr>\n",
       "    <tr>\n",
       "      <th>75%</th>\n",
       "      <td>16.000000</td>\n",
       "      <td>21.000000</td>\n",
       "    </tr>\n",
       "    <tr>\n",
       "      <th>max</th>\n",
       "      <td>21.000000</td>\n",
       "      <td>37.000000</td>\n",
       "    </tr>\n",
       "  </tbody>\n",
       "</table>\n",
       "</div>"
      ],
      "text/plain": [
       "                x           y\n",
       "count  323.000000  323.000000\n",
       "mean    11.773994   15.018576\n",
       "std      4.861594    8.791210\n",
       "min      0.000000    0.000000\n",
       "25%      8.000000    8.000000\n",
       "50%     11.000000   14.000000\n",
       "75%     16.000000   21.000000\n",
       "max     21.000000   37.000000"
      ]
     },
     "execution_count": 18,
     "metadata": {},
     "output_type": "execute_result"
    }
   ],
   "source": [
    "grid_gdf.describe()"
   ]
  },
  {
   "cell_type": "code",
   "execution_count": 19,
   "id": "b8d1fcfd",
   "metadata": {},
   "outputs": [
    {
     "data": {
      "text/html": [
       "<div>\n",
       "<style scoped>\n",
       "    .dataframe tbody tr th:only-of-type {\n",
       "        vertical-align: middle;\n",
       "    }\n",
       "\n",
       "    .dataframe tbody tr th {\n",
       "        vertical-align: top;\n",
       "    }\n",
       "\n",
       "    .dataframe thead th {\n",
       "        text-align: right;\n",
       "    }\n",
       "</style>\n",
       "<table border=\"1\" class=\"dataframe\">\n",
       "  <thead>\n",
       "    <tr style=\"text-align: right;\">\n",
       "      <th></th>\n",
       "      <th>x</th>\n",
       "      <th>y</th>\n",
       "      <th>geometry</th>\n",
       "    </tr>\n",
       "  </thead>\n",
       "  <tbody>\n",
       "    <tr>\n",
       "      <th>0</th>\n",
       "      <td>5</td>\n",
       "      <td>0</td>\n",
       "      <td>POLYGON ((119.17413 4.58694, 119.62328 4.58694...</td>\n",
       "    </tr>\n",
       "    <tr>\n",
       "      <th>1</th>\n",
       "      <td>6</td>\n",
       "      <td>0</td>\n",
       "      <td>POLYGON ((119.62328 4.58694, 120.07244 4.58694...</td>\n",
       "    </tr>\n",
       "    <tr>\n",
       "      <th>2</th>\n",
       "      <td>7</td>\n",
       "      <td>0</td>\n",
       "      <td>POLYGON ((120.07244 4.58694, 120.52160 4.58694...</td>\n",
       "    </tr>\n",
       "  </tbody>\n",
       "</table>\n",
       "</div>"
      ],
      "text/plain": [
       "   x  y                                           geometry\n",
       "0  5  0  POLYGON ((119.17413 4.58694, 119.62328 4.58694...\n",
       "1  6  0  POLYGON ((119.62328 4.58694, 120.07244 4.58694...\n",
       "2  7  0  POLYGON ((120.07244 4.58694, 120.52160 4.58694..."
      ]
     },
     "execution_count": 19,
     "metadata": {},
     "output_type": "execute_result"
    }
   ],
   "source": [
    "grid_gdf.head(3)"
   ]
  },
  {
   "cell_type": "code",
   "execution_count": 20,
   "id": "77b4cd3b",
   "metadata": {},
   "outputs": [
    {
     "data": {
      "text/plain": [
       "x              int64\n",
       "y              int64\n",
       "geometry    geometry\n",
       "dtype: object"
      ]
     },
     "execution_count": 20,
     "metadata": {},
     "output_type": "execute_result"
    }
   ],
   "source": [
    "grid_gdf.dtypes"
   ]
  },
  {
   "cell_type": "markdown",
   "id": "66698465",
   "metadata": {},
   "source": [
    "# Spatial join with highest intersection"
   ]
  },
  {
   "cell_type": "code",
   "execution_count": 26,
   "id": "bb8d3b14-3ccf-48e2-aa39-8afc2218932c",
   "metadata": {
    "id": "bb8d3b14-3ccf-48e2-aa39-8afc2218932c"
   },
   "outputs": [],
   "source": [
    "# export\n",
    "def get_highest_intersection(\n",
    "    gdf1: gpd.GeoDataFrame,  # gdf1 will be the basis of output geometry\n",
    "    gdf2: gpd.GeoDataFrame,  # gdf2 data will all be included during intersection\n",
    "    proj_crs: str,  # metric CRS (e.g., Philippines uses EPSG:32651)\n",
    ") -> gpd.GeoDataFrame:\n",
    "    \"\"\"Gets the intersection based on the largest area joined\"\"\"\n",
    "\n",
    "    gdf1 = gdf1.copy()\n",
    "    gdf2 = gdf2.copy()\n",
    "\n",
    "    # renaming columns with __ prefixes and suffixes so they're less likely to be already used\n",
    "    uid_col = \"__uid__\"\n",
    "    area_col = \"__area_highest_intersection__\"\n",
    "    auxiliary_cols = [uid_col, area_col]\n",
    "\n",
    "    # checks to make sure we're not overwriting existing oclumns\n",
    "    for col in auxiliary_cols:\n",
    "        if col in gdf1.columns:\n",
    "            raise ValueError(f\"Make sure {col} isn't already a column in gdf1\")\n",
    "        if col in gdf2.columns:\n",
    "            raise ValueError(f\"Make sure {col} isn't already a column in gdf2\")\n",
    "\n",
    "    # assign uid to gdf1\n",
    "    gdf1[uid_col] = range(len(gdf1))  # assign uid based on row number of first gdf\n",
    "\n",
    "    # get intersection of the gdfs\n",
    "    overlay = gdf1.overlay(gdf2, how=\"intersection\")\n",
    "\n",
    "    # add relevant columns\n",
    "    overlay[\"geometry\"] = overlay[\"geometry\"].to_crs(\n",
    "        proj_crs\n",
    "    )  # geometry produced will be based on gdf1\n",
    "    overlay[\n",
    "        area_col\n",
    "    ] = (\n",
    "        overlay.geometry.area\n",
    "    )  # shows area of overlap, not the area of the polygon in gdf1\n",
    "\n",
    "    # sorting of values, dropping duplicates and null values\n",
    "    overlay = overlay.sort_values(by=area_col, ascending=True)\n",
    "    overlay = overlay.drop_duplicates(subset=[uid_col], keep=\"last\")\n",
    "    overlay = overlay.dropna(\n",
    "        subset=[uid_col]\n",
    "    )  # drops rows with value in gdf2 but has no info in gdf1\n",
    "    assert not overlay[uid_col].duplicated().any()\n",
    "    overlay = overlay.sort_values(by=[uid_col], ascending=True)\n",
    "\n",
    "    # drop geometry from overlay gdf\n",
    "    overlay_merge = overlay.drop(\n",
    "        \"geometry\", axis=1\n",
    "    )  # two geometries will be produced, drop overlay geometry\n",
    "\n",
    "    output = pd.merge(\n",
    "        left=gdf1[[uid_col, \"geometry\"]],\n",
    "        right=overlay_merge,\n",
    "        on=uid_col,\n",
    "        how=\"left\",\n",
    "        validate=\"one_to_one\",\n",
    "    )\n",
    "\n",
    "    output = output.drop(columns=auxiliary_cols)\n",
    "\n",
    "    return output"
   ]
  },
  {
   "cell_type": "code",
   "execution_count": 22,
   "id": "7fbcf86e-f18c-4f63-8ca1-a576d359f5c0",
   "metadata": {
    "id": "7fbcf86e-f18c-4f63-8ca1-a576d359f5c0"
   },
   "outputs": [
    {
     "data": {
      "text/html": [
       "<div>\n",
       "<style scoped>\n",
       "    .dataframe tbody tr th:only-of-type {\n",
       "        vertical-align: middle;\n",
       "    }\n",
       "\n",
       "    .dataframe tbody tr th {\n",
       "        vertical-align: top;\n",
       "    }\n",
       "\n",
       "    .dataframe thead th {\n",
       "        text-align: right;\n",
       "    }\n",
       "</style>\n",
       "<table border=\"1\" class=\"dataframe\">\n",
       "  <thead>\n",
       "    <tr style=\"text-align: right;\">\n",
       "      <th></th>\n",
       "      <th>geometry</th>\n",
       "      <th>x</th>\n",
       "      <th>y</th>\n",
       "      <th>shapeName</th>\n",
       "      <th>shapeISO</th>\n",
       "      <th>shapeID</th>\n",
       "      <th>shapeGroup</th>\n",
       "      <th>shapeType</th>\n",
       "    </tr>\n",
       "  </thead>\n",
       "  <tbody>\n",
       "    <tr>\n",
       "      <th>0</th>\n",
       "      <td>POLYGON ((119.17413 4.58694, 119.62328 4.58694...</td>\n",
       "      <td>5</td>\n",
       "      <td>0</td>\n",
       "      <td>Tawi-Tawi</td>\n",
       "      <td>None</td>\n",
       "      <td>PHL-ADM2-3_0_0-B77</td>\n",
       "      <td>PHL</td>\n",
       "      <td>ADM2</td>\n",
       "    </tr>\n",
       "    <tr>\n",
       "      <th>1</th>\n",
       "      <td>POLYGON ((119.62328 4.58694, 120.07244 4.58694...</td>\n",
       "      <td>6</td>\n",
       "      <td>0</td>\n",
       "      <td>Tawi-Tawi</td>\n",
       "      <td>None</td>\n",
       "      <td>PHL-ADM2-3_0_0-B77</td>\n",
       "      <td>PHL</td>\n",
       "      <td>ADM2</td>\n",
       "    </tr>\n",
       "    <tr>\n",
       "      <th>2</th>\n",
       "      <td>POLYGON ((120.07244 4.58694, 120.52160 4.58694...</td>\n",
       "      <td>7</td>\n",
       "      <td>0</td>\n",
       "      <td>Tawi-Tawi</td>\n",
       "      <td>None</td>\n",
       "      <td>PHL-ADM2-3_0_0-B77</td>\n",
       "      <td>PHL</td>\n",
       "      <td>ADM2</td>\n",
       "    </tr>\n",
       "    <tr>\n",
       "      <th>3</th>\n",
       "      <td>POLYGON ((120.07244 5.03451, 120.52160 5.03451...</td>\n",
       "      <td>7</td>\n",
       "      <td>1</td>\n",
       "      <td>Tawi-Tawi</td>\n",
       "      <td>None</td>\n",
       "      <td>PHL-ADM2-3_0_0-B77</td>\n",
       "      <td>PHL</td>\n",
       "      <td>ADM2</td>\n",
       "    </tr>\n",
       "    <tr>\n",
       "      <th>4</th>\n",
       "      <td>POLYGON ((119.62328 5.03451, 120.07244 5.03451...</td>\n",
       "      <td>6</td>\n",
       "      <td>1</td>\n",
       "      <td>Tawi-Tawi</td>\n",
       "      <td>None</td>\n",
       "      <td>PHL-ADM2-3_0_0-B77</td>\n",
       "      <td>PHL</td>\n",
       "      <td>ADM2</td>\n",
       "    </tr>\n",
       "    <tr>\n",
       "      <th>...</th>\n",
       "      <td>...</td>\n",
       "      <td>...</td>\n",
       "      <td>...</td>\n",
       "      <td>...</td>\n",
       "      <td>...</td>\n",
       "      <td>...</td>\n",
       "      <td>...</td>\n",
       "      <td>...</td>\n",
       "    </tr>\n",
       "    <tr>\n",
       "      <th>318</th>\n",
       "      <td>POLYGON ((121.41991 19.89978, 121.86907 19.899...</td>\n",
       "      <td>10</td>\n",
       "      <td>35</td>\n",
       "      <td>Batanes</td>\n",
       "      <td>None</td>\n",
       "      <td>PHL-ADM2-3_0_0-B11</td>\n",
       "      <td>PHL</td>\n",
       "      <td>ADM2</td>\n",
       "    </tr>\n",
       "    <tr>\n",
       "      <th>319</th>\n",
       "      <td>POLYGON ((121.41991 20.74217, 121.86907 20.742...</td>\n",
       "      <td>10</td>\n",
       "      <td>37</td>\n",
       "      <td>Batanes</td>\n",
       "      <td>None</td>\n",
       "      <td>PHL-ADM2-3_0_0-B11</td>\n",
       "      <td>PHL</td>\n",
       "      <td>ADM2</td>\n",
       "    </tr>\n",
       "    <tr>\n",
       "      <th>320</th>\n",
       "      <td>POLYGON ((121.86907 20.74217, 122.31823 20.742...</td>\n",
       "      <td>11</td>\n",
       "      <td>37</td>\n",
       "      <td>Batanes</td>\n",
       "      <td>None</td>\n",
       "      <td>PHL-ADM2-3_0_0-B11</td>\n",
       "      <td>PHL</td>\n",
       "      <td>ADM2</td>\n",
       "    </tr>\n",
       "    <tr>\n",
       "      <th>321</th>\n",
       "      <td>POLYGON ((121.41991 18.62778, 121.86907 18.627...</td>\n",
       "      <td>10</td>\n",
       "      <td>32</td>\n",
       "      <td>Cagayan</td>\n",
       "      <td>None</td>\n",
       "      <td>PHL-ADM2-3_0_0-B18</td>\n",
       "      <td>PHL</td>\n",
       "      <td>ADM2</td>\n",
       "    </tr>\n",
       "    <tr>\n",
       "      <th>322</th>\n",
       "      <td>POLYGON ((121.86907 18.62778, 122.31823 18.627...</td>\n",
       "      <td>11</td>\n",
       "      <td>32</td>\n",
       "      <td>Cagayan</td>\n",
       "      <td>None</td>\n",
       "      <td>PHL-ADM2-3_0_0-B18</td>\n",
       "      <td>PHL</td>\n",
       "      <td>ADM2</td>\n",
       "    </tr>\n",
       "  </tbody>\n",
       "</table>\n",
       "<p>323 rows × 8 columns</p>\n",
       "</div>"
      ],
      "text/plain": [
       "                                              geometry   x   y  shapeName  \\\n",
       "0    POLYGON ((119.17413 4.58694, 119.62328 4.58694...   5   0  Tawi-Tawi   \n",
       "1    POLYGON ((119.62328 4.58694, 120.07244 4.58694...   6   0  Tawi-Tawi   \n",
       "2    POLYGON ((120.07244 4.58694, 120.52160 4.58694...   7   0  Tawi-Tawi   \n",
       "3    POLYGON ((120.07244 5.03451, 120.52160 5.03451...   7   1  Tawi-Tawi   \n",
       "4    POLYGON ((119.62328 5.03451, 120.07244 5.03451...   6   1  Tawi-Tawi   \n",
       "..                                                 ...  ..  ..        ...   \n",
       "318  POLYGON ((121.41991 19.89978, 121.86907 19.899...  10  35    Batanes   \n",
       "319  POLYGON ((121.41991 20.74217, 121.86907 20.742...  10  37    Batanes   \n",
       "320  POLYGON ((121.86907 20.74217, 122.31823 20.742...  11  37    Batanes   \n",
       "321  POLYGON ((121.41991 18.62778, 121.86907 18.627...  10  32    Cagayan   \n",
       "322  POLYGON ((121.86907 18.62778, 122.31823 18.627...  11  32    Cagayan   \n",
       "\n",
       "    shapeISO             shapeID shapeGroup shapeType  \n",
       "0       None  PHL-ADM2-3_0_0-B77        PHL      ADM2  \n",
       "1       None  PHL-ADM2-3_0_0-B77        PHL      ADM2  \n",
       "2       None  PHL-ADM2-3_0_0-B77        PHL      ADM2  \n",
       "3       None  PHL-ADM2-3_0_0-B77        PHL      ADM2  \n",
       "4       None  PHL-ADM2-3_0_0-B77        PHL      ADM2  \n",
       "..       ...                 ...        ...       ...  \n",
       "318     None  PHL-ADM2-3_0_0-B11        PHL      ADM2  \n",
       "319     None  PHL-ADM2-3_0_0-B11        PHL      ADM2  \n",
       "320     None  PHL-ADM2-3_0_0-B11        PHL      ADM2  \n",
       "321     None  PHL-ADM2-3_0_0-B18        PHL      ADM2  \n",
       "322     None  PHL-ADM2-3_0_0-B18        PHL      ADM2  \n",
       "\n",
       "[323 rows x 8 columns]"
      ]
     },
     "execution_count": 22,
     "metadata": {},
     "output_type": "execute_result"
    }
   ],
   "source": [
    "get_highest_intersection(grid_gdf, admin_bounds_gdf, \"EPSG:32651\")"
   ]
  },
  {
   "cell_type": "markdown",
   "id": "4280dff0",
   "metadata": {},
   "source": [
    "# Check plot of output"
   ]
  },
  {
   "cell_type": "code",
   "execution_count": 23,
   "id": "46be6380",
   "metadata": {},
   "outputs": [],
   "source": [
    "output = get_highest_intersection(grid_gdf, admin_bounds_gdf, \"EPSG:32651\")"
   ]
  },
  {
   "cell_type": "code",
   "execution_count": 24,
   "id": "187a34ea-edc3-4d8d-af5f-0d414c415a8b",
   "metadata": {},
   "outputs": [
    {
     "data": {
      "text/plain": [
       "<AxesSubplot:>"
      ]
     },
     "execution_count": 24,
     "metadata": {},
     "output_type": "execute_result"
    },
    {
     "data": {
      "image/png": "[encoded data removed]",
      "text/plain": [
       "<Figure size 432x288 with 1 Axes>"
      ]
     },
     "metadata": {
      "needs_background": "light"
     },
     "output_type": "display_data"
    }
   ],
   "source": [
    "output.plot()"
   ]
  },
  {
   "cell_type": "code",
   "execution_count": 25,
   "id": "2fac85a9",
   "metadata": {},
   "outputs": [],
   "source": [
    "# output.explore()"
   ]
  },
  {
   "cell_type": "code",
   "execution_count": null,
   "id": "605d48d3",
   "metadata": {},
   "outputs": [],
   "source": []
  }
 ],
 "metadata": {
  "colab": {
   "provenance": []
  },
  "kernelspec": {
   "display_name": "Python 3",
   "language": "python",
   "name": "python3"
  },
  "language_info": {
   "codemirror_mode": {
    "name": "ipython",
    "version": 3
   },
   "file_extension": ".py",
   "mimetype": "text/x-python",
   "name": "python",
   "nbconvert_exporter": "python",
   "pygments_lexer": "ipython3",
   "version": "3.9.13"
  },
  "vscode": {
   "interpreter": {
    "hash": "aa7e93d849d5b55b6fa9dc550c9f704bca0baa053bb29388d135e47b4b31ec2e"
   }
  }
 },
 "nbformat": 4,
 "nbformat_minor": 5
}
