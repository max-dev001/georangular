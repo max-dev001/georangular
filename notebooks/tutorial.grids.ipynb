{
 "cells": [
  {
   "cell_type": "code",
   "execution_count": 1,
   "id": "1b793fa9-69d9-4f8a-8cc3-a3154e84f111",
   "metadata": {},
   "outputs": [],
   "source": [
    "# hide\n",
    "# all_slow"
   ]
  },
  {
   "cell_type": "code",
   "execution_count": 2,
   "id": "699f9813-1436-4348-b044-7163e6c65eda",
   "metadata": {},
   "outputs": [],
   "source": [
    "# hide\n",
    "# no_test\n",
    "! [ -e /content ] && pip install -Uqq git+https://github.com/thinkingmachines/geowrangler.git"
   ]
  },
  {
   "cell_type": "code",
   "execution_count": 3,
   "id": "a7b76044-95d4-4570-b145-bacefc2bfc8d",
   "metadata": {},
   "outputs": [],
   "source": [
    "# hide\n",
    "# no_test\n",
    "!mkdir -p ../data\n",
    "![ -e /content ] && ln -s ../data ."
   ]
  },
  {
   "cell_type": "code",
   "execution_count": 4,
   "id": "a2b36dee-d74a-4771-bb63-124a2686fd82",
   "metadata": {},
   "outputs": [],
   "source": [
    "# hide\n",
    "# no_test\n",
    "%reload_ext autoreload\n",
    "%autoreload 2\n",
    "%matplotlib inline"
   ]
  },
  {
   "cell_type": "markdown",
   "id": "c0e4066d-500d-4f0a-91a8-88751f794901",
   "metadata": {},
   "source": [
    "# Grid Generation Tutorial"
   ]
  },
  {
   "cell_type": "markdown",
   "id": "ba84cf1a-008c-46d8-9963-11c0daee86c0",
   "metadata": {},
   "source": [
    "> A basic introduction to Geospatial Grids"
   ]
  },
  {
   "cell_type": "markdown",
   "id": "309956b8-3ec5-4223-bca5-bcb70d0e887a",
   "metadata": {
    "tags": []
   },
   "source": [
    "## Basic Usage\n",
    "Creating a grid from a geojson file"
   ]
  },
  {
   "cell_type": "code",
   "execution_count": 5,
   "id": "1b61d155-e4f5-4b92-b14f-fe2813fa8471",
   "metadata": {},
   "outputs": [],
   "source": [
    "# hide\n",
    "import warnings\n",
    "\n",
    "from IPython.display import display\n",
    "\n",
    "warnings.filterwarnings(\"ignore\")"
   ]
  },
  {
   "cell_type": "markdown",
   "id": "4e099cdb-f4e7-4ca6-9c46-eadf0ce50c05",
   "metadata": {},
   "source": [
    "### Import `geopandas` and the `geowrangler.grids` module"
   ]
  },
  {
   "cell_type": "code",
   "execution_count": 6,
   "id": "f38a007c-081b-4ee4-aecc-9b116904b95e",
   "metadata": {},
   "outputs": [],
   "source": [
    "import geopandas as gpd\n",
    "import pandas as pd\n",
    "\n",
    "from geowrangler import grids"
   ]
  },
  {
   "cell_type": "code",
   "execution_count": 7,
   "id": "a30cfacc-bdb2-49d9-88e5-be4c03464a54",
   "metadata": {},
   "outputs": [],
   "source": [
    "# hide\n",
    "# no_test\n",
    "!mkdir -p ../data\n",
    "# download sample geojson file from repo\n",
    "![ ! -e ../data/region3_admin.geojson ] && curl -s -o ../data/region3_admin.geojson https://raw.githubusercontent.com/thinkingmachines/geowrangler/master/data/region3_admin.geojson"
   ]
  },
  {
   "cell_type": "markdown",
   "id": "52246bff-3cc5-4fb9-9a97-5abbc280fb6c",
   "metadata": {},
   "source": [
    "### Load a sample geojson file into pandas \n",
    "\n",
    "\n",
    "In our case, we are loading the Region 3 (Central Luzon Administrative Region) of the Philippines."
   ]
  },
  {
   "cell_type": "code",
   "execution_count": 8,
   "id": "83809aa8-069f-49fc-95ae-da95166ce2b3",
   "metadata": {},
   "outputs": [],
   "source": [
    "region3_gdf = gpd.read_file(\"../data/region3_admin.geojson\")"
   ]
  },
  {
   "cell_type": "markdown",
   "id": "e7e42781-7e32-489d-ac6a-04eb6b818cfe",
   "metadata": {},
   "source": [
    "This geopandas dataframe has the size: "
   ]
  },
  {
   "cell_type": "code",
   "execution_count": 9,
   "id": "465c0d62-317e-4ce5-b5ab-6ca5db92c587",
   "metadata": {},
   "outputs": [
    {
     "name": "stdout",
     "output_type": "stream",
     "text": [
      "length of region3_gdf: 1 row(s)\n"
     ]
    }
   ],
   "source": [
    "# hide_input\n",
    "print(f\"length of region3_gdf: {len(region3_gdf)} row(s)\")"
   ]
  },
  {
   "cell_type": "code",
   "execution_count": 10,
   "id": "616984c8-32fa-4de6-b6d5-af71bc805b5c",
   "metadata": {},
   "outputs": [
    {
     "data": {
      "text/html": [
       "<div>\n",
       "<style scoped>\n",
       "    .dataframe tbody tr th:only-of-type {\n",
       "        vertical-align: middle;\n",
       "    }\n",
       "\n",
       "    .dataframe tbody tr th {\n",
       "        vertical-align: top;\n",
       "    }\n",
       "\n",
       "    .dataframe thead th {\n",
       "        text-align: right;\n",
       "    }\n",
       "</style>\n",
       "<table border=\"1\" class=\"dataframe\">\n",
       "  <thead>\n",
       "    <tr style=\"text-align: right;\">\n",
       "      <th></th>\n",
       "      <th>Reg_Code</th>\n",
       "      <th>Reg_Name</th>\n",
       "      <th>Reg_Alt_Name</th>\n",
       "      <th>geometry</th>\n",
       "    </tr>\n",
       "  </thead>\n",
       "  <tbody>\n",
       "    <tr>\n",
       "      <th>0</th>\n",
       "      <td>030000000</td>\n",
       "      <td>Region III</td>\n",
       "      <td>Central Luzon</td>\n",
       "      <td>MULTIPOLYGON (((120.11687 14.76309, 120.11684 ...</td>\n",
       "    </tr>\n",
       "  </tbody>\n",
       "</table>\n",
       "</div>"
      ],
      "text/plain": [
       "    Reg_Code    Reg_Name   Reg_Alt_Name  \\\n",
       "0  030000000  Region III  Central Luzon   \n",
       "\n",
       "                                            geometry  \n",
       "0  MULTIPOLYGON (((120.11687 14.76309, 120.11684 ...  "
      ]
     },
     "metadata": {},
     "output_type": "display_data"
    }
   ],
   "source": [
    "display(region3_gdf)"
   ]
  },
  {
   "cell_type": "markdown",
   "id": "eb7f1dd2-4e69-4bd0-b4fc-14301e9ac987",
   "metadata": {},
   "source": [
    "Show the original plot"
   ]
  },
  {
   "cell_type": "code",
   "execution_count": 11,
   "id": "99047ed6-1a26-496e-8e29-58010d9de1f0",
   "metadata": {},
   "outputs": [
    {
     "data": {
      "image/png": "[encoded data removed]",
      "text/plain": [
       "<Figure size 432x288 with 1 Axes>"
      ]
     },
     "metadata": {
      "needs_background": "light"
     },
     "output_type": "display_data"
    }
   ],
   "source": [
    "import matplotlib.pyplot as plt\n",
    "\n",
    "ax = region3_gdf.plot(ax=plt.axes())"
   ]
  },
  {
   "cell_type": "code",
   "execution_count": 12,
   "id": "e4e44e60-a053-444a-8819-2bb6455df5f0",
   "metadata": {},
   "outputs": [
    {
     "data": {
      "text/plain": [
       "<Geographic 2D CRS: EPSG:4326>\n",
       "Name: WGS 84\n",
       "Axis Info [ellipsoidal]:\n",
       "- Lat[north]: Geodetic latitude (degree)\n",
       "- Lon[east]: Geodetic longitude (degree)\n",
       "Area of Use:\n",
       "- name: World.\n",
       "- bounds: (-180.0, -90.0, 180.0, 90.0)\n",
       "Datum: World Geodetic System 1984 ensemble\n",
       "- Ellipsoid: WGS 84\n",
       "- Prime Meridian: Greenwich"
      ]
     },
     "execution_count": 12,
     "metadata": {},
     "output_type": "execute_result"
    }
   ],
   "source": [
    "region3_gdf.crs  # CRS info"
   ]
  },
  {
   "cell_type": "code",
   "execution_count": 13,
   "id": "31f0e667-fb1f-48bf-ab71-606bd0c6d689",
   "metadata": {},
   "outputs": [
    {
     "data": {
      "text/plain": [
       "array([119.7858332,  14.4075257, 122.2429921,  16.5092548])"
      ]
     },
     "execution_count": 13,
     "metadata": {},
     "output_type": "execute_result"
    }
   ],
   "source": [
    "aoi_total_bounds = region3_gdf.total_bounds\n",
    "aoi_total_bounds"
   ]
  },
  {
   "cell_type": "markdown",
   "id": "8a238d37-aede-4786-96ae-1de7c7756085",
   "metadata": {
    "tags": []
   },
   "source": [
    "## Square Grid Generator\n",
    "### Creating Grids\n",
    "\n",
    "Create a grid generator with a size of `5,000` m. \n",
    "The units of the grid size are dependent on the projection parameter  \n",
    "of the grid generator. In this case, the [default is  `EPSG:3857`](https://epsg.io/3857)."
   ]
  },
  {
   "cell_type": "code",
   "execution_count": 14,
   "id": "127cf1e6-75b6-43a0-b853-2da7f0e1537f",
   "metadata": {},
   "outputs": [
    {
     "data": {
      "text/plain": [
       "\u001b[0;31mInit signature:\u001b[0m\n",
       "\u001b[0mgrids\u001b[0m\u001b[0;34m.\u001b[0m\u001b[0mSquareGridGenerator\u001b[0m\u001b[0;34m(\u001b[0m\u001b[0;34m\u001b[0m\n",
       "\u001b[0;34m\u001b[0m    \u001b[0mcell_size\u001b[0m\u001b[0;34m:\u001b[0m \u001b[0mfloat\u001b[0m\u001b[0;34m,\u001b[0m\u001b[0;34m\u001b[0m\n",
       "\u001b[0;34m\u001b[0m    \u001b[0mgrid_projection\u001b[0m\u001b[0;34m:\u001b[0m \u001b[0mstr\u001b[0m \u001b[0;34m=\u001b[0m \u001b[0;34m'EPSG:3857'\u001b[0m\u001b[0;34m,\u001b[0m\u001b[0;34m\u001b[0m\n",
       "\u001b[0;34m\u001b[0m    \u001b[0mboundary\u001b[0m\u001b[0;34m:\u001b[0m \u001b[0mUnion\u001b[0m\u001b[0;34m[\u001b[0m\u001b[0mgeowrangler\u001b[0m\u001b[0;34m.\u001b[0m\u001b[0mgrids\u001b[0m\u001b[0;34m.\u001b[0m\u001b[0mSquareGridBoundary\u001b[0m\u001b[0;34m,\u001b[0m \u001b[0mList\u001b[0m\u001b[0;34m[\u001b[0m\u001b[0mfloat\u001b[0m\u001b[0;34m]\u001b[0m\u001b[0;34m]\u001b[0m \u001b[0;34m=\u001b[0m \u001b[0;32mNone\u001b[0m\u001b[0;34m,\u001b[0m\u001b[0;34m\u001b[0m\n",
       "\u001b[0;34m\u001b[0m\u001b[0;34m)\u001b[0m\u001b[0;34m\u001b[0m\u001b[0;34m\u001b[0m\u001b[0m\n",
       "\u001b[0;31mDocstring:\u001b[0m      <no docstring>\n",
       "\u001b[0;31mFile:\u001b[0m           ~/repos/geowrangler/geowrangler/grids.py\n",
       "\u001b[0;31mType:\u001b[0m           type\n",
       "\u001b[0;31mSubclasses:\u001b[0m     \n"
      ]
     },
     "metadata": {},
     "output_type": "display_data"
    }
   ],
   "source": [
    "grids.SquareGridGenerator?"
   ]
  },
  {
   "cell_type": "code",
   "execution_count": 15,
   "id": "c173e958-a657-4848-991e-17e035894b32",
   "metadata": {
    "tags": []
   },
   "outputs": [],
   "source": [
    "grid_generator5k = grids.SquareGridGenerator(5_000)  # 5 km x 5 km square cells"
   ]
  },
  {
   "cell_type": "markdown",
   "id": "5793c60a-59a5-4013-9fc5-eff11c8639fc",
   "metadata": {},
   "source": [
    "Generate square grids\n",
    "> Notice the time taken to grid the multi polygon at 5K resolution\n"
   ]
  },
  {
   "cell_type": "code",
   "execution_count": 16,
   "id": "2f193001-319f-446d-b1fc-fa436117bf27",
   "metadata": {},
   "outputs": [
    {
     "name": "stdout",
     "output_type": "stream",
     "text": [
      "CPU times: user 733 ms, sys: 8.07 ms, total: 741 ms\n",
      "Wall time: 741 ms\n"
     ]
    }
   ],
   "source": [
    "%%time\n",
    "# slow\n",
    "grid_gdf5k = grid_generator5k.generate_grid(region3_gdf)"
   ]
  },
  {
   "cell_type": "code",
   "execution_count": 17,
   "id": "0ab950fa-1cf5-4813-8fbe-c15fd2149c80",
   "metadata": {},
   "outputs": [
    {
     "data": {
      "text/plain": [
       "<AxesSubplot:>"
      ]
     },
     "execution_count": 17,
     "metadata": {},
     "output_type": "execute_result"
    },
    {
     "data": {
      "image/png": "[encoded data removed]",
      "text/plain": [
       "<Figure size 432x288 with 1 Axes>"
      ]
     },
     "metadata": {
      "needs_background": "light"
     },
     "output_type": "display_data"
    }
   ],
   "source": [
    "grid_gdf5k.plot()"
   ]
  },
  {
   "cell_type": "markdown",
   "id": "6ff5018d-4ed8-451b-965b-5ffad626256a",
   "metadata": {},
   "source": [
    "Show gridded version of sample geojson file at 5K resolution "
   ]
  },
  {
   "cell_type": "code",
   "execution_count": 18,
   "id": "6856c206-da79-45bf-956b-6d660ce2545e",
   "metadata": {},
   "outputs": [
    {
     "name": "stdout",
     "output_type": "stream",
     "text": [
      "length of grid_gdf5k: 1070 row(s)\n"
     ]
    }
   ],
   "source": [
    "# hide_input\n",
    "# no_test\n",
    "print(f\"length of grid_gdf5k: {len(grid_gdf5k)} row(s)\")"
   ]
  },
  {
   "cell_type": "code",
   "execution_count": 19,
   "id": "361728f9-e1c6-41d1-978c-383d0b6d4fb6",
   "metadata": {},
   "outputs": [],
   "source": [
    "# hide\n",
    "# slow\n",
    "# assert len(grid_gdf5k) == 1074"
   ]
  },
  {
   "cell_type": "code",
   "execution_count": 20,
   "id": "2ccb76b9-c26c-483e-95a9-7e65c206965e",
   "metadata": {},
   "outputs": [
    {
     "data": {
      "image/png": "[encoded data removed]",
      "text/plain": [
       "<Figure size 432x288 with 1 Axes>"
      ]
     },
     "metadata": {
      "needs_background": "light"
     },
     "output_type": "display_data"
    }
   ],
   "source": [
    "# slow\n",
    "ax = region3_gdf.plot(facecolor=\"none\", edgecolor=\"blue\")\n",
    "ax = grid_gdf5k.plot(ax=ax, facecolor=\"none\", edgecolor=\"green\")"
   ]
  },
  {
   "cell_type": "markdown",
   "id": "fd38d9b4-f37f-48dc-9b87-3f4f1df12e32",
   "metadata": {},
   "source": [
    "In addition to the grid cells, there are 2 extra columns `x` and `y` when combined are unique per grid. It can also tell us which grids are adjacent to each other. "
   ]
  },
  {
   "cell_type": "code",
   "execution_count": 21,
   "id": "dd907f45-32ed-4810-97f9-2eaacf869119",
   "metadata": {},
   "outputs": [
    {
     "data": {
      "text/html": [
       "<div>\n",
       "<style scoped>\n",
       "    .dataframe tbody tr th:only-of-type {\n",
       "        vertical-align: middle;\n",
       "    }\n",
       "\n",
       "    .dataframe tbody tr th {\n",
       "        vertical-align: top;\n",
       "    }\n",
       "\n",
       "    .dataframe thead th {\n",
       "        text-align: right;\n",
       "    }\n",
       "</style>\n",
       "<table border=\"1\" class=\"dataframe\">\n",
       "  <thead>\n",
       "    <tr style=\"text-align: right;\">\n",
       "      <th></th>\n",
       "      <th>x</th>\n",
       "      <th>y</th>\n",
       "      <th>geometry</th>\n",
       "    </tr>\n",
       "  </thead>\n",
       "  <tbody>\n",
       "    <tr>\n",
       "      <th>0</th>\n",
       "      <td>0</td>\n",
       "      <td>32</td>\n",
       "      <td>POLYGON ((119.78583 15.79516, 119.83075 15.795...</td>\n",
       "    </tr>\n",
       "    <tr>\n",
       "      <th>1</th>\n",
       "      <td>2</td>\n",
       "      <td>22</td>\n",
       "      <td>POLYGON ((119.87566 15.36250, 119.92058 15.362...</td>\n",
       "    </tr>\n",
       "    <tr>\n",
       "      <th>2</th>\n",
       "      <td>2</td>\n",
       "      <td>23</td>\n",
       "      <td>POLYGON ((119.87566 15.40581, 119.92058 15.405...</td>\n",
       "    </tr>\n",
       "    <tr>\n",
       "      <th>3</th>\n",
       "      <td>2</td>\n",
       "      <td>24</td>\n",
       "      <td>POLYGON ((119.87566 15.44910, 119.92058 15.449...</td>\n",
       "    </tr>\n",
       "    <tr>\n",
       "      <th>4</th>\n",
       "      <td>2</td>\n",
       "      <td>25</td>\n",
       "      <td>POLYGON ((119.87566 15.49239, 119.92058 15.492...</td>\n",
       "    </tr>\n",
       "  </tbody>\n",
       "</table>\n",
       "</div>"
      ],
      "text/plain": [
       "   x   y                                           geometry\n",
       "0  0  32  POLYGON ((119.78583 15.79516, 119.83075 15.795...\n",
       "1  2  22  POLYGON ((119.87566 15.36250, 119.92058 15.362...\n",
       "2  2  23  POLYGON ((119.87566 15.40581, 119.92058 15.405...\n",
       "3  2  24  POLYGON ((119.87566 15.44910, 119.92058 15.449...\n",
       "4  2  25  POLYGON ((119.87566 15.49239, 119.92058 15.492..."
      ]
     },
     "execution_count": 21,
     "metadata": {},
     "output_type": "execute_result"
    }
   ],
   "source": [
    "# slow\n",
    "grid_gdf5k.head()"
   ]
  },
  {
   "cell_type": "code",
   "execution_count": 22,
   "id": "0b2dd0ae-db26-4b92-b7bd-255b8511d547",
   "metadata": {},
   "outputs": [
    {
     "data": {
      "image/png": "[encoded data removed]",
      "text/plain": [
       "<Figure size 432x288 with 1 Axes>"
      ]
     },
     "metadata": {
      "needs_background": "light"
     },
     "output_type": "display_data"
    }
   ],
   "source": [
    "# slow\n",
    "ax = region3_gdf.plot(facecolor=\"none\", edgecolor=\"blue\")\n",
    "ax = grid_gdf5k[grid_gdf5k[\"x\"] == 10].plot(ax=ax, facecolor=\"none\", edgecolor=\"green\")"
   ]
  },
  {
   "cell_type": "markdown",
   "id": "c789ea17-c6ba-4c3b-8c98-53d3637f2229",
   "metadata": {
    "tags": []
   },
   "source": [
    "### Gridding at a coarser resolution\n",
    "Let's try the same process but with a bigger grid (15K)"
   ]
  },
  {
   "cell_type": "code",
   "execution_count": 23,
   "id": "160ad35f-c110-4162-b5c1-da35bf0892ea",
   "metadata": {
    "tags": []
   },
   "outputs": [],
   "source": [
    "grid_generator15k = grids.SquareGridGenerator(15_000)  # 15 km x 15 km grids"
   ]
  },
  {
   "cell_type": "markdown",
   "id": "e6add052-1ee7-4a78-aba3-a5692af84a92",
   "metadata": {},
   "source": [
    "Generate square grids\n",
    "> Notice the time taken to grid the multi polygon at 15K resolution (compared to 5K resolution)\n"
   ]
  },
  {
   "cell_type": "code",
   "execution_count": 24,
   "id": "7153ffba-8b39-48f1-89d1-fa2875e36c59",
   "metadata": {
    "tags": []
   },
   "outputs": [
    {
     "name": "stdout",
     "output_type": "stream",
     "text": [
      "CPU times: user 627 ms, sys: 11.5 ms, total: 639 ms\n",
      "Wall time: 638 ms\n"
     ]
    }
   ],
   "source": [
    "%%time\n",
    "grid_gdf15k = grid_generator15k.generate_grid(region3_gdf)"
   ]
  },
  {
   "cell_type": "markdown",
   "id": "4a690b6a-0fae-4cb9-ba89-58375be4c97b",
   "metadata": {},
   "source": [
    "Show gridded version of sample geojson file at 15K resolution "
   ]
  },
  {
   "cell_type": "code",
   "execution_count": 25,
   "id": "da9dbcf6-c4e8-474a-afce-2548f0c834a0",
   "metadata": {},
   "outputs": [
    {
     "name": "stdout",
     "output_type": "stream",
     "text": [
      "length of grid_gdf15k: 150 row(s)\n"
     ]
    }
   ],
   "source": [
    "# hide_input\n",
    "print(f\"length of grid_gdf15k: {len(grid_gdf15k)} row(s)\")"
   ]
  },
  {
   "cell_type": "code",
   "execution_count": 26,
   "id": "09158ebe-0577-48de-9b5a-06ad4f70d214",
   "metadata": {},
   "outputs": [],
   "source": [
    "# hide\n",
    "# assert len(grid_gdf15k) == 154"
   ]
  },
  {
   "cell_type": "code",
   "execution_count": 27,
   "id": "8c77003b-566e-462c-8f78-8188e3b12731",
   "metadata": {},
   "outputs": [
    {
     "data": {
      "image/png": "[encoded data removed]",
      "text/plain": [
       "<Figure size 432x288 with 1 Axes>"
      ]
     },
     "metadata": {
      "needs_background": "light"
     },
     "output_type": "display_data"
    }
   ],
   "source": [
    "ax = region3_gdf.plot(facecolor=\"none\", edgecolor=\"blue\")\n",
    "ax = grid_gdf15k.plot(ax=ax, facecolor=\"none\", edgecolor=\"green\")"
   ]
  },
  {
   "cell_type": "markdown",
   "id": "d339a3ea-1c28-4b2c-8518-3139590aad0b",
   "metadata": {},
   "source": [
    "### Reusing boundaries\n",
    "If you have 2 polygons that are far from each other but wish to have them follow the reference same reference `x` and `y`, you can use pass in custom boudaries. "
   ]
  },
  {
   "cell_type": "markdown",
   "id": "38cc64db-6467-4793-8b1b-ef8987bb40df",
   "metadata": {},
   "source": [
    "Let's load some grids that are from each other"
   ]
  },
  {
   "cell_type": "code",
   "execution_count": 28,
   "id": "60de1059-cfb6-4e66-8b4c-c0bee92e701c",
   "metadata": {},
   "outputs": [],
   "source": [
    "cell1 = grid_gdf15k.head(1)\n",
    "cell2 = grid_gdf15k.tail(1)"
   ]
  },
  {
   "cell_type": "code",
   "execution_count": 29,
   "id": "b3840cec-938c-48f6-b4e3-c6455cc5e83a",
   "metadata": {},
   "outputs": [
    {
     "data": {
      "text/html": [
       "<div>\n",
       "<style scoped>\n",
       "    .dataframe tbody tr th:only-of-type {\n",
       "        vertical-align: middle;\n",
       "    }\n",
       "\n",
       "    .dataframe tbody tr th {\n",
       "        vertical-align: top;\n",
       "    }\n",
       "\n",
       "    .dataframe thead th {\n",
       "        text-align: right;\n",
       "    }\n",
       "</style>\n",
       "<table border=\"1\" class=\"dataframe\">\n",
       "  <thead>\n",
       "    <tr style=\"text-align: right;\">\n",
       "      <th></th>\n",
       "      <th>x</th>\n",
       "      <th>y</th>\n",
       "      <th>geometry</th>\n",
       "    </tr>\n",
       "  </thead>\n",
       "  <tbody>\n",
       "    <tr>\n",
       "      <th>0</th>\n",
       "      <td>1</td>\n",
       "      <td>3</td>\n",
       "      <td>POLYGON ((119.92058 14.79871, 120.05533 14.798...</td>\n",
       "    </tr>\n",
       "    <tr>\n",
       "      <th>149</th>\n",
       "      <td>18</td>\n",
       "      <td>16</td>\n",
       "      <td>POLYGON ((122.21128 16.48548, 122.34603 16.485...</td>\n",
       "    </tr>\n",
       "  </tbody>\n",
       "</table>\n",
       "</div>"
      ],
      "text/plain": [
       "      x   y                                           geometry\n",
       "0     1   3  POLYGON ((119.92058 14.79871, 120.05533 14.798...\n",
       "149  18  16  POLYGON ((122.21128 16.48548, 122.34603 16.485..."
      ]
     },
     "execution_count": 29,
     "metadata": {},
     "output_type": "execute_result"
    }
   ],
   "source": [
    "pd.concat([cell1, cell2])"
   ]
  },
  {
   "cell_type": "code",
   "execution_count": 30,
   "id": "816d056c-a735-4600-8d15-2fe3812fd35c",
   "metadata": {},
   "outputs": [
    {
     "data": {
      "image/png": "[encoded data removed]",
      "text/plain": [
       "<Figure size 432x288 with 1 Axes>"
      ]
     },
     "metadata": {
      "needs_background": "light"
     },
     "output_type": "display_data"
    }
   ],
   "source": [
    "ax = region3_gdf.plot(facecolor=\"none\", edgecolor=\"red\")\n",
    "ax = grid_gdf15k.plot(ax=ax, facecolor=\"none\", edgecolor=\"green\")\n",
    "ax = pd.concat([cell1, cell2]).plot(ax=ax)"
   ]
  },
  {
   "cell_type": "code",
   "execution_count": 31,
   "id": "a60cef23-2d9c-49c4-9633-56acf654c078",
   "metadata": {},
   "outputs": [],
   "source": [
    "grid_generator1k = grids.SquareGridGenerator(1_000, boundary=aoi_total_bounds)"
   ]
  },
  {
   "cell_type": "code",
   "execution_count": 32,
   "id": "ec41b566-49e7-4784-9785-8aaafb250938",
   "metadata": {},
   "outputs": [
    {
     "name": "stdout",
     "output_type": "stream",
     "text": [
      "CPU times: user 41.8 ms, sys: 0 ns, total: 41.8 ms\n",
      "Wall time: 38.4 ms\n"
     ]
    }
   ],
   "source": [
    "%%time\n",
    "gridcell1 = grid_generator1k.generate_grid(cell1)"
   ]
  },
  {
   "cell_type": "code",
   "execution_count": 33,
   "id": "b0b48828-ec68-47ee-8f54-54b86d3f3f3c",
   "metadata": {},
   "outputs": [
    {
     "data": {
      "text/plain": [
       "225"
      ]
     },
     "execution_count": 33,
     "metadata": {},
     "output_type": "execute_result"
    }
   ],
   "source": [
    "len(gridcell1)"
   ]
  },
  {
   "cell_type": "code",
   "execution_count": 34,
   "id": "efd299f7-c676-4ae8-95a6-31e074d459d5",
   "metadata": {},
   "outputs": [
    {
     "data": {
      "text/html": [
       "<div>\n",
       "<style scoped>\n",
       "    .dataframe tbody tr th:only-of-type {\n",
       "        vertical-align: middle;\n",
       "    }\n",
       "\n",
       "    .dataframe tbody tr th {\n",
       "        vertical-align: top;\n",
       "    }\n",
       "\n",
       "    .dataframe thead th {\n",
       "        text-align: right;\n",
       "    }\n",
       "</style>\n",
       "<table border=\"1\" class=\"dataframe\">\n",
       "  <thead>\n",
       "    <tr style=\"text-align: right;\">\n",
       "      <th></th>\n",
       "      <th>x</th>\n",
       "      <th>y</th>\n",
       "      <th>geometry</th>\n",
       "    </tr>\n",
       "  </thead>\n",
       "  <tbody>\n",
       "    <tr>\n",
       "      <th>0</th>\n",
       "      <td>15</td>\n",
       "      <td>45</td>\n",
       "      <td>POLYGON ((119.92058 14.79871, 119.92956 14.798...</td>\n",
       "    </tr>\n",
       "    <tr>\n",
       "      <th>1</th>\n",
       "      <td>15</td>\n",
       "      <td>46</td>\n",
       "      <td>POLYGON ((119.92058 14.80739, 119.92956 14.807...</td>\n",
       "    </tr>\n",
       "    <tr>\n",
       "      <th>2</th>\n",
       "      <td>15</td>\n",
       "      <td>47</td>\n",
       "      <td>POLYGON ((119.92058 14.81608, 119.92956 14.816...</td>\n",
       "    </tr>\n",
       "    <tr>\n",
       "      <th>3</th>\n",
       "      <td>15</td>\n",
       "      <td>48</td>\n",
       "      <td>POLYGON ((119.92058 14.82476, 119.92956 14.824...</td>\n",
       "    </tr>\n",
       "    <tr>\n",
       "      <th>4</th>\n",
       "      <td>15</td>\n",
       "      <td>49</td>\n",
       "      <td>POLYGON ((119.92058 14.83345, 119.92956 14.833...</td>\n",
       "    </tr>\n",
       "  </tbody>\n",
       "</table>\n",
       "</div>"
      ],
      "text/plain": [
       "    x   y                                           geometry\n",
       "0  15  45  POLYGON ((119.92058 14.79871, 119.92956 14.798...\n",
       "1  15  46  POLYGON ((119.92058 14.80739, 119.92956 14.807...\n",
       "2  15  47  POLYGON ((119.92058 14.81608, 119.92956 14.816...\n",
       "3  15  48  POLYGON ((119.92058 14.82476, 119.92956 14.824...\n",
       "4  15  49  POLYGON ((119.92058 14.83345, 119.92956 14.833..."
      ]
     },
     "execution_count": 34,
     "metadata": {},
     "output_type": "execute_result"
    }
   ],
   "source": [
    "gridcell1.head()"
   ]
  },
  {
   "cell_type": "code",
   "execution_count": 35,
   "id": "e3f273ea-557a-4f7a-95a7-63c9fd1075f0",
   "metadata": {},
   "outputs": [
    {
     "data": {
      "image/png": "[encoded data removed]",
      "text/plain": [
       "<Figure size 432x288 with 1 Axes>"
      ]
     },
     "metadata": {
      "needs_background": "light"
     },
     "output_type": "display_data"
    }
   ],
   "source": [
    "ax = gridcell1.plot(facecolor=\"none\", edgecolor=\"green\")"
   ]
  },
  {
   "cell_type": "code",
   "execution_count": 36,
   "id": "5033161b-a163-492e-960d-6e6eaa389df0",
   "metadata": {},
   "outputs": [
    {
     "name": "stdout",
     "output_type": "stream",
     "text": [
      "CPU times: user 23.9 ms, sys: 0 ns, total: 23.9 ms\n",
      "Wall time: 23.1 ms\n"
     ]
    }
   ],
   "source": [
    "%%time\n",
    "gridcell2 = grid_generator1k.generate_grid(cell2)"
   ]
  },
  {
   "cell_type": "code",
   "execution_count": 37,
   "id": "5513e071-e8d5-4952-9af5-dfe2eb5f58a9",
   "metadata": {},
   "outputs": [
    {
     "data": {
      "text/plain": [
       "12"
      ]
     },
     "execution_count": 37,
     "metadata": {},
     "output_type": "execute_result"
    }
   ],
   "source": [
    "len(gridcell2)"
   ]
  },
  {
   "cell_type": "code",
   "execution_count": 38,
   "id": "31677ee2-2e13-4ff3-b153-b8048954879b",
   "metadata": {},
   "outputs": [
    {
     "data": {
      "text/html": [
       "<div>\n",
       "<style scoped>\n",
       "    .dataframe tbody tr th:only-of-type {\n",
       "        vertical-align: middle;\n",
       "    }\n",
       "\n",
       "    .dataframe tbody tr th {\n",
       "        vertical-align: top;\n",
       "    }\n",
       "\n",
       "    .dataframe thead th {\n",
       "        text-align: right;\n",
       "    }\n",
       "</style>\n",
       "<table border=\"1\" class=\"dataframe\">\n",
       "  <thead>\n",
       "    <tr style=\"text-align: right;\">\n",
       "      <th></th>\n",
       "      <th>x</th>\n",
       "      <th>y</th>\n",
       "      <th>geometry</th>\n",
       "    </tr>\n",
       "  </thead>\n",
       "  <tbody>\n",
       "    <tr>\n",
       "      <th>0</th>\n",
       "      <td>270</td>\n",
       "      <td>240</td>\n",
       "      <td>POLYGON ((122.21128 16.48548, 122.22027 16.485...</td>\n",
       "    </tr>\n",
       "    <tr>\n",
       "      <th>1</th>\n",
       "      <td>270</td>\n",
       "      <td>241</td>\n",
       "      <td>POLYGON ((122.21128 16.49409, 122.22027 16.494...</td>\n",
       "    </tr>\n",
       "    <tr>\n",
       "      <th>2</th>\n",
       "      <td>270</td>\n",
       "      <td>242</td>\n",
       "      <td>POLYGON ((122.21128 16.50270, 122.22027 16.502...</td>\n",
       "    </tr>\n",
       "    <tr>\n",
       "      <th>3</th>\n",
       "      <td>271</td>\n",
       "      <td>240</td>\n",
       "      <td>POLYGON ((122.22027 16.48548, 122.22925 16.485...</td>\n",
       "    </tr>\n",
       "    <tr>\n",
       "      <th>4</th>\n",
       "      <td>271</td>\n",
       "      <td>241</td>\n",
       "      <td>POLYGON ((122.22027 16.49409, 122.22925 16.494...</td>\n",
       "    </tr>\n",
       "  </tbody>\n",
       "</table>\n",
       "</div>"
      ],
      "text/plain": [
       "     x    y                                           geometry\n",
       "0  270  240  POLYGON ((122.21128 16.48548, 122.22027 16.485...\n",
       "1  270  241  POLYGON ((122.21128 16.49409, 122.22027 16.494...\n",
       "2  270  242  POLYGON ((122.21128 16.50270, 122.22027 16.502...\n",
       "3  271  240  POLYGON ((122.22027 16.48548, 122.22925 16.485...\n",
       "4  271  241  POLYGON ((122.22027 16.49409, 122.22925 16.494..."
      ]
     },
     "execution_count": 38,
     "metadata": {},
     "output_type": "execute_result"
    }
   ],
   "source": [
    "gridcell2.head()"
   ]
  },
  {
   "cell_type": "code",
   "execution_count": 39,
   "id": "ee6b820c-dd65-470c-ac02-c818ad8b935f",
   "metadata": {},
   "outputs": [
    {
     "data": {
      "image/png": "[encoded data removed]",
      "text/plain": [
       "<Figure size 432x288 with 1 Axes>"
      ]
     },
     "metadata": {
      "needs_background": "light"
     },
     "output_type": "display_data"
    }
   ],
   "source": [
    "ax = gridcell2.plot(facecolor=\"none\", edgecolor=\"red\")"
   ]
  },
  {
   "cell_type": "code",
   "execution_count": 40,
   "id": "ef13d939-6418-473e-b6e5-1a45c230ba83",
   "metadata": {},
   "outputs": [
    {
     "data": {
      "image/png": "[encoded data removed]",
      "text/plain": [
       "<Figure size 432x288 with 1 Axes>"
      ]
     },
     "metadata": {
      "needs_background": "light"
     },
     "output_type": "display_data"
    }
   ],
   "source": [
    "ax = region3_gdf.plot(facecolor=\"none\", edgecolor=\"blue\")\n",
    "ax = gridcell1.plot(ax=ax, color=\"green\")\n",
    "ax = gridcell2.plot(ax=ax, color=\"red\")"
   ]
  },
  {
   "cell_type": "markdown",
   "id": "39f1ea27-9790-44fe-b5c0-f4bc774f608b",
   "metadata": {
    "tags": []
   },
   "source": [
    "## Generating grids for multiple distant areas\n",
    "If you are using AOIs that are vary far from each other, Grid Generator already optmizes the implementation for you\n"
   ]
  },
  {
   "cell_type": "code",
   "execution_count": 41,
   "id": "a8c8c992-8232-448e-a24d-cbc0a4decc30",
   "metadata": {},
   "outputs": [
    {
     "data": {
      "image/png": "[encoded data removed]",
      "text/plain": [
       "<Figure size 432x288 with 1 Axes>"
      ]
     },
     "metadata": {
      "needs_background": "light"
     },
     "output_type": "display_data"
    }
   ],
   "source": [
    "sparse_aois = grid_gdf15k.iloc[\n",
    "    0:1000:3,\n",
    "]  # Get areas that far from each other\n",
    "ax = region3_gdf.plot(facecolor=\"none\", edgecolor=\"blue\")\n",
    "ax = sparse_aois.plot(ax=ax, facecolor=\"none\", edgecolor=\"green\")"
   ]
  },
  {
   "cell_type": "code",
   "execution_count": 42,
   "id": "295ef464-9ee0-42a4-939f-475168e32533",
   "metadata": {},
   "outputs": [],
   "source": [
    "sparse_grid = grid_generator1k.generate_grid(sparse_aois)"
   ]
  },
  {
   "cell_type": "code",
   "execution_count": 43,
   "id": "c5b73551-6e4a-40af-b51a-600513f3b2e0",
   "metadata": {},
   "outputs": [
    {
     "data": {
      "image/png": "[encoded data removed]",
      "text/plain": [
       "<Figure size 432x288 with 1 Axes>"
      ]
     },
     "metadata": {
      "needs_background": "light"
     },
     "output_type": "display_data"
    }
   ],
   "source": [
    "ax = region3_gdf.plot(facecolor=\"none\", edgecolor=\"blue\")\n",
    "ax = sparse_grid.plot(ax=ax, facecolor=\"none\", edgecolor=\"green\")"
   ]
  },
  {
   "cell_type": "markdown",
   "id": "b908a06c",
   "metadata": {},
   "source": [
    "It is a bit hard to see the grids so, we get a subset to verify."
   ]
  },
  {
   "cell_type": "code",
   "execution_count": 44,
   "id": "2365f4e2-34b2-4f37-ac49-54a278bdc754",
   "metadata": {},
   "outputs": [
    {
     "data": {
      "image/png": "[encoded data removed]",
      "text/plain": [
       "<Figure size 432x288 with 1 Axes>"
      ]
     },
     "metadata": {
      "needs_background": "light"
     },
     "output_type": "display_data"
    }
   ],
   "source": [
    "ax = sparse_grid.head(1000).plot(facecolor=\"none\", edgecolor=\"green\")"
   ]
  },
  {
   "cell_type": "markdown",
   "id": "6dc83d1f-3c68-4477-932a-06355e676b4a",
   "metadata": {},
   "source": [
    "## H3 Grid Generator\n",
    "### Generating grids\n",
    "Let us generate grids of resolution 5. To learn more about the different resolution, visit: https://h3geo.org/docs/core-library/restable/"
   ]
  },
  {
   "cell_type": "code",
   "execution_count": 45,
   "id": "e749c420-4777-4db2-aea9-fc35c52ca767",
   "metadata": {},
   "outputs": [],
   "source": [
    "h3_generator = grids.H3GridGenerator(resolution=5)"
   ]
  },
  {
   "cell_type": "code",
   "execution_count": 46,
   "id": "a7112cb1-2921-4612-af44-b8ecc1129fe8",
   "metadata": {},
   "outputs": [
    {
     "name": "stdout",
     "output_type": "stream",
     "text": [
      "CPU times: user 3.41 s, sys: 27.4 ms, total: 3.44 s\n",
      "Wall time: 3.43 s\n"
     ]
    }
   ],
   "source": [
    "%%time\n",
    "h3_5_gdf = h3_generator.generate_grid(region3_gdf)"
   ]
  },
  {
   "cell_type": "code",
   "execution_count": 47,
   "id": "8283168b-8e11-436f-9f56-a395d8bc1b2e",
   "metadata": {},
   "outputs": [
    {
     "data": {
      "image/png": "[encoded data removed]",
      "text/plain": [
       "<Figure size 432x288 with 1 Axes>"
      ]
     },
     "metadata": {
      "needs_background": "light"
     },
     "output_type": "display_data"
    }
   ],
   "source": [
    "ax = region3_gdf.plot(aspect=\"equal\")\n",
    "ax = h3_5_gdf.plot(ax=ax, facecolor=\"none\", edgecolor=\"blue\", aspect=\"equal\")"
   ]
  },
  {
   "cell_type": "markdown",
   "id": "6476475f-9b6b-4ebe-b13b-c7ef8689a9cf",
   "metadata": {},
   "source": [
    "### Not exporting geometry\n",
    "If you do not plan to use use geometry, you can pass `return_geometry=False` to just get a normal pandas DataFrame with the ids."
   ]
  },
  {
   "cell_type": "code",
   "execution_count": 48,
   "id": "51341c59-7d3b-4bc4-80db-c6f3ad7ad097",
   "metadata": {},
   "outputs": [],
   "source": [
    "h3_generator_no_geom = grids.H3GridGenerator(resolution=5, return_geometry=False)"
   ]
  },
  {
   "cell_type": "code",
   "execution_count": 49,
   "id": "5167a86b-3d0f-4bd7-84ec-ba00a0405cdf",
   "metadata": {},
   "outputs": [
    {
     "name": "stdout",
     "output_type": "stream",
     "text": [
      "CPU times: user 3.48 s, sys: 52.2 ms, total: 3.53 s\n",
      "Wall time: 3.53 s\n"
     ]
    }
   ],
   "source": [
    "%%time\n",
    "h3_region3_no_geom = h3_generator_no_geom.generate_grid(region3_gdf)"
   ]
  },
  {
   "cell_type": "code",
   "execution_count": 50,
   "id": "b72b45f0-ef82-49fc-b5fa-3350efc28fe7",
   "metadata": {},
   "outputs": [
    {
     "data": {
      "text/plain": [
       "84"
      ]
     },
     "execution_count": 50,
     "metadata": {},
     "output_type": "execute_result"
    }
   ],
   "source": [
    "len(h3_region3_no_geom)"
   ]
  },
  {
   "cell_type": "code",
   "execution_count": 51,
   "id": "3a6862f8-2006-47e3-a3e8-598c14980a8f",
   "metadata": {},
   "outputs": [
    {
     "data": {
      "text/html": [
       "<div>\n",
       "<style scoped>\n",
       "    .dataframe tbody tr th:only-of-type {\n",
       "        vertical-align: middle;\n",
       "    }\n",
       "\n",
       "    .dataframe tbody tr th {\n",
       "        vertical-align: top;\n",
       "    }\n",
       "\n",
       "    .dataframe thead th {\n",
       "        text-align: right;\n",
       "    }\n",
       "</style>\n",
       "<table border=\"1\" class=\"dataframe\">\n",
       "  <thead>\n",
       "    <tr style=\"text-align: right;\">\n",
       "      <th></th>\n",
       "      <th>hex_id</th>\n",
       "    </tr>\n",
       "  </thead>\n",
       "  <tbody>\n",
       "    <tr>\n",
       "      <th>0</th>\n",
       "      <td>856941a3fffffff</td>\n",
       "    </tr>\n",
       "    <tr>\n",
       "      <th>1</th>\n",
       "      <td>85696a7bfffffff</td>\n",
       "    </tr>\n",
       "    <tr>\n",
       "      <th>2</th>\n",
       "      <td>85694147fffffff</td>\n",
       "    </tr>\n",
       "    <tr>\n",
       "      <th>3</th>\n",
       "      <td>856943bbfffffff</td>\n",
       "    </tr>\n",
       "    <tr>\n",
       "      <th>4</th>\n",
       "      <td>85694e97fffffff</td>\n",
       "    </tr>\n",
       "  </tbody>\n",
       "</table>\n",
       "</div>"
      ],
      "text/plain": [
       "            hex_id\n",
       "0  856941a3fffffff\n",
       "1  85696a7bfffffff\n",
       "2  85694147fffffff\n",
       "3  856943bbfffffff\n",
       "4  85694e97fffffff"
      ]
     },
     "execution_count": 51,
     "metadata": {},
     "output_type": "execute_result"
    }
   ],
   "source": [
    "h3_region3_no_geom.head()"
   ]
  },
  {
   "cell_type": "markdown",
   "id": "443af36c-494e-48ba-b71a-dfce99be6bff",
   "metadata": {},
   "source": [
    "## Bing Tile Grid Generator\n",
    "### Generating grids\n",
    "Let us generate grids of zoom_level 12. To learn more about the different resolution, visit: https://docs.microsoft.com/en-us/bingmaps/articles/bing-maps-tile-system"
   ]
  },
  {
   "cell_type": "code",
   "execution_count": 52,
   "id": "d1142166-24f7-449d-9255-89b86b0d025a",
   "metadata": {},
   "outputs": [],
   "source": [
    "bing_tile_grid_generator = grids.BingTileGridGenerator(12)"
   ]
  },
  {
   "cell_type": "code",
   "execution_count": 53,
   "id": "5f2752e4-3a8f-428f-b48f-d4e12448dc1c",
   "metadata": {},
   "outputs": [
    {
     "name": "stdout",
     "output_type": "stream",
     "text": [
      "CPU times: user 7.65 s, sys: 19.3 ms, total: 7.67 s\n",
      "Wall time: 7.67 s\n"
     ]
    }
   ],
   "source": [
    "%%time\n",
    "# slow\n",
    "bing_tile_gdf = bing_tile_grid_generator.generate_grid(region3_gdf)"
   ]
  },
  {
   "cell_type": "code",
   "execution_count": 54,
   "id": "d78a4698-1e95-4b67-b1ec-3d6274d5671b",
   "metadata": {},
   "outputs": [
    {
     "data": {
      "image/png": "[encoded data removed]",
      "text/plain": [
       "<Figure size 432x288 with 1 Axes>"
      ]
     },
     "metadata": {
      "needs_background": "light"
     },
     "output_type": "display_data"
    }
   ],
   "source": [
    "# no_test\n",
    "ax = region3_gdf.plot(facecolor=\"none\", edgecolor=\"blue\")\n",
    "ax = bing_tile_gdf.plot(ax=ax, facecolor=\"none\", edgecolor=\"green\")"
   ]
  },
  {
   "cell_type": "markdown",
   "id": "3d4f5a18-cf9d-4cc1-a2b4-a768e2e18ea8",
   "metadata": {
    "tags": []
   },
   "source": [
    "### Not exporting geometry\n",
    "\n",
    "If you do not plan to use use geometry, you can pass return_geometry=False to just get a normal pandas DataFrame with the ids.\n"
   ]
  },
  {
   "cell_type": "code",
   "execution_count": 55,
   "id": "c36c4083-c542-4993-b6ae-9c433ad04265",
   "metadata": {},
   "outputs": [],
   "source": [
    "bing_tile_grid_generator_no_geom = grids.BingTileGridGenerator(\n",
    "    12, return_geometry=False\n",
    ")"
   ]
  },
  {
   "cell_type": "code",
   "execution_count": 56,
   "id": "4422e030-9268-4933-8c66-90ef4952ab12",
   "metadata": {},
   "outputs": [
    {
     "name": "stdout",
     "output_type": "stream",
     "text": [
      "CPU times: user 7.63 s, sys: 27.1 ms, total: 7.65 s\n",
      "Wall time: 7.66 s\n"
     ]
    }
   ],
   "source": [
    "%%time\n",
    "# slow\n",
    "bing_region3_keys = bing_tile_grid_generator_no_geom.generate_grid(region3_gdf)"
   ]
  },
  {
   "cell_type": "code",
   "execution_count": 57,
   "id": "5bbc35cc-1ebe-4c3f-a7b2-aff8a271c361",
   "metadata": {},
   "outputs": [
    {
     "data": {
      "text/html": [
       "<div>\n",
       "<style scoped>\n",
       "    .dataframe tbody tr th:only-of-type {\n",
       "        vertical-align: middle;\n",
       "    }\n",
       "\n",
       "    .dataframe tbody tr th {\n",
       "        vertical-align: top;\n",
       "    }\n",
       "\n",
       "    .dataframe thead th {\n",
       "        text-align: right;\n",
       "    }\n",
       "</style>\n",
       "<table border=\"1\" class=\"dataframe\">\n",
       "  <thead>\n",
       "    <tr style=\"text-align: right;\">\n",
       "      <th></th>\n",
       "      <th>quadkey</th>\n",
       "    </tr>\n",
       "  </thead>\n",
       "  <tbody>\n",
       "    <tr>\n",
       "      <th>0</th>\n",
       "      <td>132303030330</td>\n",
       "    </tr>\n",
       "    <tr>\n",
       "      <th>1</th>\n",
       "      <td>132303030331</td>\n",
       "    </tr>\n",
       "    <tr>\n",
       "      <th>2</th>\n",
       "      <td>132303030313</td>\n",
       "    </tr>\n",
       "    <tr>\n",
       "      <th>3</th>\n",
       "      <td>132303012302</td>\n",
       "    </tr>\n",
       "    <tr>\n",
       "      <th>4</th>\n",
       "      <td>132303012031</td>\n",
       "    </tr>\n",
       "  </tbody>\n",
       "</table>\n",
       "</div>"
      ],
      "text/plain": [
       "        quadkey\n",
       "0  132303030330\n",
       "1  132303030331\n",
       "2  132303030313\n",
       "3  132303012302\n",
       "4  132303012031"
      ]
     },
     "execution_count": 57,
     "metadata": {},
     "output_type": "execute_result"
    }
   ],
   "source": [
    "# no_test\n",
    "bing_region3_keys.head()"
   ]
  }
 ],
 "metadata": {
  "kernelspec": {
   "display_name": "Python 3 (ipykernel)",
   "language": "python",
   "name": "python3"
  },
  "language_info": {
   "codemirror_mode": {
    "name": "ipython",
    "version": 3
   },
   "file_extension": ".py",
   "mimetype": "text/x-python",
   "name": "python",
   "nbconvert_exporter": "python",
   "pygments_lexer": "ipython3",
   "version": "3.9.1"
  }
 },
 "nbformat": 4,
 "nbformat_minor": 5
}
