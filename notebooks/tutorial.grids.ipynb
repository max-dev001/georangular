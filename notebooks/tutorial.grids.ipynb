{
 "cells": [
  {
   "cell_type": "code",
   "execution_count": 1,
   "id": "699f9813-1436-4348-b044-7163e6c65eda",
   "metadata": {},
   "outputs": [],
   "source": [
    "# hide\n",
    "# no_test\n",
    "! [ -e /content ] && pip install -Uqq git+https://github.com/thinkingmachines/geowrangler.git"
   ]
  },
  {
   "cell_type": "code",
   "execution_count": 2,
   "id": "a7b76044-95d4-4570-b145-bacefc2bfc8d",
   "metadata": {},
   "outputs": [],
   "source": [
    "# hide\n",
    "# no_test\n",
    "!mkdir -p ../data\n",
    "![ -e /content ] && ln -s ../data ."
   ]
  },
  {
   "cell_type": "code",
   "execution_count": 3,
   "id": "a2b36dee-d74a-4771-bb63-124a2686fd82",
   "metadata": {},
   "outputs": [],
   "source": [
    "# hide\n",
    "# no_test\n",
    "%reload_ext autoreload\n",
    "%autoreload 2\n",
    "%matplotlib inline"
   ]
  },
  {
   "cell_type": "code",
   "execution_count": 4,
   "id": "275c6a44-2aab-4a9e-b712-4b875d866d51",
   "metadata": {},
   "outputs": [],
   "source": [
    "# hide\n",
    "# no_test\n",
    "# conditionally load nb_black cell magic\n",
    "import sys\n",
    "\n",
    "if \"google.colab\" not in sys.modules:\n",
    "    from IPython import get_ipython\n",
    "\n",
    "    ipython = get_ipython()\n",
    "    ipython.magic(\"reload_ext lab_black\")"
   ]
  },
  {
   "cell_type": "markdown",
   "id": "c0e4066d-500d-4f0a-91a8-88751f794901",
   "metadata": {},
   "source": [
    "# Grid Generation Tutorial"
   ]
  },
  {
   "cell_type": "markdown",
   "id": "ba84cf1a-008c-46d8-9963-11c0daee86c0",
   "metadata": {},
   "source": [
    "> A basic introduction to Geospatial Grids"
   ]
  },
  {
   "cell_type": "markdown",
   "id": "309956b8-3ec5-4223-bca5-bcb70d0e887a",
   "metadata": {
    "tags": []
   },
   "source": [
    "## Basic Usage\n",
    "Creating a grid from a geojson file"
   ]
  },
  {
   "cell_type": "code",
   "execution_count": 5,
   "id": "1b61d155-e4f5-4b92-b14f-fe2813fa8471",
   "metadata": {},
   "outputs": [],
   "source": [
    "# hide\n",
    "import warnings\n",
    "\n",
    "from IPython.display import display\n",
    "\n",
    "warnings.filterwarnings(\"ignore\")"
   ]
  },
  {
   "cell_type": "markdown",
   "id": "4e099cdb-f4e7-4ca6-9c46-eadf0ce50c05",
   "metadata": {},
   "source": [
    "### Import `geopandas` and the `geowrangler.grids` module"
   ]
  },
  {
   "cell_type": "code",
   "execution_count": 6,
   "id": "f38a007c-081b-4ee4-aecc-9b116904b95e",
   "metadata": {},
   "outputs": [],
   "source": [
    "import geopandas as gpd\n",
    "import pandas as pd\n",
    "\n",
    "from geowrangler import grids"
   ]
  },
  {
   "cell_type": "code",
   "execution_count": 7,
   "id": "a30cfacc-bdb2-49d9-88e5-be4c03464a54",
   "metadata": {},
   "outputs": [],
   "source": [
    "# hide\n",
    "# no_test\n",
    "!mkdir -p ../data\n",
    "# download sample geojson file from repo\n",
    "![ ! -e ../data/region3_admin.geojson ] && curl -s -o ../data/region3_admin.geojson https://raw.githubusercontent.com/thinkingmachines/geowrangler/master/data/region3_admin.geojson"
   ]
  },
  {
   "cell_type": "markdown",
   "id": "52246bff-3cc5-4fb9-9a97-5abbc280fb6c",
   "metadata": {},
   "source": [
    "### Load a sample geojson file into pandas \n",
    "\n",
    "\n",
    "In our case, we are loading the Region 3 (Central Luzon Administrative Region) of the Philippines."
   ]
  },
  {
   "cell_type": "code",
   "execution_count": 8,
   "id": "83809aa8-069f-49fc-95ae-da95166ce2b3",
   "metadata": {},
   "outputs": [],
   "source": [
    "region3_gdf = gpd.read_file(\"../data/region3_admin.geojson\")"
   ]
  },
  {
   "cell_type": "markdown",
   "id": "e7e42781-7e32-489d-ac6a-04eb6b818cfe",
   "metadata": {},
   "source": [
    "This geopandas dataframe has the size: "
   ]
  },
  {
   "cell_type": "code",
   "execution_count": 9,
   "id": "465c0d62-317e-4ce5-b5ab-6ca5db92c587",
   "metadata": {},
   "outputs": [
    {
     "name": "stdout",
     "output_type": "stream",
     "text": [
      "length of region3_gdf: 1 row(s)\n"
     ]
    }
   ],
   "source": [
    "# hide_input\n",
    "print(f\"length of region3_gdf: {len(region3_gdf)} row(s)\")"
   ]
  },
  {
   "cell_type": "code",
   "execution_count": 10,
   "id": "616984c8-32fa-4de6-b6d5-af71bc805b5c",
   "metadata": {},
   "outputs": [
    {
     "data": {
      "text/html": [
       "<div>\n",
       "<style scoped>\n",
       "    .dataframe tbody tr th:only-of-type {\n",
       "        vertical-align: middle;\n",
       "    }\n",
       "\n",
       "    .dataframe tbody tr th {\n",
       "        vertical-align: top;\n",
       "    }\n",
       "\n",
       "    .dataframe thead th {\n",
       "        text-align: right;\n",
       "    }\n",
       "</style>\n",
       "<table border=\"1\" class=\"dataframe\">\n",
       "  <thead>\n",
       "    <tr style=\"text-align: right;\">\n",
       "      <th></th>\n",
       "      <th>Reg_Code</th>\n",
       "      <th>Reg_Name</th>\n",
       "      <th>Reg_Alt_Name</th>\n",
       "      <th>geometry</th>\n",
       "    </tr>\n",
       "  </thead>\n",
       "  <tbody>\n",
       "    <tr>\n",
       "      <th>0</th>\n",
       "      <td>030000000</td>\n",
       "      <td>Region III</td>\n",
       "      <td>Central Luzon</td>\n",
       "      <td>MULTIPOLYGON (((120.11687 14.76309, 120.11684 ...</td>\n",
       "    </tr>\n",
       "  </tbody>\n",
       "</table>\n",
       "</div>"
      ],
      "text/plain": [
       "    Reg_Code    Reg_Name   Reg_Alt_Name  \\\n",
       "0  030000000  Region III  Central Luzon   \n",
       "\n",
       "                                            geometry  \n",
       "0  MULTIPOLYGON (((120.11687 14.76309, 120.11684 ...  "
      ]
     },
     "metadata": {},
     "output_type": "display_data"
    }
   ],
   "source": [
    "display(region3_gdf)"
   ]
  },
  {
   "cell_type": "markdown",
   "id": "eb7f1dd2-4e69-4bd0-b4fc-14301e9ac987",
   "metadata": {},
   "source": [
    "Show the original plot"
   ]
  },
  {
   "cell_type": "code",
   "execution_count": 11,
   "id": "99047ed6-1a26-496e-8e29-58010d9de1f0",
   "metadata": {},
   "outputs": [
    {
     "data": {
      "image/png": "[encoded data removed]",
      "text/plain": [
       "<Figure size 432x288 with 1 Axes>"
      ]
     },
     "metadata": {
      "needs_background": "light"
     },
     "output_type": "display_data"
    }
   ],
   "source": [
    "import matplotlib.pyplot as plt\n",
    "\n",
    "ax = region3_gdf.plot(ax=plt.axes())"
   ]
  },
  {
   "cell_type": "code",
   "execution_count": 12,
   "id": "e4e44e60-a053-444a-8819-2bb6455df5f0",
   "metadata": {},
   "outputs": [
    {
     "data": {
      "text/plain": [
       "<Geographic 2D CRS: EPSG:4326>\n",
       "Name: WGS 84\n",
       "Axis Info [ellipsoidal]:\n",
       "- Lat[north]: Geodetic latitude (degree)\n",
       "- Lon[east]: Geodetic longitude (degree)\n",
       "Area of Use:\n",
       "- name: World.\n",
       "- bounds: (-180.0, -90.0, 180.0, 90.0)\n",
       "Datum: World Geodetic System 1984 ensemble\n",
       "- Ellipsoid: WGS 84\n",
       "- Prime Meridian: Greenwich"
      ]
     },
     "execution_count": 12,
     "metadata": {},
     "output_type": "execute_result"
    }
   ],
   "source": [
    "region3_gdf.crs  # CRS info"
   ]
  },
  {
   "cell_type": "markdown",
   "id": "858c0aa8-1333-4e5f-beb5-fc1f0a210d69",
   "metadata": {
    "tags": []
   },
   "source": [
    "### Creating Grids\n",
    "\n",
    "Create a grid generator with a size of `50000`. \n",
    "The units of the grid size are dependent on the projection of \n",
    "the geodataframe, in this case, `EPSG:4326`."
   ]
  },
  {
   "cell_type": "code",
   "execution_count": 13,
   "id": "c173e958-a657-4848-991e-17e035894b32",
   "metadata": {
    "tags": []
   },
   "outputs": [],
   "source": [
    "grid_generator5k = grids.SquareGridGenerator(5000)  # 5 km x 5 km square cells"
   ]
  },
  {
   "cell_type": "markdown",
   "id": "5793c60a-59a5-4013-9fc5-eff11c8639fc",
   "metadata": {},
   "source": [
    "Generate square grids\n",
    "> Notice the time taken to grid the multi polygon at 5K resolution\n"
   ]
  },
  {
   "cell_type": "code",
   "execution_count": 14,
   "id": "2f193001-319f-446d-b1fc-fa436117bf27",
   "metadata": {},
   "outputs": [
    {
     "name": "stdout",
     "output_type": "stream",
     "text": [
      "CPU times: user 27.5 s, sys: 6.03 ms, total: 27.5 s\n",
      "Wall time: 27.5 s\n"
     ]
    }
   ],
   "source": [
    "%%time\n",
    "# slow\n",
    "grid_gdf5k = grid_generator5k.generate_grid(region3_gdf)"
   ]
  },
  {
   "cell_type": "markdown",
   "id": "6ff5018d-4ed8-451b-965b-5ffad626256a",
   "metadata": {},
   "source": [
    "Show gridded version of sample geojson file at 5K resolution "
   ]
  },
  {
   "cell_type": "code",
   "execution_count": 15,
   "id": "6856c206-da79-45bf-956b-6d660ce2545e",
   "metadata": {},
   "outputs": [
    {
     "name": "stdout",
     "output_type": "stream",
     "text": [
      "length of grid_gdf5k: 1074 row(s)\n"
     ]
    }
   ],
   "source": [
    "# hide_input\n",
    "# slow\n",
    "print(f\"length of grid_gdf5k: {len(grid_gdf5k)} row(s)\")"
   ]
  },
  {
   "cell_type": "code",
   "execution_count": 16,
   "id": "164cc378-111c-45fa-8bc8-a79f2d180b35",
   "metadata": {},
   "outputs": [
    {
     "data": {
      "image/png": "[encoded data removed]",
      "text/plain": [
       "<Figure size 432x288 with 1 Axes>"
      ]
     },
     "metadata": {
      "needs_background": "light"
     },
     "output_type": "display_data"
    }
   ],
   "source": [
    "# slow\n",
    "ax = region3_gdf.plot()\n",
    "ax = grid_gdf5k.plot(ax=ax, facecolor=\"none\", edgecolor=\"green\")"
   ]
  },
  {
   "cell_type": "markdown",
   "id": "fd38d9b4-f37f-48dc-9b87-3f4f1df12e32",
   "metadata": {},
   "source": [
    "In addition to the grid cells, there are 2 extra columns `x` and `y` when combined are unique per grid. It can also tell us which grids are adjacent to each other. "
   ]
  },
  {
   "cell_type": "code",
   "execution_count": 17,
   "id": "dd907f45-32ed-4810-97f9-2eaacf869119",
   "metadata": {},
   "outputs": [
    {
     "data": {
      "text/html": [
       "<div>\n",
       "<style scoped>\n",
       "    .dataframe tbody tr th:only-of-type {\n",
       "        vertical-align: middle;\n",
       "    }\n",
       "\n",
       "    .dataframe tbody tr th {\n",
       "        vertical-align: top;\n",
       "    }\n",
       "\n",
       "    .dataframe thead th {\n",
       "        text-align: right;\n",
       "    }\n",
       "</style>\n",
       "<table border=\"1\" class=\"dataframe\">\n",
       "  <thead>\n",
       "    <tr style=\"text-align: right;\">\n",
       "      <th></th>\n",
       "      <th>x</th>\n",
       "      <th>y</th>\n",
       "      <th>geometry</th>\n",
       "    </tr>\n",
       "  </thead>\n",
       "  <tbody>\n",
       "    <tr>\n",
       "      <th>30</th>\n",
       "      <td>0</td>\n",
       "      <td>30</td>\n",
       "      <td>POLYGON ((119.78583 15.70870, 119.83075 15.708...</td>\n",
       "    </tr>\n",
       "    <tr>\n",
       "      <th>31</th>\n",
       "      <td>0</td>\n",
       "      <td>31</td>\n",
       "      <td>POLYGON ((119.78583 15.75193, 119.83075 15.751...</td>\n",
       "    </tr>\n",
       "    <tr>\n",
       "      <th>32</th>\n",
       "      <td>0</td>\n",
       "      <td>32</td>\n",
       "      <td>POLYGON ((119.78583 15.79516, 119.83075 15.795...</td>\n",
       "    </tr>\n",
       "    <tr>\n",
       "      <th>79</th>\n",
       "      <td>1</td>\n",
       "      <td>30</td>\n",
       "      <td>POLYGON ((119.83075 15.70870, 119.87566 15.708...</td>\n",
       "    </tr>\n",
       "    <tr>\n",
       "      <th>81</th>\n",
       "      <td>1</td>\n",
       "      <td>32</td>\n",
       "      <td>POLYGON ((119.83075 15.79516, 119.87566 15.795...</td>\n",
       "    </tr>\n",
       "  </tbody>\n",
       "</table>\n",
       "</div>"
      ],
      "text/plain": [
       "    x   y                                           geometry\n",
       "30  0  30  POLYGON ((119.78583 15.70870, 119.83075 15.708...\n",
       "31  0  31  POLYGON ((119.78583 15.75193, 119.83075 15.751...\n",
       "32  0  32  POLYGON ((119.78583 15.79516, 119.83075 15.795...\n",
       "79  1  30  POLYGON ((119.83075 15.70870, 119.87566 15.708...\n",
       "81  1  32  POLYGON ((119.83075 15.79516, 119.87566 15.795..."
      ]
     },
     "execution_count": 17,
     "metadata": {},
     "output_type": "execute_result"
    }
   ],
   "source": [
    "# slow\n",
    "grid_gdf5k.head()"
   ]
  },
  {
   "cell_type": "code",
   "execution_count": 18,
   "id": "0b2dd0ae-db26-4b92-b7bd-255b8511d547",
   "metadata": {},
   "outputs": [
    {
     "data": {
      "text/plain": [
       "<AxesSubplot:>"
      ]
     },
     "execution_count": 18,
     "metadata": {},
     "output_type": "execute_result"
    },
    {
     "data": {
      "image/png": "[encoded data removed]",
      "text/plain": [
       "<Figure size 432x288 with 1 Axes>"
      ]
     },
     "metadata": {
      "needs_background": "light"
     },
     "output_type": "display_data"
    }
   ],
   "source": [
    "# no_test\n",
    "ax = region3_gdf.plot()\n",
    "grid_gdf5k[grid_gdf5k[\"x\"] == 10].plot(ax=ax, facecolor=\"none\", edgecolor=\"green\")"
   ]
  },
  {
   "cell_type": "markdown",
   "id": "c789ea17-c6ba-4c3b-8c98-53d3637f2229",
   "metadata": {
    "tags": []
   },
   "source": [
    "### Gridding at a coarser resolution\n",
    "Let's try the same process but with a bigger grid (15K)"
   ]
  },
  {
   "cell_type": "code",
   "execution_count": 19,
   "id": "160ad35f-c110-4162-b5c1-da35bf0892ea",
   "metadata": {
    "tags": []
   },
   "outputs": [],
   "source": [
    "grid_generator15k = grids.SquareGridGenerator(15000)  # 15 km x 15 km grids"
   ]
  },
  {
   "cell_type": "markdown",
   "id": "e6add052-1ee7-4a78-aba3-a5692af84a92",
   "metadata": {},
   "source": [
    "Generate square grids\n",
    "> Notice the time taken to grid the multi polygon at 15K resolution (compared to 5K resolution)\n"
   ]
  },
  {
   "cell_type": "code",
   "execution_count": 20,
   "id": "7153ffba-8b39-48f1-89d1-fa2875e36c59",
   "metadata": {},
   "outputs": [
    {
     "name": "stdout",
     "output_type": "stream",
     "text": [
      "CPU times: user 3.47 s, sys: 20.2 ms, total: 3.49 s\n",
      "Wall time: 3.49 s\n"
     ]
    }
   ],
   "source": [
    "%%time\n",
    "# slow\n",
    "grid_gdf15k = grid_generator15k.generate_grid(region3_gdf)"
   ]
  },
  {
   "cell_type": "markdown",
   "id": "4a690b6a-0fae-4cb9-ba89-58375be4c97b",
   "metadata": {},
   "source": [
    "Show gridded version of sample geojson file at 15K resolution "
   ]
  },
  {
   "cell_type": "code",
   "execution_count": 21,
   "id": "da9dbcf6-c4e8-474a-afce-2548f0c834a0",
   "metadata": {},
   "outputs": [
    {
     "name": "stdout",
     "output_type": "stream",
     "text": [
      "length of grid_gdf15k: 154 row(s)\n"
     ]
    }
   ],
   "source": [
    "# hide_input\n",
    "# slow\n",
    "print(f\"length of grid_gdf15k: {len(grid_gdf15k)} row(s)\")"
   ]
  },
  {
   "cell_type": "code",
   "execution_count": 22,
   "id": "09158ebe-0577-48de-9b5a-06ad4f70d214",
   "metadata": {},
   "outputs": [],
   "source": [
    "# hide\n",
    "# slow\n",
    "assert len(grid_gdf15k) == 154"
   ]
  },
  {
   "cell_type": "code",
   "execution_count": 23,
   "id": "8c77003b-566e-462c-8f78-8188e3b12731",
   "metadata": {},
   "outputs": [
    {
     "data": {
      "image/png": "[encoded data removed]",
      "text/plain": [
       "<Figure size 432x288 with 1 Axes>"
      ]
     },
     "metadata": {
      "needs_background": "light"
     },
     "output_type": "display_data"
    }
   ],
   "source": [
    "# slow\n",
    "ax = region3_gdf.plot()\n",
    "ax = grid_gdf15k.plot(ax=ax, facecolor=\"none\", edgecolor=\"blue\")"
   ]
  },
  {
   "cell_type": "markdown",
   "id": "d339a3ea-1c28-4b2c-8518-3139590aad0b",
   "metadata": {},
   "source": [
    "### Reusing boundaries\n",
    "If you have 2 polygons that are far from each other but wish to have them follow the reference same reference `x` and `y`, you can use pass in custom boudaries. "
   ]
  },
  {
   "cell_type": "markdown",
   "id": "38cc64db-6467-4793-8b1b-ef8987bb40df",
   "metadata": {},
   "source": [
    "Let's load some grids that are from each other"
   ]
  },
  {
   "cell_type": "code",
   "execution_count": 24,
   "id": "60de1059-cfb6-4e66-8b4c-c0bee92e701c",
   "metadata": {},
   "outputs": [],
   "source": [
    "cell1 = grid_gdf5k.head(1)\n",
    "cell2 = grid_gdf5k.tail(1)"
   ]
  },
  {
   "cell_type": "code",
   "execution_count": 25,
   "id": "b3840cec-938c-48f6-b4e3-c6455cc5e83a",
   "metadata": {},
   "outputs": [
    {
     "data": {
      "text/html": [
       "<div>\n",
       "<style scoped>\n",
       "    .dataframe tbody tr th:only-of-type {\n",
       "        vertical-align: middle;\n",
       "    }\n",
       "\n",
       "    .dataframe tbody tr th {\n",
       "        vertical-align: top;\n",
       "    }\n",
       "\n",
       "    .dataframe thead th {\n",
       "        text-align: right;\n",
       "    }\n",
       "</style>\n",
       "<table border=\"1\" class=\"dataframe\">\n",
       "  <thead>\n",
       "    <tr style=\"text-align: right;\">\n",
       "      <th></th>\n",
       "      <th>x</th>\n",
       "      <th>y</th>\n",
       "      <th>geometry</th>\n",
       "    </tr>\n",
       "  </thead>\n",
       "  <tbody>\n",
       "    <tr>\n",
       "      <th>30</th>\n",
       "      <td>0</td>\n",
       "      <td>30</td>\n",
       "      <td>POLYGON ((119.78583 15.70870, 119.83075 15.708...</td>\n",
       "    </tr>\n",
       "  </tbody>\n",
       "</table>\n",
       "</div>"
      ],
      "text/plain": [
       "    x   y                                           geometry\n",
       "30  0  30  POLYGON ((119.78583 15.70870, 119.83075 15.708..."
      ]
     },
     "execution_count": 25,
     "metadata": {},
     "output_type": "execute_result"
    }
   ],
   "source": [
    "cell1"
   ]
  },
  {
   "cell_type": "code",
   "execution_count": 26,
   "id": "ee5541bc-b2ea-43ec-9af7-a3cdf37634d1",
   "metadata": {},
   "outputs": [
    {
     "data": {
      "text/plain": [
       "<AxesSubplot:>"
      ]
     },
     "execution_count": 26,
     "metadata": {},
     "output_type": "execute_result"
    },
    {
     "data": {
      "image/png": "[encoded data removed]",
      "text/plain": [
       "<Figure size 432x288 with 1 Axes>"
      ]
     },
     "metadata": {
      "needs_background": "light"
     },
     "output_type": "display_data"
    }
   ],
   "source": [
    "pd.concat([cell1, cell2]).plot()"
   ]
  },
  {
   "cell_type": "code",
   "execution_count": 27,
   "id": "3d80f6fc-6c47-4c75-a270-552a2e78b99b",
   "metadata": {},
   "outputs": [
    {
     "data": {
      "text/html": [
       "<div>\n",
       "<style scoped>\n",
       "    .dataframe tbody tr th:only-of-type {\n",
       "        vertical-align: middle;\n",
       "    }\n",
       "\n",
       "    .dataframe tbody tr th {\n",
       "        vertical-align: top;\n",
       "    }\n",
       "\n",
       "    .dataframe thead th {\n",
       "        text-align: right;\n",
       "    }\n",
       "</style>\n",
       "<table border=\"1\" class=\"dataframe\">\n",
       "  <thead>\n",
       "    <tr style=\"text-align: right;\">\n",
       "      <th></th>\n",
       "      <th>x</th>\n",
       "      <th>y</th>\n",
       "      <th>geometry</th>\n",
       "    </tr>\n",
       "  </thead>\n",
       "  <tbody>\n",
       "    <tr>\n",
       "      <th>0</th>\n",
       "      <td>0</td>\n",
       "      <td>150</td>\n",
       "      <td>POLYGON ((119.78583 15.70870, 119.79482 15.708...</td>\n",
       "    </tr>\n",
       "    <tr>\n",
       "      <th>1</th>\n",
       "      <td>0</td>\n",
       "      <td>151</td>\n",
       "      <td>POLYGON ((119.78583 15.71735, 119.79482 15.717...</td>\n",
       "    </tr>\n",
       "    <tr>\n",
       "      <th>2</th>\n",
       "      <td>0</td>\n",
       "      <td>152</td>\n",
       "      <td>POLYGON ((119.78583 15.72599, 119.79482 15.725...</td>\n",
       "    </tr>\n",
       "    <tr>\n",
       "      <th>3</th>\n",
       "      <td>0</td>\n",
       "      <td>153</td>\n",
       "      <td>POLYGON ((119.78583 15.73464, 119.79482 15.734...</td>\n",
       "    </tr>\n",
       "    <tr>\n",
       "      <th>4</th>\n",
       "      <td>0</td>\n",
       "      <td>154</td>\n",
       "      <td>POLYGON ((119.78583 15.74329, 119.79482 15.743...</td>\n",
       "    </tr>\n",
       "    <tr>\n",
       "      <th>5</th>\n",
       "      <td>0</td>\n",
       "      <td>155</td>\n",
       "      <td>POLYGON ((119.78583 15.75193, 119.79482 15.751...</td>\n",
       "    </tr>\n",
       "    <tr>\n",
       "      <th>7</th>\n",
       "      <td>1</td>\n",
       "      <td>150</td>\n",
       "      <td>POLYGON ((119.79482 15.70870, 119.80380 15.708...</td>\n",
       "    </tr>\n",
       "    <tr>\n",
       "      <th>8</th>\n",
       "      <td>1</td>\n",
       "      <td>151</td>\n",
       "      <td>POLYGON ((119.79482 15.71735, 119.80380 15.717...</td>\n",
       "    </tr>\n",
       "    <tr>\n",
       "      <th>9</th>\n",
       "      <td>1</td>\n",
       "      <td>152</td>\n",
       "      <td>POLYGON ((119.79482 15.72599, 119.80380 15.725...</td>\n",
       "    </tr>\n",
       "    <tr>\n",
       "      <th>10</th>\n",
       "      <td>1</td>\n",
       "      <td>153</td>\n",
       "      <td>POLYGON ((119.79482 15.73464, 119.80380 15.734...</td>\n",
       "    </tr>\n",
       "    <tr>\n",
       "      <th>11</th>\n",
       "      <td>1</td>\n",
       "      <td>154</td>\n",
       "      <td>POLYGON ((119.79482 15.74329, 119.80380 15.743...</td>\n",
       "    </tr>\n",
       "    <tr>\n",
       "      <th>12</th>\n",
       "      <td>1</td>\n",
       "      <td>155</td>\n",
       "      <td>POLYGON ((119.79482 15.75193, 119.80380 15.751...</td>\n",
       "    </tr>\n",
       "    <tr>\n",
       "      <th>14</th>\n",
       "      <td>2</td>\n",
       "      <td>150</td>\n",
       "      <td>POLYGON ((119.80380 15.70870, 119.81278 15.708...</td>\n",
       "    </tr>\n",
       "    <tr>\n",
       "      <th>15</th>\n",
       "      <td>2</td>\n",
       "      <td>151</td>\n",
       "      <td>POLYGON ((119.80380 15.71735, 119.81278 15.717...</td>\n",
       "    </tr>\n",
       "    <tr>\n",
       "      <th>16</th>\n",
       "      <td>2</td>\n",
       "      <td>152</td>\n",
       "      <td>POLYGON ((119.80380 15.72599, 119.81278 15.725...</td>\n",
       "    </tr>\n",
       "    <tr>\n",
       "      <th>17</th>\n",
       "      <td>2</td>\n",
       "      <td>153</td>\n",
       "      <td>POLYGON ((119.80380 15.73464, 119.81278 15.734...</td>\n",
       "    </tr>\n",
       "    <tr>\n",
       "      <th>18</th>\n",
       "      <td>2</td>\n",
       "      <td>154</td>\n",
       "      <td>POLYGON ((119.80380 15.74329, 119.81278 15.743...</td>\n",
       "    </tr>\n",
       "    <tr>\n",
       "      <th>19</th>\n",
       "      <td>2</td>\n",
       "      <td>155</td>\n",
       "      <td>POLYGON ((119.80380 15.75193, 119.81278 15.751...</td>\n",
       "    </tr>\n",
       "    <tr>\n",
       "      <th>21</th>\n",
       "      <td>3</td>\n",
       "      <td>150</td>\n",
       "      <td>POLYGON ((119.81278 15.70870, 119.82177 15.708...</td>\n",
       "    </tr>\n",
       "    <tr>\n",
       "      <th>22</th>\n",
       "      <td>3</td>\n",
       "      <td>151</td>\n",
       "      <td>POLYGON ((119.81278 15.71735, 119.82177 15.717...</td>\n",
       "    </tr>\n",
       "    <tr>\n",
       "      <th>23</th>\n",
       "      <td>3</td>\n",
       "      <td>152</td>\n",
       "      <td>POLYGON ((119.81278 15.72599, 119.82177 15.725...</td>\n",
       "    </tr>\n",
       "    <tr>\n",
       "      <th>24</th>\n",
       "      <td>3</td>\n",
       "      <td>153</td>\n",
       "      <td>POLYGON ((119.81278 15.73464, 119.82177 15.734...</td>\n",
       "    </tr>\n",
       "    <tr>\n",
       "      <th>25</th>\n",
       "      <td>3</td>\n",
       "      <td>154</td>\n",
       "      <td>POLYGON ((119.81278 15.74329, 119.82177 15.743...</td>\n",
       "    </tr>\n",
       "    <tr>\n",
       "      <th>26</th>\n",
       "      <td>3</td>\n",
       "      <td>155</td>\n",
       "      <td>POLYGON ((119.81278 15.75193, 119.82177 15.751...</td>\n",
       "    </tr>\n",
       "    <tr>\n",
       "      <th>28</th>\n",
       "      <td>4</td>\n",
       "      <td>150</td>\n",
       "      <td>POLYGON ((119.82177 15.70870, 119.83075 15.708...</td>\n",
       "    </tr>\n",
       "    <tr>\n",
       "      <th>29</th>\n",
       "      <td>4</td>\n",
       "      <td>151</td>\n",
       "      <td>POLYGON ((119.82177 15.71735, 119.83075 15.717...</td>\n",
       "    </tr>\n",
       "    <tr>\n",
       "      <th>30</th>\n",
       "      <td>4</td>\n",
       "      <td>152</td>\n",
       "      <td>POLYGON ((119.82177 15.72599, 119.83075 15.725...</td>\n",
       "    </tr>\n",
       "    <tr>\n",
       "      <th>31</th>\n",
       "      <td>4</td>\n",
       "      <td>153</td>\n",
       "      <td>POLYGON ((119.82177 15.73464, 119.83075 15.734...</td>\n",
       "    </tr>\n",
       "    <tr>\n",
       "      <th>32</th>\n",
       "      <td>4</td>\n",
       "      <td>154</td>\n",
       "      <td>POLYGON ((119.82177 15.74329, 119.83075 15.743...</td>\n",
       "    </tr>\n",
       "    <tr>\n",
       "      <th>33</th>\n",
       "      <td>4</td>\n",
       "      <td>155</td>\n",
       "      <td>POLYGON ((119.82177 15.75193, 119.83075 15.751...</td>\n",
       "    </tr>\n",
       "    <tr>\n",
       "      <th>35</th>\n",
       "      <td>5</td>\n",
       "      <td>150</td>\n",
       "      <td>POLYGON ((119.83075 15.70870, 119.83973 15.708...</td>\n",
       "    </tr>\n",
       "    <tr>\n",
       "      <th>36</th>\n",
       "      <td>5</td>\n",
       "      <td>151</td>\n",
       "      <td>POLYGON ((119.83075 15.71735, 119.83973 15.717...</td>\n",
       "    </tr>\n",
       "    <tr>\n",
       "      <th>37</th>\n",
       "      <td>5</td>\n",
       "      <td>152</td>\n",
       "      <td>POLYGON ((119.83075 15.72599, 119.83973 15.725...</td>\n",
       "    </tr>\n",
       "    <tr>\n",
       "      <th>38</th>\n",
       "      <td>5</td>\n",
       "      <td>153</td>\n",
       "      <td>POLYGON ((119.83075 15.73464, 119.83973 15.734...</td>\n",
       "    </tr>\n",
       "    <tr>\n",
       "      <th>39</th>\n",
       "      <td>5</td>\n",
       "      <td>154</td>\n",
       "      <td>POLYGON ((119.83075 15.74329, 119.83973 15.743...</td>\n",
       "    </tr>\n",
       "    <tr>\n",
       "      <th>40</th>\n",
       "      <td>5</td>\n",
       "      <td>155</td>\n",
       "      <td>POLYGON ((119.83075 15.75193, 119.83973 15.751...</td>\n",
       "    </tr>\n",
       "  </tbody>\n",
       "</table>\n",
       "</div>"
      ],
      "text/plain": [
       "    x    y                                           geometry\n",
       "0   0  150  POLYGON ((119.78583 15.70870, 119.79482 15.708...\n",
       "1   0  151  POLYGON ((119.78583 15.71735, 119.79482 15.717...\n",
       "2   0  152  POLYGON ((119.78583 15.72599, 119.79482 15.725...\n",
       "3   0  153  POLYGON ((119.78583 15.73464, 119.79482 15.734...\n",
       "4   0  154  POLYGON ((119.78583 15.74329, 119.79482 15.743...\n",
       "5   0  155  POLYGON ((119.78583 15.75193, 119.79482 15.751...\n",
       "7   1  150  POLYGON ((119.79482 15.70870, 119.80380 15.708...\n",
       "8   1  151  POLYGON ((119.79482 15.71735, 119.80380 15.717...\n",
       "9   1  152  POLYGON ((119.79482 15.72599, 119.80380 15.725...\n",
       "10  1  153  POLYGON ((119.79482 15.73464, 119.80380 15.734...\n",
       "11  1  154  POLYGON ((119.79482 15.74329, 119.80380 15.743...\n",
       "12  1  155  POLYGON ((119.79482 15.75193, 119.80380 15.751...\n",
       "14  2  150  POLYGON ((119.80380 15.70870, 119.81278 15.708...\n",
       "15  2  151  POLYGON ((119.80380 15.71735, 119.81278 15.717...\n",
       "16  2  152  POLYGON ((119.80380 15.72599, 119.81278 15.725...\n",
       "17  2  153  POLYGON ((119.80380 15.73464, 119.81278 15.734...\n",
       "18  2  154  POLYGON ((119.80380 15.74329, 119.81278 15.743...\n",
       "19  2  155  POLYGON ((119.80380 15.75193, 119.81278 15.751...\n",
       "21  3  150  POLYGON ((119.81278 15.70870, 119.82177 15.708...\n",
       "22  3  151  POLYGON ((119.81278 15.71735, 119.82177 15.717...\n",
       "23  3  152  POLYGON ((119.81278 15.72599, 119.82177 15.725...\n",
       "24  3  153  POLYGON ((119.81278 15.73464, 119.82177 15.734...\n",
       "25  3  154  POLYGON ((119.81278 15.74329, 119.82177 15.743...\n",
       "26  3  155  POLYGON ((119.81278 15.75193, 119.82177 15.751...\n",
       "28  4  150  POLYGON ((119.82177 15.70870, 119.83075 15.708...\n",
       "29  4  151  POLYGON ((119.82177 15.71735, 119.83075 15.717...\n",
       "30  4  152  POLYGON ((119.82177 15.72599, 119.83075 15.725...\n",
       "31  4  153  POLYGON ((119.82177 15.73464, 119.83075 15.734...\n",
       "32  4  154  POLYGON ((119.82177 15.74329, 119.83075 15.743...\n",
       "33  4  155  POLYGON ((119.82177 15.75193, 119.83075 15.751...\n",
       "35  5  150  POLYGON ((119.83075 15.70870, 119.83973 15.708...\n",
       "36  5  151  POLYGON ((119.83075 15.71735, 119.83973 15.717...\n",
       "37  5  152  POLYGON ((119.83075 15.72599, 119.83973 15.725...\n",
       "38  5  153  POLYGON ((119.83075 15.73464, 119.83973 15.734...\n",
       "39  5  154  POLYGON ((119.83075 15.74329, 119.83973 15.743...\n",
       "40  5  155  POLYGON ((119.83075 15.75193, 119.83973 15.751..."
      ]
     },
     "execution_count": 27,
     "metadata": {},
     "output_type": "execute_result"
    }
   ],
   "source": [
    "grids.SquareGridGenerator(\n",
    "    1000,\n",
    "    boundary=(119.7858332, 14.4075257, 122.2429921, 16.5092548),\n",
    ").generate_grid(cell1)"
   ]
  },
  {
   "cell_type": "code",
   "execution_count": 28,
   "id": "2eedcb28-9099-4e6c-9fa0-c83aa93bd649",
   "metadata": {},
   "outputs": [
    {
     "data": {
      "text/html": [
       "<div>\n",
       "<style scoped>\n",
       "    .dataframe tbody tr th:only-of-type {\n",
       "        vertical-align: middle;\n",
       "    }\n",
       "\n",
       "    .dataframe tbody tr th {\n",
       "        vertical-align: top;\n",
       "    }\n",
       "\n",
       "    .dataframe thead th {\n",
       "        text-align: right;\n",
       "    }\n",
       "</style>\n",
       "<table border=\"1\" class=\"dataframe\">\n",
       "  <thead>\n",
       "    <tr style=\"text-align: right;\">\n",
       "      <th></th>\n",
       "      <th>x</th>\n",
       "      <th>y</th>\n",
       "      <th>geometry</th>\n",
       "    </tr>\n",
       "  </thead>\n",
       "  <tbody>\n",
       "    <tr>\n",
       "      <th>0</th>\n",
       "      <td>270</td>\n",
       "      <td>240</td>\n",
       "      <td>POLYGON ((122.21128 16.48548, 122.22027 16.485...</td>\n",
       "    </tr>\n",
       "    <tr>\n",
       "      <th>1</th>\n",
       "      <td>270</td>\n",
       "      <td>241</td>\n",
       "      <td>POLYGON ((122.21128 16.49409, 122.22027 16.494...</td>\n",
       "    </tr>\n",
       "    <tr>\n",
       "      <th>2</th>\n",
       "      <td>270</td>\n",
       "      <td>242</td>\n",
       "      <td>POLYGON ((122.21128 16.50270, 122.22027 16.502...</td>\n",
       "    </tr>\n",
       "    <tr>\n",
       "      <th>3</th>\n",
       "      <td>271</td>\n",
       "      <td>240</td>\n",
       "      <td>POLYGON ((122.22027 16.48548, 122.22925 16.485...</td>\n",
       "    </tr>\n",
       "    <tr>\n",
       "      <th>4</th>\n",
       "      <td>271</td>\n",
       "      <td>241</td>\n",
       "      <td>POLYGON ((122.22027 16.49409, 122.22925 16.494...</td>\n",
       "    </tr>\n",
       "    <tr>\n",
       "      <th>5</th>\n",
       "      <td>271</td>\n",
       "      <td>242</td>\n",
       "      <td>POLYGON ((122.22027 16.50270, 122.22925 16.502...</td>\n",
       "    </tr>\n",
       "    <tr>\n",
       "      <th>6</th>\n",
       "      <td>272</td>\n",
       "      <td>240</td>\n",
       "      <td>POLYGON ((122.22925 16.48548, 122.23823 16.485...</td>\n",
       "    </tr>\n",
       "    <tr>\n",
       "      <th>7</th>\n",
       "      <td>272</td>\n",
       "      <td>241</td>\n",
       "      <td>POLYGON ((122.22925 16.49409, 122.23823 16.494...</td>\n",
       "    </tr>\n",
       "    <tr>\n",
       "      <th>8</th>\n",
       "      <td>272</td>\n",
       "      <td>242</td>\n",
       "      <td>POLYGON ((122.22925 16.50270, 122.23823 16.502...</td>\n",
       "    </tr>\n",
       "    <tr>\n",
       "      <th>9</th>\n",
       "      <td>273</td>\n",
       "      <td>240</td>\n",
       "      <td>POLYGON ((122.23823 16.48548, 122.24722 16.485...</td>\n",
       "    </tr>\n",
       "    <tr>\n",
       "      <th>10</th>\n",
       "      <td>273</td>\n",
       "      <td>241</td>\n",
       "      <td>POLYGON ((122.23823 16.49409, 122.24722 16.494...</td>\n",
       "    </tr>\n",
       "    <tr>\n",
       "      <th>11</th>\n",
       "      <td>273</td>\n",
       "      <td>242</td>\n",
       "      <td>POLYGON ((122.23823 16.50270, 122.24722 16.502...</td>\n",
       "    </tr>\n",
       "  </tbody>\n",
       "</table>\n",
       "</div>"
      ],
      "text/plain": [
       "      x    y                                           geometry\n",
       "0   270  240  POLYGON ((122.21128 16.48548, 122.22027 16.485...\n",
       "1   270  241  POLYGON ((122.21128 16.49409, 122.22027 16.494...\n",
       "2   270  242  POLYGON ((122.21128 16.50270, 122.22027 16.502...\n",
       "3   271  240  POLYGON ((122.22027 16.48548, 122.22925 16.485...\n",
       "4   271  241  POLYGON ((122.22027 16.49409, 122.22925 16.494...\n",
       "5   271  242  POLYGON ((122.22027 16.50270, 122.22925 16.502...\n",
       "6   272  240  POLYGON ((122.22925 16.48548, 122.23823 16.485...\n",
       "7   272  241  POLYGON ((122.22925 16.49409, 122.23823 16.494...\n",
       "8   272  242  POLYGON ((122.22925 16.50270, 122.23823 16.502...\n",
       "9   273  240  POLYGON ((122.23823 16.48548, 122.24722 16.485...\n",
       "10  273  241  POLYGON ((122.23823 16.49409, 122.24722 16.494...\n",
       "11  273  242  POLYGON ((122.23823 16.50270, 122.24722 16.502..."
      ]
     },
     "execution_count": 28,
     "metadata": {},
     "output_type": "execute_result"
    }
   ],
   "source": [
    "grids.SquareGridGenerator(\n",
    "    1000,\n",
    "    boundary=(119.7858332, 14.4075257, 122.2429921, 16.5092548),\n",
    ").generate_grid(cell2)"
   ]
  },
  {
   "cell_type": "markdown",
   "id": "39f1ea27-9790-44fe-b5c0-f4bc774f608b",
   "metadata": {},
   "source": [
    "## Generating grids for multiple distant areas\n",
    "If you are using AOIs that are vary far from each other, it might be better to use custom boundary and iterate througout each aoi 1 at a time.\n"
   ]
  },
  {
   "cell_type": "code",
   "execution_count": 29,
   "id": "b11dd398-205c-4a4d-818a-7a26c374b806",
   "metadata": {},
   "outputs": [
    {
     "data": {
      "text/plain": [
       "<AxesSubplot:>"
      ]
     },
     "execution_count": 29,
     "metadata": {},
     "output_type": "execute_result"
    },
    {
     "data": {
      "image/png": "[encoded data removed]",
      "text/plain": [
       "<Figure size 432x288 with 1 Axes>"
      ]
     },
     "metadata": {
      "needs_background": "light"
     },
     "output_type": "display_data"
    }
   ],
   "source": [
    "sparse_aois = grid_gdf15k.iloc[\n",
    "    0:1000:3,\n",
    "]  # Get areas that far from each other\n",
    "ax = region3_gdf.plot()\n",
    "sparse_aois.plot(ax=ax, facecolor=\"none\", edgecolor=\"green\")"
   ]
  },
  {
   "cell_type": "code",
   "execution_count": 30,
   "id": "295ef464-9ee0-42a4-939f-475168e32533",
   "metadata": {},
   "outputs": [],
   "source": [
    "collection = []\n",
    "grid_generator = grids.SquareGridGenerator(\n",
    "    1000,\n",
    "    boundary=(119.7858332, 14.4075257, 122.2429921, 16.5092548),\n",
    ")\n",
    "for idx, area in sparse_aois.iterrows():  # Iterate thought each aoi one at a time\n",
    "    collection.append(\n",
    "        grid_generator.generate_grid(\n",
    "            gpd.GeoDataFrame(\n",
    "                [area], crs=sparse_aois.crs  # Create a geodataframe with 1 row\n",
    "            )\n",
    "        )\n",
    "    )\n",
    "sparse_grid = pd.concat(collection)"
   ]
  },
  {
   "cell_type": "code",
   "execution_count": 31,
   "id": "c5b73551-6e4a-40af-b51a-600513f3b2e0",
   "metadata": {},
   "outputs": [
    {
     "data": {
      "text/plain": [
       "<AxesSubplot:>"
      ]
     },
     "execution_count": 31,
     "metadata": {},
     "output_type": "execute_result"
    },
    {
     "data": {
      "image/png": "[encoded data removed]",
      "text/plain": [
       "<Figure size 432x288 with 1 Axes>"
      ]
     },
     "metadata": {
      "needs_background": "light"
     },
     "output_type": "display_data"
    }
   ],
   "source": [
    "ax = region3_gdf.plot()\n",
    "sparse_grid.plot(ax=ax, facecolor=\"none\", edgecolor=\"green\")"
   ]
  },
  {
   "cell_type": "markdown",
   "id": "b908a06c",
   "metadata": {},
   "source": [
    "It is a bit hard to see the grids so, we get a subset to verify."
   ]
  },
  {
   "cell_type": "code",
   "execution_count": 32,
   "id": "2365f4e2-34b2-4f37-ac49-54a278bdc754",
   "metadata": {},
   "outputs": [
    {
     "data": {
      "text/plain": [
       "<AxesSubplot:>"
      ]
     },
     "execution_count": 32,
     "metadata": {},
     "output_type": "execute_result"
    },
    {
     "data": {
      "image/png": "[encoded data removed]",
      "text/plain": [
       "<Figure size 432x288 with 1 Axes>"
      ]
     },
     "metadata": {
      "needs_background": "light"
     },
     "output_type": "display_data"
    }
   ],
   "source": [
    "sparse_grid.head(1000).plot(facecolor=\"none\", edgecolor=\"green\")"
   ]
  },
  {
   "cell_type": "markdown",
   "id": "2049488a-0f70-4196-a227-9022d47fecf2",
   "metadata": {},
   "source": [
    "There might be some duplicates using this method if the aois area adjacent or near each other, you can remove the duplicates using the `x` and `y` columns. The combination of `x` and `y` will be unique as long as you pass in the same boundary and cell size."
   ]
  },
  {
   "cell_type": "code",
   "execution_count": 33,
   "id": "3a840503-05f5-4386-8f40-c49daec77da3",
   "metadata": {},
   "outputs": [
    {
     "data": {
      "text/html": [
       "<div>\n",
       "<style scoped>\n",
       "    .dataframe tbody tr th:only-of-type {\n",
       "        vertical-align: middle;\n",
       "    }\n",
       "\n",
       "    .dataframe tbody tr th {\n",
       "        vertical-align: top;\n",
       "    }\n",
       "\n",
       "    .dataframe thead th {\n",
       "        text-align: right;\n",
       "    }\n",
       "</style>\n",
       "<table border=\"1\" class=\"dataframe\">\n",
       "  <thead>\n",
       "    <tr style=\"text-align: right;\">\n",
       "      <th></th>\n",
       "      <th>index</th>\n",
       "      <th>x</th>\n",
       "      <th>y</th>\n",
       "      <th>geometry</th>\n",
       "    </tr>\n",
       "  </thead>\n",
       "  <tbody>\n",
       "    <tr>\n",
       "      <th>0</th>\n",
       "      <td>0</td>\n",
       "      <td>0</td>\n",
       "      <td>106</td>\n",
       "      <td>POLYGON ((119.78583 15.32785, 119.79482 15.327...</td>\n",
       "    </tr>\n",
       "    <tr>\n",
       "      <th>1</th>\n",
       "      <td>1</td>\n",
       "      <td>0</td>\n",
       "      <td>107</td>\n",
       "      <td>POLYGON ((119.78583 15.33651, 119.79482 15.336...</td>\n",
       "    </tr>\n",
       "    <tr>\n",
       "      <th>2</th>\n",
       "      <td>2</td>\n",
       "      <td>0</td>\n",
       "      <td>108</td>\n",
       "      <td>POLYGON ((119.78583 15.34518, 119.79482 15.345...</td>\n",
       "    </tr>\n",
       "    <tr>\n",
       "      <th>3</th>\n",
       "      <td>3</td>\n",
       "      <td>0</td>\n",
       "      <td>109</td>\n",
       "      <td>POLYGON ((119.78583 15.35384, 119.79482 15.353...</td>\n",
       "    </tr>\n",
       "    <tr>\n",
       "      <th>4</th>\n",
       "      <td>4</td>\n",
       "      <td>0</td>\n",
       "      <td>110</td>\n",
       "      <td>POLYGON ((119.78583 15.36250, 119.79482 15.362...</td>\n",
       "    </tr>\n",
       "    <tr>\n",
       "      <th>...</th>\n",
       "      <td>...</td>\n",
       "      <td>...</td>\n",
       "      <td>...</td>\n",
       "      <td>...</td>\n",
       "    </tr>\n",
       "    <tr>\n",
       "      <th>12539</th>\n",
       "      <td>7</td>\n",
       "      <td>272</td>\n",
       "      <td>241</td>\n",
       "      <td>POLYGON ((122.22925 16.49409, 122.23823 16.494...</td>\n",
       "    </tr>\n",
       "    <tr>\n",
       "      <th>12540</th>\n",
       "      <td>8</td>\n",
       "      <td>272</td>\n",
       "      <td>242</td>\n",
       "      <td>POLYGON ((122.22925 16.50270, 122.23823 16.502...</td>\n",
       "    </tr>\n",
       "    <tr>\n",
       "      <th>12541</th>\n",
       "      <td>9</td>\n",
       "      <td>273</td>\n",
       "      <td>240</td>\n",
       "      <td>POLYGON ((122.23823 16.48548, 122.24722 16.485...</td>\n",
       "    </tr>\n",
       "    <tr>\n",
       "      <th>12542</th>\n",
       "      <td>10</td>\n",
       "      <td>273</td>\n",
       "      <td>241</td>\n",
       "      <td>POLYGON ((122.23823 16.49409, 122.24722 16.494...</td>\n",
       "    </tr>\n",
       "    <tr>\n",
       "      <th>12543</th>\n",
       "      <td>11</td>\n",
       "      <td>273</td>\n",
       "      <td>242</td>\n",
       "      <td>POLYGON ((122.23823 16.50270, 122.24722 16.502...</td>\n",
       "    </tr>\n",
       "  </tbody>\n",
       "</table>\n",
       "<p>12544 rows × 4 columns</p>\n",
       "</div>"
      ],
      "text/plain": [
       "       index    x    y                                           geometry\n",
       "0          0    0  106  POLYGON ((119.78583 15.32785, 119.79482 15.327...\n",
       "1          1    0  107  POLYGON ((119.78583 15.33651, 119.79482 15.336...\n",
       "2          2    0  108  POLYGON ((119.78583 15.34518, 119.79482 15.345...\n",
       "3          3    0  109  POLYGON ((119.78583 15.35384, 119.79482 15.353...\n",
       "4          4    0  110  POLYGON ((119.78583 15.36250, 119.79482 15.362...\n",
       "...      ...  ...  ...                                                ...\n",
       "12539      7  272  241  POLYGON ((122.22925 16.49409, 122.23823 16.494...\n",
       "12540      8  272  242  POLYGON ((122.22925 16.50270, 122.23823 16.502...\n",
       "12541      9  273  240  POLYGON ((122.23823 16.48548, 122.24722 16.485...\n",
       "12542     10  273  241  POLYGON ((122.23823 16.49409, 122.24722 16.494...\n",
       "12543     11  273  242  POLYGON ((122.23823 16.50270, 122.24722 16.502...\n",
       "\n",
       "[12544 rows x 4 columns]"
      ]
     },
     "execution_count": 33,
     "metadata": {},
     "output_type": "execute_result"
    }
   ],
   "source": [
    "final_sparse_grid = sparse_grid[~sparse_grid[[\"x\", \"y\"]].duplicated()].reset_index()\n",
    "final_sparse_grid"
   ]
  }
 ],
 "metadata": {
  "kernelspec": {
   "display_name": "Python 3 (ipykernel)",
   "language": "python",
   "name": "python3"
  },
  "language_info": {
   "codemirror_mode": {
    "name": "ipython",
    "version": 3
   },
   "file_extension": ".py",
   "mimetype": "text/x-python",
   "name": "python",
   "nbconvert_exporter": "python",
   "pygments_lexer": "ipython3",
   "version": "3.9.1"
  }
 },
 "nbformat": 4,
 "nbformat_minor": 5
}
